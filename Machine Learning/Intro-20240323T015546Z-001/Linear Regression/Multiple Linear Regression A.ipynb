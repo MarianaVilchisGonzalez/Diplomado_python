{
 "cells": [
  {
   "cell_type": "markdown",
   "id": "appointed-floor",
   "metadata": {},
   "source": [
    "# Multiple Linear Regression\n",
    "\n",
    "\n",
    "In the one-dimensional case we had:\n",
    "\n",
    "$$\\{ (x_1, y_1), (x_1, y_1), (x_1, y_1), \\cdots, (x_n, y_n) \\}$$\n",
    "\n",
    "Now, we still have this, but $x_i$ is a vector, not a scalar.\n",
    "\n",
    "$$\\hat{y} = w^T x + b $$\n",
    "\n",
    "we will call the size Dimensionality, and we will represent it by the letter $D$. note that $w$ is also of dimension $D$. We can always absorb $b$ into $w$ by appending a 1 to the feature vector $x$.\n",
    "\n",
    "- This is equivalent to adding a column of 1s to our data matrix $X$\n",
    "\n",
    "$$\\hat{y} = b + w_1 x_1 + w_2 x_2 + \\cdots + w_D x_D$$\n",
    "$$\\hat{y} = w_0 + w_1 x_1 + w_2 x_2 + \\cdots + w_D x_D$$\n",
    "$$\\hat{y} = w_0 x_0 + w_1 x_1 + w_2 x_2 + \\cdots + w_D x_D$$\n",
    "\n",
    "Where $x_0 = 1$ and so:\n",
    "\n",
    "$$\\hat{y} = w^T x$$\n",
    "\n",
    "Imagine that these are your $X$ matrix:\n",
    "\n",
    "$$\n",
    "X\n",
    "=\n",
    "\\begin{bmatrix}\n",
    "0 & 0 & 1\\\\\n",
    "0 & 1 & 0\\\\\n",
    "1 & 0 & 0\\\\\n",
    "1 & 1 & 1\\\\\n",
    "\\end{bmatrix}\n",
    "$$\n",
    "\n",
    "and\n",
    "\n",
    "$$\n",
    "w\n",
    "=\n",
    "\\begin{bmatrix}\n",
    "1 \\\\\n",
    "2 \\\\\n",
    "3 \\\\\n",
    "\\end{bmatrix}\n",
    "$$\n",
    "\n",
    "\n",
    "If we want to make a prediction with $x_1$\n",
    "\n",
    "$$\\hat{y_1} = w^T x_1\n",
    "=\n",
    "\\begin{bmatrix}\n",
    "1 & 2 & 3\\\\\n",
    "\\end{bmatrix}\n",
    "\\begin{bmatrix}\n",
    "0 \\\\\n",
    "0 \\\\\n",
    "1 \\\\\n",
    "\\end{bmatrix}\n",
    "= 3\n",
    "$$\n",
    "\n",
    "\n",
    "\n",
    "This is extremely tedious to do for each vector but we can do it all at once with the following operation:\n",
    "\n",
    "$$Y_{4 \\times 1} = X_{4 \\times 3} w_{3 \\times 1} =\n",
    "\\begin{bmatrix}\n",
    "0 & 0 & 1\\\\\n",
    "0 & 1 & 0\\\\\n",
    "1 & 0 & 0\\\\\n",
    "1 & 1 & 1\\\\\n",
    "\\end{bmatrix}_{4 \\times 3}\n",
    "\\begin{bmatrix}\n",
    "1 \\\\\n",
    "2 \\\\\n",
    "3 \\\\\n",
    "\\end{bmatrix}_{3 \\times 1}\n",
    "$$"
   ]
  },
  {
   "cell_type": "markdown",
   "id": "caring-apple",
   "metadata": {},
   "source": [
    "##  Calculus\n",
    "\n",
    "\n",
    "Now we must optimize the cost function again, luckily it has not changed.\n",
    "\n",
    "$$S(w) = \\sum e_{i}^{2} = \\sum (y_i - \\hat{y}_i)^2 = \\sum (y_i - w^T x_i)^2$$\n",
    "\n",
    "\n",
    "\n",
    "Now let's find the derivative for each of the $w_j$\n",
    "\n",
    "$$\\frac{\\partial S}{\\partial w_j} = \\sum 2(y_i - \\hat{y}_i) (- x_{ij})$$\n",
    "\n",
    "\n",
    "\n",
    "we equal 0 each:\n",
    "\n",
    "$$\\sum y_i(- x_{ij}) - \\sum w^T x_i(- x_{ij}) = 0$$\n",
    "$$\\sum w^T x_i(- x_{ij}) = \\sum y_i(- x_{ij})$$\n",
    "\n",
    "We can take $w^T$ from the sum\n",
    "\n",
    "$$w^T  \\sum x_i(- x_{ij}) = \\sum y_i(- x_{ij})$$\n",
    "\n",
    "\n",
    "This must be done for each of the $w_j$\n",
    "\n",
    "$$w^T  \\sum x_i(- x_{i1}) = \\sum y_i(- x_{i1})$$\n",
    "$$w^T  \\sum x_i(- x_{i2}) = \\sum y_i(- x_{i2})$$\n",
    "$$\\vdots$$\n",
    "$$w^T  \\sum x_i(- x_{iD}) = \\sum y_i(- x_{iD})$$\n",
    "\n",
    "\n",
    "\n",
    "We can rewrite them all together as follows:\n",
    "\n",
    "$$w^T (X^T X) = y^T X$$\n",
    "\n",
    "\n",
    "We transpose again ($(A^T B)^T = B^T A$).\n",
    "\n",
    "$$ (X^T X) w = X^T y$$\n",
    "\n",
    "Noticing that $(X^T X)^T = (X^T X)$\n",
    "\n",
    "\n",
    "Finally we multiply by the inverse of $(X^T X)$\n",
    "\n",
    "$$ w = (X^T X)^{-1} X^T y$$"
   ]
  },
  {
   "cell_type": "markdown",
   "id": "1043d4ce",
   "metadata": {},
   "source": [
    "$$X_{n \\times D + 1}$$"
   ]
  },
  {
   "cell_type": "markdown",
   "id": "4a98ace5",
   "metadata": {},
   "source": [
    "$$y_{n \\times 1}$$"
   ]
  },
  {
   "cell_type": "markdown",
   "id": "a39e1366",
   "metadata": {},
   "source": [
    "$$(X^T X)_{D + 1 \\times D + 1}$$"
   ]
  },
  {
   "cell_type": "markdown",
   "id": "0190c69a",
   "metadata": {},
   "source": [
    "$$(X^T X)^{-1}_{D + 1 \\times D + 1}$$"
   ]
  },
  {
   "cell_type": "markdown",
   "id": "0b34f74f",
   "metadata": {},
   "source": [
    "$$((X^T X)^{-1} X^T )_{D + 1 \\times n}$$"
   ]
  },
  {
   "cell_type": "markdown",
   "id": "3c7660c4",
   "metadata": {},
   "source": [
    "$$((X^T X)^{-1} X^T y)_{D + 1 \\times 1} = w_{D + 1 \\times 1}$$"
   ]
  },
  {
   "cell_type": "markdown",
   "id": "frozen-wrapping",
   "metadata": {},
   "source": [
    "## Exercise\n",
    "\n",
    "implements multiple linear regression"
   ]
  },
  {
   "cell_type": "code",
   "execution_count": 1,
   "id": "acquired-plenty",
   "metadata": {},
   "outputs": [],
   "source": [
    "import numpy as np\n",
    "import pandas as pd\n",
    "import matplotlib.pyplot as plt\n",
    "import seaborn as sns\n",
    "from jupyterthemes import jtplot\n",
    "from mpl_toolkits.mplot3d import Axes3D\n",
    "%matplotlib inline"
   ]
  },
  {
   "cell_type": "code",
   "execution_count": 2,
   "id": "progressive-payroll",
   "metadata": {},
   "outputs": [],
   "source": [
    "jtplot.style()"
   ]
  },
  {
   "cell_type": "code",
   "execution_count": 3,
   "id": "brutal-lawyer",
   "metadata": {},
   "outputs": [],
   "source": [
    "data = pd.read_csv('data_2d.csv', names = ['X1', 'X2', 'y'])"
   ]
  },
  {
   "cell_type": "code",
   "execution_count": 4,
   "id": "0bc00cf2",
   "metadata": {},
   "outputs": [
    {
     "data": {
      "text/html": [
       "<div>\n",
       "<style scoped>\n",
       "    .dataframe tbody tr th:only-of-type {\n",
       "        vertical-align: middle;\n",
       "    }\n",
       "\n",
       "    .dataframe tbody tr th {\n",
       "        vertical-align: top;\n",
       "    }\n",
       "\n",
       "    .dataframe thead th {\n",
       "        text-align: right;\n",
       "    }\n",
       "</style>\n",
       "<table border=\"1\" class=\"dataframe\">\n",
       "  <thead>\n",
       "    <tr style=\"text-align: right;\">\n",
       "      <th></th>\n",
       "      <th>X1</th>\n",
       "      <th>X2</th>\n",
       "      <th>y</th>\n",
       "    </tr>\n",
       "  </thead>\n",
       "  <tbody>\n",
       "    <tr>\n",
       "      <th>0</th>\n",
       "      <td>17.930201</td>\n",
       "      <td>94.520592</td>\n",
       "      <td>320.259530</td>\n",
       "    </tr>\n",
       "    <tr>\n",
       "      <th>1</th>\n",
       "      <td>97.144697</td>\n",
       "      <td>69.593282</td>\n",
       "      <td>404.634472</td>\n",
       "    </tr>\n",
       "    <tr>\n",
       "      <th>2</th>\n",
       "      <td>81.775901</td>\n",
       "      <td>5.737648</td>\n",
       "      <td>181.485108</td>\n",
       "    </tr>\n",
       "    <tr>\n",
       "      <th>3</th>\n",
       "      <td>55.854342</td>\n",
       "      <td>70.325902</td>\n",
       "      <td>321.773638</td>\n",
       "    </tr>\n",
       "    <tr>\n",
       "      <th>4</th>\n",
       "      <td>49.366550</td>\n",
       "      <td>75.114040</td>\n",
       "      <td>322.465486</td>\n",
       "    </tr>\n",
       "    <tr>\n",
       "      <th>...</th>\n",
       "      <td>...</td>\n",
       "      <td>...</td>\n",
       "      <td>...</td>\n",
       "    </tr>\n",
       "    <tr>\n",
       "      <th>95</th>\n",
       "      <td>46.456779</td>\n",
       "      <td>82.000171</td>\n",
       "      <td>336.876154</td>\n",
       "    </tr>\n",
       "    <tr>\n",
       "      <th>96</th>\n",
       "      <td>77.130301</td>\n",
       "      <td>95.188759</td>\n",
       "      <td>438.460586</td>\n",
       "    </tr>\n",
       "    <tr>\n",
       "      <th>97</th>\n",
       "      <td>68.600608</td>\n",
       "      <td>72.571181</td>\n",
       "      <td>355.900287</td>\n",
       "    </tr>\n",
       "    <tr>\n",
       "      <th>98</th>\n",
       "      <td>41.693887</td>\n",
       "      <td>69.241126</td>\n",
       "      <td>284.834637</td>\n",
       "    </tr>\n",
       "    <tr>\n",
       "      <th>99</th>\n",
       "      <td>4.142669</td>\n",
       "      <td>52.254726</td>\n",
       "      <td>168.034401</td>\n",
       "    </tr>\n",
       "  </tbody>\n",
       "</table>\n",
       "<p>100 rows × 3 columns</p>\n",
       "</div>"
      ],
      "text/plain": [
       "           X1         X2           y\n",
       "0   17.930201  94.520592  320.259530\n",
       "1   97.144697  69.593282  404.634472\n",
       "2   81.775901   5.737648  181.485108\n",
       "3   55.854342  70.325902  321.773638\n",
       "4   49.366550  75.114040  322.465486\n",
       "..        ...        ...         ...\n",
       "95  46.456779  82.000171  336.876154\n",
       "96  77.130301  95.188759  438.460586\n",
       "97  68.600608  72.571181  355.900287\n",
       "98  41.693887  69.241126  284.834637\n",
       "99   4.142669  52.254726  168.034401\n",
       "\n",
       "[100 rows x 3 columns]"
      ]
     },
     "execution_count": 4,
     "metadata": {},
     "output_type": "execute_result"
    }
   ],
   "source": [
    "data"
   ]
  },
  {
   "cell_type": "code",
   "execution_count": 5,
   "id": "a9c28743",
   "metadata": {},
   "outputs": [],
   "source": [
    "class Regressors:\n",
    "    \n",
    "    def score(self, y_pred, y_real):\n",
    "        return 1 - ((y_real - y_pred) ** 2).sum() / ((y_real - y_real.mean()) ** 2).sum()"
   ]
  },
  {
   "cell_type": "code",
   "execution_count": 24,
   "id": "6da4141d",
   "metadata": {},
   "outputs": [],
   "source": [
    "class LinearRegressor(Regressors):\n",
    "    \n",
    "    def fit(self, X_train, y_train):\n",
    "        \n",
    "        new_col = np.ones(X_train.shape[0])\n",
    "        X_train = np.column_stack([X_train, new_col])\n",
    "    \n",
    "        \n",
    "        inv = np.linalg.inv(X_train.T.dot(X_train))\n",
    "        \n",
    "        self.w = inv.dot(X_train.T).dot(y_train)\n",
    "        \n",
    "    def predict(self, X):\n",
    "        new_col = np.ones(X.shape[0])\n",
    "        X = np.column_stack([X, new_col])\n",
    "        \n",
    "        return X.dot(self.w)"
   ]
  },
  {
   "cell_type": "code",
   "execution_count": 25,
   "id": "67d8d144",
   "metadata": {},
   "outputs": [],
   "source": [
    "X = data[[\"X1\", \"X2\"]].values"
   ]
  },
  {
   "cell_type": "code",
   "execution_count": 26,
   "id": "0f292b31",
   "metadata": {},
   "outputs": [],
   "source": [
    "y = data['y'].values"
   ]
  },
  {
   "cell_type": "code",
   "execution_count": 27,
   "id": "a3e9a465",
   "metadata": {},
   "outputs": [],
   "source": [
    "model = LinearRegressor()"
   ]
  },
  {
   "cell_type": "code",
   "execution_count": 28,
   "id": "1ff48d75",
   "metadata": {},
   "outputs": [],
   "source": [
    "model.fit(X, y)"
   ]
  },
  {
   "cell_type": "code",
   "execution_count": 29,
   "id": "5dbf3afb",
   "metadata": {},
   "outputs": [
    {
     "data": {
      "text/plain": [
       "array([2.01666793, 2.96985048, 1.46191241])"
      ]
     },
     "execution_count": 29,
     "metadata": {},
     "output_type": "execute_result"
    }
   ],
   "source": [
    "model.w"
   ]
  },
  {
   "cell_type": "code",
   "execution_count": 30,
   "id": "7aa2525a",
   "metadata": {},
   "outputs": [
    {
     "data": {
      "text/plain": [
       "0.9980040612475778"
      ]
     },
     "execution_count": 30,
     "metadata": {},
     "output_type": "execute_result"
    }
   ],
   "source": [
    "model.score(model.predict(X), y)"
   ]
  },
  {
   "cell_type": "markdown",
   "id": "clinical-journalist",
   "metadata": {},
   "source": [
    "## Polynomial Regression\n",
    "\n",
    "We had already made transformations on the data in such a way that we were able to model phenomena that did not seem to have a linear relationship\n",
    "\n",
    "- In the linear regression model, what gives it its name is not the linearity of the input variables, but rather the linearity of the model parameters.\n",
    "\n",
    "\n",
    "Now that we know the multiple regression we can complete polynomials that weren't possible before like the following:\n",
    "\n",
    "$$\\hat{y} = w_0 + w_1 x + w_2 x^2$$"
   ]
  },
  {
   "cell_type": "code",
   "execution_count": 31,
   "id": "sudden-strategy",
   "metadata": {},
   "outputs": [],
   "source": [
    "data = pd.read_csv('data_poly.csv', names = ['X', 'y'])"
   ]
  },
  {
   "cell_type": "code",
   "execution_count": 32,
   "id": "bigger-sudan",
   "metadata": {},
   "outputs": [
    {
     "data": {
      "text/html": [
       "<div>\n",
       "<style scoped>\n",
       "    .dataframe tbody tr th:only-of-type {\n",
       "        vertical-align: middle;\n",
       "    }\n",
       "\n",
       "    .dataframe tbody tr th {\n",
       "        vertical-align: top;\n",
       "    }\n",
       "\n",
       "    .dataframe thead th {\n",
       "        text-align: right;\n",
       "    }\n",
       "</style>\n",
       "<table border=\"1\" class=\"dataframe\">\n",
       "  <thead>\n",
       "    <tr style=\"text-align: right;\">\n",
       "      <th></th>\n",
       "      <th>X</th>\n",
       "      <th>y</th>\n",
       "    </tr>\n",
       "  </thead>\n",
       "  <tbody>\n",
       "    <tr>\n",
       "      <th>0</th>\n",
       "      <td>76.700709</td>\n",
       "      <td>663.797276</td>\n",
       "    </tr>\n",
       "    <tr>\n",
       "      <th>1</th>\n",
       "      <td>95.273544</td>\n",
       "      <td>1014.362282</td>\n",
       "    </tr>\n",
       "    <tr>\n",
       "      <th>2</th>\n",
       "      <td>73.095723</td>\n",
       "      <td>618.938827</td>\n",
       "    </tr>\n",
       "    <tr>\n",
       "      <th>3</th>\n",
       "      <td>46.951635</td>\n",
       "      <td>288.012877</td>\n",
       "    </tr>\n",
       "    <tr>\n",
       "      <th>4</th>\n",
       "      <td>33.313748</td>\n",
       "      <td>144.977556</td>\n",
       "    </tr>\n",
       "  </tbody>\n",
       "</table>\n",
       "</div>"
      ],
      "text/plain": [
       "           X            y\n",
       "0  76.700709   663.797276\n",
       "1  95.273544  1014.362282\n",
       "2  73.095723   618.938827\n",
       "3  46.951635   288.012877\n",
       "4  33.313748   144.977556"
      ]
     },
     "execution_count": 32,
     "metadata": {},
     "output_type": "execute_result"
    }
   ],
   "source": [
    "data.head()"
   ]
  },
  {
   "cell_type": "code",
   "execution_count": 33,
   "id": "neural-swing",
   "metadata": {},
   "outputs": [
    {
     "data": {
      "image/png": "[encoded data removed]",
      "text/plain": [
       "<Figure size 936x576 with 1 Axes>"
      ]
     },
     "metadata": {},
     "output_type": "display_data"
    }
   ],
   "source": [
    "fig, ax = plt.subplots(figsize = (13, 8))\n",
    "\n",
    "ax.scatter(data['X'], data['y']);"
   ]
  },
  {
   "cell_type": "markdown",
   "id": "adapted-neighbor",
   "metadata": {},
   "source": [
    "\n",
    "This can provide an alternative solution to the problem of cars that we have seen before."
   ]
  },
  {
   "cell_type": "code",
   "execution_count": 35,
   "id": "mental-intensity",
   "metadata": {},
   "outputs": [],
   "source": [
    "x, y = data['X'].values, data['y'].values"
   ]
  },
  {
   "cell_type": "code",
   "execution_count": 36,
   "id": "2ff67086",
   "metadata": {},
   "outputs": [],
   "source": [
    "model.fit(x ** 2, y)"
   ]
  },
  {
   "cell_type": "code",
   "execution_count": 37,
   "id": "6dd99ec0",
   "metadata": {},
   "outputs": [
    {
     "data": {
      "image/png": "[encoded data removed]",
      "text/plain": [
       "<Figure size 936x576 with 1 Axes>"
      ]
     },
     "metadata": {},
     "output_type": "display_data"
    }
   ],
   "source": [
    "fig, ax = plt.subplots(figsize = (13, 8))\n",
    "\n",
    "ax.scatter(data['X'], data['y'])\n",
    "ax.scatter(data['X'], model.predict(data['X'] ** 2));"
   ]
  },
  {
   "cell_type": "code",
   "execution_count": 38,
   "id": "bb50bc60",
   "metadata": {},
   "outputs": [],
   "source": [
    "data = pd.read_csv(\"auto-mpg.csv\")"
   ]
  },
  {
   "cell_type": "code",
   "execution_count": 51,
   "id": "11c1e1c6",
   "metadata": {},
   "outputs": [],
   "source": [
    "data.dropna(inplace=True)"
   ]
  },
  {
   "cell_type": "code",
   "execution_count": 52,
   "id": "1273b172",
   "metadata": {},
   "outputs": [
    {
     "data": {
      "image/png": "[encoded data removed]",
      "text/plain": [
       "<Figure size 936x576 with 1 Axes>"
      ]
     },
     "metadata": {},
     "output_type": "display_data"
    }
   ],
   "source": [
    "fig, ax = plt.subplots(figsize = (13, 8))\n",
    "\n",
    "ax.scatter(data['horsepower'], data['mpg']);"
   ]
  },
  {
   "cell_type": "code",
   "execution_count": 53,
   "id": "55358d80",
   "metadata": {},
   "outputs": [],
   "source": [
    "x, y= data['horsepower'].values, data['mpg'].values"
   ]
  },
  {
   "cell_type": "code",
   "execution_count": 54,
   "id": "f4f06c46",
   "metadata": {},
   "outputs": [],
   "source": [
    "model = LinearRegressor()"
   ]
  },
  {
   "cell_type": "code",
   "execution_count": 55,
   "id": "ccba7d4a",
   "metadata": {},
   "outputs": [],
   "source": [
    "model.fit(x**2, y)"
   ]
  },
  {
   "cell_type": "code",
   "execution_count": 78,
   "id": "89d2054c",
   "metadata": {},
   "outputs": [
    {
     "data": {
      "text/plain": [
       "<matplotlib.collections.PathCollection at 0x23ad361f490>"
      ]
     },
     "execution_count": 78,
     "metadata": {},
     "output_type": "execute_result"
    },
    {
     "data": {
      "image/png": "[encoded data removed]",
      "text/plain": [
       "<Figure size 936x576 with 1 Axes>"
      ]
     },
     "metadata": {},
     "output_type": "display_data"
    }
   ],
   "source": [
    "fig, ax = plt.subplots(figsize = (13, 8))\n",
    "\n",
    "ax.scatter(data['horsepower'], model.predict(data['horsepower'] ** 2),\n",
    "        color = 'r', s = 2)"
   ]
  },
  {
   "cell_type": "code",
   "execution_count": 75,
   "id": "cf951900",
   "metadata": {},
   "outputs": [
    {
     "data": {
      "text/plain": [
       "[<matplotlib.lines.Line2D at 0x23ad374d280>]"
      ]
     },
     "execution_count": 75,
     "metadata": {},
     "output_type": "execute_result"
    },
    {
     "data": {
      "image/png": "[encoded data removed]",
      "text/plain": [
       "<Figure size 936x576 with 1 Axes>"
      ]
     },
     "metadata": {},
     "output_type": "display_data"
    }
   ],
   "source": [
    "fig, ax = plt.subplots(figsize = (13, 8))\n",
    "\n",
    "ax.plot(data['horsepower'], model.predict(data['horsepower'] ** 2),\n",
    "        color = 'r', linestyle = '', marker = 'o', markersize = 2)"
   ]
  },
  {
   "cell_type": "code",
   "execution_count": 61,
   "id": "f987af65",
   "metadata": {},
   "outputs": [
    {
     "data": {
      "image/png": "[encoded data removed]",
      "text/plain": [
       "<Figure size 936x576 with 1 Axes>"
      ]
     },
     "metadata": {},
     "output_type": "display_data"
    }
   ],
   "source": [
    "fig, ax = plt.subplots(figsize = (13, 8))\n",
    "\n",
    "ax.scatter(data['horsepower'], data['mpg'])\n",
    "ax.plot(data['horsepower'].sort_values(), model.predict(data['horsepower'].sort_values() ** 2),\n",
    "        color = 'r');"
   ]
  },
  {
   "cell_type": "code",
   "execution_count": 79,
   "id": "9151617f",
   "metadata": {},
   "outputs": [
    {
     "data": {
      "text/plain": [
       "0.5073670089832611"
      ]
     },
     "execution_count": 79,
     "metadata": {},
     "output_type": "execute_result"
    }
   ],
   "source": [
    "model.score(model.predict(x ** 2), y)"
   ]
  },
  {
   "cell_type": "markdown",
   "id": "374d76ce",
   "metadata": {},
   "source": [
    "$$\\hat{y} = w_0 + w_1 x + w_2 x^2$$"
   ]
  },
  {
   "cell_type": "code",
   "execution_count": 81,
   "id": "06809008",
   "metadata": {},
   "outputs": [],
   "source": [
    "data['h2'] = x ** 2"
   ]
  },
  {
   "cell_type": "code",
   "execution_count": 82,
   "id": "eb1b42fe",
   "metadata": {},
   "outputs": [
    {
     "data": {
      "text/html": [
       "<div>\n",
       "<style scoped>\n",
       "    .dataframe tbody tr th:only-of-type {\n",
       "        vertical-align: middle;\n",
       "    }\n",
       "\n",
       "    .dataframe tbody tr th {\n",
       "        vertical-align: top;\n",
       "    }\n",
       "\n",
       "    .dataframe thead th {\n",
       "        text-align: right;\n",
       "    }\n",
       "</style>\n",
       "<table border=\"1\" class=\"dataframe\">\n",
       "  <thead>\n",
       "    <tr style=\"text-align: right;\">\n",
       "      <th></th>\n",
       "      <th>mpg</th>\n",
       "      <th>cylinders</th>\n",
       "      <th>displacement</th>\n",
       "      <th>horsepower</th>\n",
       "      <th>weight</th>\n",
       "      <th>acceleration</th>\n",
       "      <th>model year</th>\n",
       "      <th>origin</th>\n",
       "      <th>car name</th>\n",
       "      <th>h2</th>\n",
       "    </tr>\n",
       "  </thead>\n",
       "  <tbody>\n",
       "    <tr>\n",
       "      <th>0</th>\n",
       "      <td>18.0</td>\n",
       "      <td>8</td>\n",
       "      <td>307.0</td>\n",
       "      <td>130.0</td>\n",
       "      <td>3504</td>\n",
       "      <td>12.0</td>\n",
       "      <td>70</td>\n",
       "      <td>1</td>\n",
       "      <td>chevrolet chevelle malibu</td>\n",
       "      <td>16900.0</td>\n",
       "    </tr>\n",
       "    <tr>\n",
       "      <th>1</th>\n",
       "      <td>15.0</td>\n",
       "      <td>8</td>\n",
       "      <td>350.0</td>\n",
       "      <td>165.0</td>\n",
       "      <td>3693</td>\n",
       "      <td>11.5</td>\n",
       "      <td>70</td>\n",
       "      <td>1</td>\n",
       "      <td>buick skylark 320</td>\n",
       "      <td>27225.0</td>\n",
       "    </tr>\n",
       "    <tr>\n",
       "      <th>2</th>\n",
       "      <td>18.0</td>\n",
       "      <td>8</td>\n",
       "      <td>318.0</td>\n",
       "      <td>150.0</td>\n",
       "      <td>3436</td>\n",
       "      <td>11.0</td>\n",
       "      <td>70</td>\n",
       "      <td>1</td>\n",
       "      <td>plymouth satellite</td>\n",
       "      <td>22500.0</td>\n",
       "    </tr>\n",
       "    <tr>\n",
       "      <th>3</th>\n",
       "      <td>16.0</td>\n",
       "      <td>8</td>\n",
       "      <td>304.0</td>\n",
       "      <td>150.0</td>\n",
       "      <td>3433</td>\n",
       "      <td>12.0</td>\n",
       "      <td>70</td>\n",
       "      <td>1</td>\n",
       "      <td>amc rebel sst</td>\n",
       "      <td>22500.0</td>\n",
       "    </tr>\n",
       "    <tr>\n",
       "      <th>4</th>\n",
       "      <td>17.0</td>\n",
       "      <td>8</td>\n",
       "      <td>302.0</td>\n",
       "      <td>140.0</td>\n",
       "      <td>3449</td>\n",
       "      <td>10.5</td>\n",
       "      <td>70</td>\n",
       "      <td>1</td>\n",
       "      <td>ford torino</td>\n",
       "      <td>19600.0</td>\n",
       "    </tr>\n",
       "  </tbody>\n",
       "</table>\n",
       "</div>"
      ],
      "text/plain": [
       "    mpg  cylinders  displacement  horsepower  weight  acceleration  \\\n",
       "0  18.0          8         307.0       130.0    3504          12.0   \n",
       "1  15.0          8         350.0       165.0    3693          11.5   \n",
       "2  18.0          8         318.0       150.0    3436          11.0   \n",
       "3  16.0          8         304.0       150.0    3433          12.0   \n",
       "4  17.0          8         302.0       140.0    3449          10.5   \n",
       "\n",
       "   model year  origin                   car name       h2  \n",
       "0          70       1  chevrolet chevelle malibu  16900.0  \n",
       "1          70       1          buick skylark 320  27225.0  \n",
       "2          70       1         plymouth satellite  22500.0  \n",
       "3          70       1              amc rebel sst  22500.0  \n",
       "4          70       1                ford torino  19600.0  "
      ]
     },
     "execution_count": 82,
     "metadata": {},
     "output_type": "execute_result"
    }
   ],
   "source": [
    "data.head()"
   ]
  },
  {
   "cell_type": "code",
   "execution_count": 85,
   "id": "281a16d2",
   "metadata": {},
   "outputs": [],
   "source": [
    "X = data[['horsepower','h2']].values"
   ]
  },
  {
   "cell_type": "code",
   "execution_count": 86,
   "id": "7486f137",
   "metadata": {},
   "outputs": [],
   "source": [
    "model = LinearRegressor()"
   ]
  },
  {
   "cell_type": "code",
   "execution_count": 87,
   "id": "6dbb6978",
   "metadata": {},
   "outputs": [],
   "source": [
    "model.fit(X, y)"
   ]
  },
  {
   "cell_type": "code",
   "execution_count": 93,
   "id": "88ba83a5",
   "metadata": {},
   "outputs": [
    {
     "data": {
      "image/png": "[encoded data removed]",
      "text/plain": [
       "<Figure size 936x576 with 1 Axes>"
      ]
     },
     "metadata": {},
     "output_type": "display_data"
    }
   ],
   "source": [
    "fig, ax = plt.subplots(figsize = (13, 8))\n",
    "\n",
    "ax.scatter(data['horsepower'], data['mpg'])\n",
    "ax.plot(data['horsepower'].sort_values(),\n",
    "        model.predict(data[['horsepower','h2']].sort_values(by = 'horsepower')),\n",
    "        color = 'r');"
   ]
  },
  {
   "cell_type": "code",
   "execution_count": 94,
   "id": "a2756882",
   "metadata": {},
   "outputs": [
    {
     "data": {
      "text/plain": [
       "0.6875590305127516"
      ]
     },
     "execution_count": 94,
     "metadata": {},
     "output_type": "execute_result"
    }
   ],
   "source": [
    "model.score(model.predict(X), y)"
   ]
  },
  {
   "cell_type": "code",
   "execution_count": null,
   "id": "b10b63f5",
   "metadata": {},
   "outputs": [],
   "source": []
  },
  {
   "cell_type": "code",
   "execution_count": null,
   "id": "0d23ee11",
   "metadata": {},
   "outputs": [],
   "source": []
  },
  {
   "cell_type": "markdown",
   "id": "greater-extra",
   "metadata": {},
   "source": [
    "## When to stop? (overfiting)\n",
    "\n",
    "if we already add $x^2$, we can add $x^3$, and $x^4$, and $x^5$ ... and keep increasing the precision of the model.\n",
    "\n",
    "- After all we will only be making a Taylor approximation to any function.\n",
    "\n",
    "\n",
    "\n",
    "But that's not always the best idea. If we do this our model can be too fit to the training data which will worsen its performance with the data that it has not seen before."
   ]
  },
  {
   "cell_type": "code",
   "execution_count": 95,
   "id": "encouraging-jamaica",
   "metadata": {},
   "outputs": [],
   "source": [
    "x = np.linspace(0, 4, 15)"
   ]
  },
  {
   "cell_type": "code",
   "execution_count": 96,
   "id": "b91ac48c",
   "metadata": {},
   "outputs": [],
   "source": [
    "y = x ** 2 + 2 * np.sin(5 * x)"
   ]
  },
  {
   "cell_type": "code",
   "execution_count": 98,
   "id": "49562354",
   "metadata": {},
   "outputs": [
    {
     "data": {
      "image/png": "[encoded data removed]",
      "text/plain": [
       "<Figure size 936x576 with 1 Axes>"
      ]
     },
     "metadata": {},
     "output_type": "display_data"
    }
   ],
   "source": [
    "fig, ax = plt.subplots(figsize = (13, 8))\n",
    "\n",
    "\n",
    "ax.scatter(x, y);"
   ]
  },
  {
   "cell_type": "code",
   "execution_count": 99,
   "id": "aa7f5290",
   "metadata": {},
   "outputs": [
    {
     "data": {
      "text/plain": [
       "array([0.        , 0.28571429, 0.57142857, 0.85714286, 1.14285714,\n",
       "       1.42857143, 1.71428571, 2.        , 2.28571429, 2.57142857,\n",
       "       2.85714286, 3.14285714, 3.42857143, 3.71428571, 4.        ])"
      ]
     },
     "execution_count": 99,
     "metadata": {},
     "output_type": "execute_result"
    }
   ],
   "source": [
    "x"
   ]
  },
  {
   "cell_type": "code",
   "execution_count": 116,
   "id": "90724c7d",
   "metadata": {},
   "outputs": [],
   "source": [
    "X1 = np.column_stack([x, x ** 2])"
   ]
  },
  {
   "cell_type": "code",
   "execution_count": 117,
   "id": "3f1bf289",
   "metadata": {},
   "outputs": [
    {
     "data": {
      "text/plain": [
       "array([[ 0.        ,  0.        ],\n",
       "       [ 0.28571429,  0.08163265],\n",
       "       [ 0.57142857,  0.32653061],\n",
       "       [ 0.85714286,  0.73469388],\n",
       "       [ 1.14285714,  1.30612245],\n",
       "       [ 1.42857143,  2.04081633],\n",
       "       [ 1.71428571,  2.93877551],\n",
       "       [ 2.        ,  4.        ],\n",
       "       [ 2.28571429,  5.2244898 ],\n",
       "       [ 2.57142857,  6.6122449 ],\n",
       "       [ 2.85714286,  8.16326531],\n",
       "       [ 3.14285714,  9.87755102],\n",
       "       [ 3.42857143, 11.75510204],\n",
       "       [ 3.71428571, 13.79591837],\n",
       "       [ 4.        , 16.        ]])"
      ]
     },
     "execution_count": 117,
     "metadata": {},
     "output_type": "execute_result"
    }
   ],
   "source": [
    "X1"
   ]
  },
  {
   "cell_type": "code",
   "execution_count": 118,
   "id": "598f877c",
   "metadata": {},
   "outputs": [],
   "source": [
    "d = 11"
   ]
  },
  {
   "cell_type": "code",
   "execution_count": 119,
   "id": "d65c6d1e",
   "metadata": {},
   "outputs": [],
   "source": [
    "x2 = np.column_stack([x ** i for i in range(1, d)])"
   ]
  },
  {
   "cell_type": "code",
   "execution_count": 120,
   "id": "cf1d87f8",
   "metadata": {},
   "outputs": [],
   "source": [
    "x2;"
   ]
  },
  {
   "cell_type": "code",
   "execution_count": 121,
   "id": "de07b18d",
   "metadata": {},
   "outputs": [],
   "source": [
    "model1 = LinearRegressor()"
   ]
  },
  {
   "cell_type": "code",
   "execution_count": 122,
   "id": "10db8ffd",
   "metadata": {},
   "outputs": [],
   "source": [
    "model1.fit(X1, y)"
   ]
  },
  {
   "cell_type": "code",
   "execution_count": 123,
   "id": "a6b8a7cd",
   "metadata": {},
   "outputs": [
    {
     "data": {
      "text/plain": [
       "0.933021679358262"
      ]
     },
     "execution_count": 123,
     "metadata": {},
     "output_type": "execute_result"
    }
   ],
   "source": [
    "model1.score(model1.predict(X1), y)"
   ]
  },
  {
   "cell_type": "code",
   "execution_count": 124,
   "id": "b62c989c",
   "metadata": {},
   "outputs": [],
   "source": [
    "model2 = LinearRegressor()"
   ]
  },
  {
   "cell_type": "code",
   "execution_count": 125,
   "id": "97f9a024",
   "metadata": {},
   "outputs": [],
   "source": [
    "model2.fit(x2, y)"
   ]
  },
  {
   "cell_type": "code",
   "execution_count": 126,
   "id": "00b404fa",
   "metadata": {},
   "outputs": [
    {
     "data": {
      "text/plain": [
       "0.9984767617023342"
      ]
     },
     "execution_count": 126,
     "metadata": {},
     "output_type": "execute_result"
    }
   ],
   "source": [
    "model2.score(model2.predict(x2), y)"
   ]
  },
  {
   "cell_type": "code",
   "execution_count": 131,
   "id": "ba378727",
   "metadata": {},
   "outputs": [],
   "source": [
    "model3 = LinearRegressor()"
   ]
  },
  {
   "cell_type": "code",
   "execution_count": 132,
   "id": "30e14191",
   "metadata": {},
   "outputs": [],
   "source": [
    "model3.fit(x, y)"
   ]
  },
  {
   "cell_type": "code",
   "execution_count": 134,
   "id": "9573b9f8",
   "metadata": {},
   "outputs": [
    {
     "data": {
      "text/plain": [
       "0.8418546034992815"
      ]
     },
     "execution_count": 134,
     "metadata": {},
     "output_type": "execute_result"
    }
   ],
   "source": [
    "model3.score(model3.predict(x), y)"
   ]
  },
  {
   "cell_type": "code",
   "execution_count": 136,
   "id": "785e6112",
   "metadata": {},
   "outputs": [
    {
     "data": {
      "image/png": "[encoded data removed]",
      "text/plain": [
       "<Figure size 1440x432 with 3 Axes>"
      ]
     },
     "metadata": {},
     "output_type": "display_data"
    }
   ],
   "source": [
    "fig, ax = plt.subplots(1, 3, figsize = (20, 6))\n",
    "\n",
    "\n",
    "ax[0].scatter(x, y)\n",
    "ax[0].plot(x, model1.predict(X1), color = 'r',\n",
    "           label = f'n = 2 | $R^2$ = {model1.score(model1.predict(X1), y)}')\n",
    "ax[0].plot([2.02], [5.3], marker = '*', color = 'y', markersize = 20)\n",
    "ax[0].legend()\n",
    "\n",
    "\n",
    "ax[1].scatter(x, y)\n",
    "ax[1].plot(x, model2.predict(x2), color = 'r',\n",
    "           label = f'n = {d} | $R^2$ = {model2.score(model2.predict(x2), y)}')\n",
    "ax[1].plot([2.02], [5.3], marker = '*', color = 'y', markersize = 20)\n",
    "ax[1].legend();\n",
    "\n",
    "\n",
    "ax[2].scatter(x, y)\n",
    "ax[2].plot(x, model3.predict(x), color = 'r',\n",
    "           label = f'n = {1} | $R^2$ = {model3.score(model3.predict(x), y)}')\n",
    "ax[2].plot([2.02], [5.3], marker = '*', color = 'y', markersize = 20)\n",
    "ax[2].legend();"
   ]
  },
  {
   "cell_type": "code",
   "execution_count": null,
   "id": "69b76488",
   "metadata": {},
   "outputs": [],
   "source": []
  }
 ],
 "metadata": {
  "kernelspec": {
   "display_name": "Python 3 (ipykernel)",
   "language": "python",
   "name": "python3"
  },
  "language_info": {
   "codemirror_mode": {
    "name": "ipython",
    "version": 3
   },
   "file_extension": ".py",
   "mimetype": "text/x-python",
   "name": "python",
   "nbconvert_exporter": "python",
   "pygments_lexer": "ipython3",
   "version": "3.9.16"
  }
 },
 "nbformat": 4,
 "nbformat_minor": 5
}
