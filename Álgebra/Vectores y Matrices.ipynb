{
 "cells": [
  {
   "cell_type": "markdown",
   "id": "dd3fb0c1",
   "metadata": {},
   "source": [
    "<hr>\n",
    "<h1>Contenido</h1>\n",
    "\n",
    "$$$$\n",
    "\n",
    "- [Glosario](#Glosario)\n",
    "\n",
    "- [Vectores](#Vectores)\n",
    "- [Matrices](#Matrices)\n",
    "- [Producto de matrices y vectores](#Producto-de-matrices-y-vectores)\n",
    "    - [Producto escalar](#Producto-escalar)\n",
    "    - [Multiplicación de matrices](#Multiplicación-de-matrices)\n",
    "    \n",
    "- [Matrices Especiales](#Matrices-Especiales)\n",
    "    - [Matriz Identidad](#Matriz-Identidad)\n",
    "    - [Matriz Diagonal](#Matriz-Diagonal)\n",
    "    - [Matriz Triangular](#Matriz-Triangular)\n",
    "    - [Matriz Elemental](#Matriz-Elemental)\n",
    "    - [Matriz Transpuesta](#Matriz-Transpuesta)\n",
    "    - [Matriz Inversa](#Matriz-Inversa)\n",
    "    - [Matriz Ortogonal](#Matriz-Ortogonal)"
   ]
  },
  {
   "cell_type": "markdown",
   "id": "1c69183b",
   "metadata": {},
   "source": [
    "[Regresar al Contenido](#Contenido)"
   ]
  },
  {
   "cell_type": "markdown",
   "id": "381b1a81",
   "metadata": {},
   "source": [
    "<hr>\n",
    "<h2>Glosario</h2>\n",
    "\n",
    "- Dimensión(Vector):\n",
    "    El número de entradas o componentes que tiene un vector\n",
    "    \n",
    "- Dimensión(Matriz):\n",
    "    El número de filas  y columnas($f \\times c$) que tiene una matriz, en caso de ser cuadrada se representa en un solo número\n",
    "    \n",
    "- Escalar:\n",
    "    Un número real($\\mathbb{R}$) o complejo($\\mathbb{C}$), carente de la característica vectorial de dirección.\n",
    "    \n",
    "- Espacio Vectorial:\n",
    "    es un conjunto($W$) cuyos elementos llamamos vectores, y que tiene definida una operación suma entre sus elementos y una operación producto entre uno de sus elementos y un escalar, que cumplen las siguientes propiedades:\n",
    "    1. Sean $u, v \\in W$, entonces $u + v \\in W$ \n",
    "    2. Sea $a \\in \\mathbb{R}$ y $u \\in W$, entonces $a\\cdot u \\in W$\n",
    "\n",
    "- Magnitud(vector):\n",
    "    lo entenderemos geométricamente como el tamaño del vector, y lo definiremos como: $|\\vec{x}| = \\sqrt{x_1^2 + x_2^2 + \\cdots + x_n^2}$\n",
    "    \n",
    "    \n",
    "- Matriz cuadrada:\n",
    "    Es una matriz que tiene el mismo número de renglones y de columnas, se representa únicamente como $A_n$\n",
    "    \n",
    "- Matriz Elemental:\n",
    "    Una matriz elemental de orden $n$ es una matriz que se obtiene a partir de la matriz identidad $I_{n}$ aplicando solo una operación elemental de fila o columna.\n",
    "    "
   ]
  },
  {
   "cell_type": "markdown",
   "id": "bcc399da",
   "metadata": {},
   "source": [
    "[Regresar al Contenido](#Contenido)"
   ]
  },
  {
   "cell_type": "markdown",
   "id": "3cac3c6b",
   "metadata": {},
   "source": [
    "<hr>\n",
    "<h2>Vectores</h2>\n",
    "\n",
    "De las múltiples definiciones que existen para los vectores, nos quedaremos con aquella en la que los entendemos como arreglos ordenados de $n$ elementos ($n$ se llama la **dimensión** del vector), por ejemplo la siguiente es un vector fila de dimensión $n$:\n",
    "\n",
    "$$$$\n",
    "\n",
    "$$\\vec{x} = \n",
    "\\begin{bmatrix}\n",
    "x_1 & x_2 & \\cdots & x_n\\\\\n",
    "\\end{bmatrix}\n",
    "$$\n",
    "\n",
    "$$$$\n",
    "\n",
    "Los elementos de $\\vec{x}$ son números reales ($\\mathbb{R}$) o complejos ($\\mathbb{C}$), dependiendo del caso decimos que $x \\in \\mathbb{R} ^n$ o $x \\in \\mathbb{C}^n$. También podemos representarlos en forma de columna:\n",
    "\n",
    "$$$$\n",
    "\n",
    "$$\\vec{y} = \n",
    "\\begin{bmatrix}\n",
    "y_1\\\\\n",
    "y_2\\\\ \n",
    "\\vdots\\\\\n",
    "y_n\\\\\n",
    "\\end{bmatrix}\n",
    "$$\n",
    "\n",
    "$$$$\n",
    "\n",
    "Tenemos dos operaciones elementales con vectores: _la suma de vectores y la multiplicación por un escalar_. La suma de vectores se define entre vectores de la misma **dimensión** y esta se define a continuación:\n",
    "\n",
    "$$$$\n",
    "\n",
    "\n",
    "$$\\vec{x} + \\vec{y} = \n",
    "\\begin{bmatrix}\n",
    "x_1 + y_1 & x_2 + y_2 & \\cdots & x_n + y_n\\\\\n",
    "\\end{bmatrix}\n",
    "$$\n",
    "\n",
    "$$$$\n",
    "\n",
    "Resultando en otro vector con la misma **dimensión**."
   ]
  },
  {
   "cell_type": "code",
   "execution_count": null,
   "id": "30160265",
   "metadata": {},
   "outputs": [],
   "source": []
  },
  {
   "cell_type": "markdown",
   "id": "be18dc66",
   "metadata": {},
   "source": [
    "Y la multiplicación escalar se define de la siguiente manera:\n",
    "\n",
    "$$\\alpha \\vec{x} = \n",
    "\\begin{bmatrix}\n",
    "\\alpha x_1 & \\alpha x_2 & \\cdots & \\alpha x_n \\\\\n",
    "\\end{bmatrix}\n",
    "$$"
   ]
  },
  {
   "cell_type": "code",
   "execution_count": null,
   "id": "df8c9c97",
   "metadata": {},
   "outputs": [],
   "source": []
  },
  {
   "cell_type": "markdown",
   "id": "6407d5f3",
   "metadata": {},
   "source": [
    "[Regresar al Contenido](#Contenido)"
   ]
  },
  {
   "cell_type": "markdown",
   "id": "0336d57c",
   "metadata": {},
   "source": [
    "<hr>\n",
    "<h2>Matrices</h2>\n",
    "\n",
    "Entenderemos por matriz $A_{m \\times n}$ un arreglo rectangular de números dispuestos en m filas y n columnas.\n",
    "\n",
    "$$$$\n",
    "\n",
    "$$\n",
    "A = \n",
    "\\begin{bmatrix}\n",
    "a_{11} & a_{12} & \\cdots & a_{1n}\\\\\n",
    "a_{21} & a_{22} & \\cdots & a_{2n}\\\\\n",
    "\\cdots & \\cdots & \\ddots & \\cdots \\\\\n",
    "a_{m1} & a_{m2} & \\cdots & a_{mn}\\\\\n",
    "\\end{bmatrix}\n",
    "$$\n",
    "\n",
    "$$$$\n",
    "\n",
    "Si la matriz tiene el mismo número de filas y columnas, la llamaremos matriz cuadrada y la representaremos como $A_n$. Podemos imaginar cada fila o columna de una matriz por separado como un vector, fila o columna, y también definimos la suma de matrices y el producto por un **escalar** de forma similar a los vectores, la suma elemento a elemento ( entonces las matrices deben tener la misma **dimensión**), y el producto de multiplicar todos los elementos por el **escalar**.\n",
    "\n",
    "$$$$\n",
    "\n",
    "$$\n",
    "A + B = \n",
    "\\begin{bmatrix}\n",
    "a_{11} + b_{11} & a_{12} + b_{12} & \\cdots & a_{1n} + b_{1n}\\\\\n",
    "a_{21} + b_{21} & a_{22} + b_{22} & \\cdots & a_{2n} + b_{2n}\\\\\n",
    "\\cdots & \\cdots & \\ddots & \\cdots \\\\\n",
    "a_{m1} + b_{m1} & a_{m2} + b_{m2} & \\cdots & a_{mn} + b_{mn}\\\\\n",
    "\\end{bmatrix}\n",
    "$$\n",
    "\n",
    "$$$$\n",
    "\n",
    "$$\n",
    "\\alpha A = \n",
    "\\begin{bmatrix}\n",
    "\\alpha a_{11} & \\alpha a_{12} & \\cdots &\\alpha a_{1n}\\\\\n",
    "\\alpha a_{21} &\\alpha a_{22} & \\cdots &\\alpha a_{2n}\\\\\n",
    "\\cdots & \\cdots & \\ddots & \\cdots \\\\\n",
    "\\alpha a_{m1} &\\alpha a_{m2} &\\alpha \\cdots &\\alpha a_{mn}\\\\\n",
    "\\end{bmatrix}\n",
    "$$\n"
   ]
  },
  {
   "cell_type": "code",
   "execution_count": null,
   "id": "bfff9d27",
   "metadata": {},
   "outputs": [],
   "source": []
  },
  {
   "cell_type": "markdown",
   "id": "aaec1a35",
   "metadata": {},
   "source": [
    "[Regresar al Contenido](#Contenido)"
   ]
  },
  {
   "cell_type": "markdown",
   "id": "983c215a",
   "metadata": {},
   "source": [
    "<hr>\n",
    "<h2>Producto de matrices y vectores</h2>\n",
    "\n",
    "<h3>Producto escalar</h3>\n",
    "\n",
    "El producto escalar es un producto definido entre vectores con la misma **dimensión** y que devuelve un **escalar** como resultado. Se define de la siguiente manera:\n",
    "$$$$\n",
    "\n",
    "$$\\vec{x} \\cdot \\vec{y} = x_1 y_1 + x_2 y_2 + \\cdots + x_n y_n$$\n",
    "\n",
    "$$$$\n",
    "O alternativamente lo definimos como:\n",
    "$$$$\n",
    "\n",
    "$$ \\vec{x} \\cdot \\vec{y} = |\\vec{x}| |\\vec{y}|\\cos{\\theta}$$\n",
    "\n",
    "$$$$\n",
    "\n",
    "Donde $|\\vec{x}|$ representa la **norma** del vector $\\vec{x}$ y $\\theta$ es el ángulo más pequeño entre $\\vec{x}$ y $\\vec{y}$. Es importante tener en cuenta que $\\cos{\\theta}$ desaparece cuando $\\theta = \\frac{\\pi}{2}$, por lo que el producto escalar es 0 cuando los vectores son ortogonales."
   ]
  },
  {
   "cell_type": "code",
   "execution_count": null,
   "id": "1fd3b37b",
   "metadata": {},
   "outputs": [],
   "source": []
  },
  {
   "cell_type": "markdown",
   "id": "0211bd13",
   "metadata": {},
   "source": [
    "[Regresar al Contenido](#Contenido)"
   ]
  },
  {
   "cell_type": "markdown",
   "id": "51029816",
   "metadata": {},
   "source": [
    "<h3>Multiplicación de matrices</h3>\n",
    "\n",
    "El Producto entre matrices se define entre dos matrices $A_{m \\times n}$ y $B_{n \\times p}$ y dará como resultado una matriz $C_{m \\times p} $, cuyos elementos se definen como $ c_{ij} = a_{i1} b_{1j} + a_{i2} b_{2j} + \\cdots + a_{in} b_{nj}$\n",
    "\n",
    "\n",
    "<img src=https://upload.wikimedia.org/wikipedia/commons/thumb/1/11/Matrix_multiplication_diagram.svg/800px-Matrix_multiplication_diagram.svg.png width = 400 height = 400>\n",
    "\n",
    "\n",
    "Podemos interpretar el elemento $c_{ij}$ como el producto escalar entre el vector de fila i-ésima de $A$ y el vector de columna j-ésima de $B$.\n",
    "\n",
    "$$c_{ij} =\n",
    "\\begin{bmatrix}\n",
    "a_{i1} & a_{i2} & \\cdots & a_{in}\n",
    "\\end{bmatrix}\n",
    "\\begin{bmatrix}\n",
    "b_{1j}\\\\\n",
    "b_{2j}\\\\\n",
    "\\vdots \\\\\n",
    "b_{nj}\\\\\n",
    "\\end{bmatrix}\n",
    "= a_{i1}b_{1j} + a_{i2}b_{2j} + \\cdots + a_{in}b_{nj}\n",
    "$$"
   ]
  },
  {
   "cell_type": "code",
   "execution_count": null,
   "id": "01eb251c",
   "metadata": {},
   "outputs": [],
   "source": []
  },
  {
   "cell_type": "markdown",
   "id": "6017b1b9",
   "metadata": {},
   "source": [
    "[Regresar al Contenido](#Contenido)"
   ]
  },
  {
   "cell_type": "markdown",
   "id": "fde24703",
   "metadata": {},
   "source": [
    "<hr>\n",
    "<h2>Matrices Especiales</h2>\n",
    "\n",
    "<h3>Matriz Identidad</h3>\n",
    "\n",
    "Es una [matriz cuadrada](#Glosario) que tiene todos los elementos de su diagonal iguales a 1 y el resto igual a 0. Se denotan por $I_n$ por ejemplo la matriz identidad de dimensión 3 es:\n",
    "\n",
    "$$I_3 = \n",
    "\\begin{bmatrix}\n",
    "1 & 0 & 0\\\\\n",
    "0 & 1 & 0\\\\\n",
    "0 & 0 & 1\\\\\n",
    "\\end{bmatrix}\n",
    "$$\n",
    "\n",
    "Está matriz cumple que para toda [matriz cuadrada](#Glosario) $A_n$ se cumple que:\n",
    "\n",
    "$$ A_n I_n = I_n A_n = A_n$$\n"
   ]
  },
  {
   "cell_type": "code",
   "execution_count": null,
   "id": "a465a11b",
   "metadata": {},
   "outputs": [],
   "source": []
  },
  {
   "cell_type": "markdown",
   "id": "413b01dc",
   "metadata": {},
   "source": [
    "[Regresar al Contenido](#Contenido)"
   ]
  },
  {
   "cell_type": "markdown",
   "id": "cc7103a4",
   "metadata": {},
   "source": [
    "<h3>Matriz Diagonal</h3>\n",
    "\n",
    "Es una matriz que tiene como elementos 0 excepto los de la diagonal principal ($i = j$), si la matriz es cuadrada cumple que su determinante es igual al producto de los elementos de la diagonal, y que sus autovalores son los elementos de la diagonal.\n",
    "\n",
    "$$A_3 = \n",
    "\\begin{bmatrix}\n",
    "4 & 0 & 0\\\\\n",
    "0 & 7 & 0\\\\\n",
    "0 & 0 & 1\\\\\n",
    "\\end{bmatrix}\n",
    "$$\n",
    "\n",
    "$$B_{3 \\times 4} = \n",
    "\\begin{bmatrix}\n",
    "4 & 0 & 0 & 0\\\\\n",
    "0 & 7 & 0 & 0\\\\\n",
    "0 & 0 & 1 & 0\\\\\n",
    "\\end{bmatrix}\n",
    "$$"
   ]
  },
  {
   "cell_type": "code",
   "execution_count": null,
   "id": "c121c18a",
   "metadata": {},
   "outputs": [],
   "source": []
  },
  {
   "cell_type": "markdown",
   "id": "052bdca3",
   "metadata": {},
   "source": [
    "[Regresar al Contenido](#Contenido)"
   ]
  },
  {
   "cell_type": "markdown",
   "id": "5598049f",
   "metadata": {},
   "source": [
    "<h3>Matriz Triangular</h3>\n",
    "\n",
    "\n",
    "Una matriz es una matriz triangular superior si tiene 0's por debajo de la diagonal, es decir, si $a_{ij} = 0$, para $ i > j$\n",
    "\n",
    "$$ \n",
    "\\begin{bmatrix}\n",
    "4 & 5 & 6\\\\\n",
    "0 & 7 & 8\\\\\n",
    "0 & 0 & 1\\\\\n",
    "\\end{bmatrix}\n",
    "$$\n",
    "\n",
    "y se dice triangular inferior si tiene 0's por encima de la diagonal, es decir, si $a_{ij} = 0$, para $ i < j$\n",
    "\n",
    "$$ \n",
    "\\begin{bmatrix}\n",
    "4 & 0 & 0\\\\\n",
    "5 & 7 & 0\\\\\n",
    "6 & 8 & 1\\\\\n",
    "\\end{bmatrix}\n",
    "$$\n",
    "\n",
    "Tienen la propiedad de que su determinante es el producto de los elementos de la diagonal, la transpuesta de una matriz triangular superior es una matriz triangular inferior y viceversa, y sus valores propios son los elementos de la diagonal\n",
    "\n"
   ]
  },
  {
   "cell_type": "code",
   "execution_count": null,
   "id": "4fc6026a",
   "metadata": {},
   "outputs": [],
   "source": []
  },
  {
   "cell_type": "markdown",
   "id": "715da4dc",
   "metadata": {},
   "source": [
    "[Regresar al Contenido](#Contenido)"
   ]
  },
  {
   "cell_type": "markdown",
   "id": "69ffa0e8",
   "metadata": {},
   "source": [
    "<h3>Matriz Elemental</h3>\n",
    "\n",
    "Una matriz elemental de orden n es una matriz que se obtiene a partir de la matriz identidad $I_{n}$ aplicando solo una operación elemental de fila. Por ejemplo:\n",
    "\n",
    "- Multiplicar un renglón por un escalar\n",
    "$$\n",
    "\\begin{bmatrix}\n",
    "1 & 0 & 0\\\\\n",
    "0 & \\alpha & 0 \\\\\n",
    "0 & 0 & 1\\\\\n",
    "\\end{bmatrix}\n",
    "$$\n",
    "\n",
    "- Intercambiar renglones\n",
    "\n",
    "$$\n",
    "\\begin{bmatrix}\n",
    "1 & 0 & 0\\\\\n",
    "0 & 0 & 1\\\\\n",
    "0 & 1 & 0\\\\\n",
    "\\end{bmatrix}\n",
    "$$\n",
    "\n",
    "- Sumar a un renglón un múltiplo de otro\n",
    "\n",
    "$$\n",
    "\\begin{bmatrix}\n",
    "1 & 0 & 0\\\\\n",
    "\\alpha & 1 & 0 \\\\\n",
    "0 & 0 & 1\\\\\n",
    "\\end{bmatrix}\n",
    "$$\n",
    "\n",
    "\n",
    "Note que multiplicar una matriz elemental $E$ por una matriz $A$ es equivalente a aplicar la operación elemental de $E$ sobre $A$.\n",
    "\n"
   ]
  },
  {
   "cell_type": "code",
   "execution_count": null,
   "id": "4114c145",
   "metadata": {},
   "outputs": [],
   "source": []
  },
  {
   "cell_type": "markdown",
   "id": "8ca7f4d2",
   "metadata": {},
   "source": [
    "[Regresar al Contenido](#Contenido)"
   ]
  },
  {
   "cell_type": "markdown",
   "id": "17251e02",
   "metadata": {},
   "source": [
    "<h3>Matriz Transpuesta</h3>\n",
    "\n",
    "$$$$\n",
    "La matriz transpuesta de una matriz $A_{m \\times n}$ es una matriz $A_{n \\times m}^T$ que tiene por filas las columnas de $A_{m \\times n}$, es decir su elemento $a_{ij}^T = a_{ji}$.\n",
    "\n",
    "\n",
    "<img src = https://upload.wikimedia.org/wikipedia/commons/e/e4/Matrix_transpose.gif width = 300 height = 300>"
   ]
  },
  {
   "cell_type": "code",
   "execution_count": null,
   "id": "7d9038d5",
   "metadata": {},
   "outputs": [],
   "source": []
  },
  {
   "cell_type": "markdown",
   "id": "9b78c295",
   "metadata": {},
   "source": [
    "[Regresar al Contenido](#Contenido)"
   ]
  },
  {
   "cell_type": "markdown",
   "id": "5e56ea54",
   "metadata": {},
   "source": [
    "<h3>Matriz Inversa</h3>\n",
    "\n",
    "Se dice que una matriz cuadrada tiene inversa, si existe una matriz $A^{-1}$ tal que:\n",
    "\n",
    "$$ A A^{-1} = A^{-1} A = I_n $$\n",
    "\n",
    "Si una matriz no tiene inversa se dice matriz singular. Una matriz tiene inversa si y solo si su determinante es no nulo"
   ]
  },
  {
   "cell_type": "code",
   "execution_count": null,
   "id": "95ed4150",
   "metadata": {},
   "outputs": [],
   "source": []
  },
  {
   "cell_type": "markdown",
   "id": "d611ba3f",
   "metadata": {},
   "source": [
    "[Regresar al Contenido](#Contenido)"
   ]
  },
  {
   "cell_type": "markdown",
   "id": "ccd96a5f",
   "metadata": {},
   "source": [
    "<h3>Matriz Ortogonal</h3>\n",
    "\n",
    "Una matriz se dice ortogonal cuando su transpuesta es igual a su inversa."
   ]
  },
  {
   "cell_type": "code",
   "execution_count": null,
   "id": "29a97266",
   "metadata": {},
   "outputs": [],
   "source": []
  }
 ],
 "metadata": {
  "@webio": {
   "lastCommId": null,
   "lastKernelId": null
  },
  "kernelspec": {
   "display_name": "Python 3 (ipykernel)",
   "language": "python",
   "name": "python3"
  },
  "language_info": {
   "codemirror_mode": {
    "name": "ipython",
    "version": 3
   },
   "file_extension": ".py",
   "mimetype": "text/x-python",
   "name": "python",
   "nbconvert_exporter": "python",
   "pygments_lexer": "ipython3",
   "version": "3.9.16"
  },
  "toc": {
   "base_numbering": 1,
   "nav_menu": {},
   "number_sections": true,
   "sideBar": true,
   "skip_h1_title": false,
   "title_cell": "Table of Contents",
   "title_sidebar": "Contents",
   "toc_cell": false,
   "toc_position": {},
   "toc_section_display": true,
   "toc_window_display": false
  },
  "varInspector": {
   "cols": {
    "lenName": 16,
    "lenType": 16,
    "lenVar": 40
   },
   "kernels_config": {
    "python": {
     "delete_cmd_postfix": "",
     "delete_cmd_prefix": "del ",
     "library": "var_list.py",
     "varRefreshCmd": "print(var_dic_list())"
    },
    "r": {
     "delete_cmd_postfix": ") ",
     "delete_cmd_prefix": "rm(",
     "library": "var_list.r",
     "varRefreshCmd": "cat(var_dic_list()) "
    }
   },
   "types_to_exclude": [
    "module",
    "function",
    "builtin_function_or_method",
    "instance",
    "_Feature"
   ],
   "window_display": false
  }
 },
 "nbformat": 4,
 "nbformat_minor": 5
}
