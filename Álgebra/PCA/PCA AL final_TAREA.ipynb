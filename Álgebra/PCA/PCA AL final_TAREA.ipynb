{
 "cells": [
  {
   "cell_type": "markdown",
   "id": "moral-revolution",
   "metadata": {},
   "source": [
    "# Contenido\n",
    "\n",
    "- [PCA](#PCA)\n",
    "    - [Media de un Data set o valor esperado](#Media-de-un-Data-set-o-valor-esperado)\n",
    "    - [Varianza de un Data set](#Varianza-de-un-Data-set)\n",
    "    - [Producto punto y proyección en un subespacio](#Producto-punto-y-proyección-en-un-subespacio)\n",
    "    - [Proyección ortogonal en múltiples dimensiones](#Proyección-ortogonal-en-múltiples-dimensiones)\n",
    "    - [La idea detrás de PCA](#La-idea-detrás-de-PCA)\n",
    "    \n",
    "    \n",
    "- [Ejemplo: Iris Data Set](#Ejemplo:-Iris-Data-Set)\n",
    "\n",
    "\n",
    "- [Ejercicio](#Ejercicio)"
   ]
  },
  {
   "cell_type": "markdown",
   "id": "eastern-association",
   "metadata": {},
   "source": [
    "## PCA \n",
    "\n",
    "\n",
    "El análisis de componentes principales es una técnica utilizada para describir un conjunto de datos en términos de nuevas variables (`componentes`) no correlacionadas. Los componentes se ordenan por la cantidad de varianza original que describen, por lo que la técnica es útil para reducir la dimensionalidad de un conjunto de datos.\n",
    "\n",
    "\n",
    "Vamos a construir poco a poco la idea detrás del PCA."
   ]
  },
  {
   "cell_type": "markdown",
   "id": "angry-runner",
   "metadata": {},
   "source": [
    "[Regresar al contenido](#Contenido)"
   ]
  },
  {
   "cell_type": "markdown",
   "id": "unknown-beaver",
   "metadata": {},
   "source": [
    "### Media de un Data set o valor esperado\n",
    "\n",
    "\n",
    "Este es un concepto equivalente a la media aritmética, pero extendido a conjuntos de vectores, cuando pensemos en un data set (DataFrame), podemos pensar que es un conjunto de vectores, en el que cada vector es una observación individual, simplemente diremos que si tenemos un data set $D$, formado por n vectores $\\vec{x}$ en $\\mathbb{R}^d$, la media del data set, o el _valor esperado_ será:\n",
    "\n",
    "\n",
    "$$E[D] = \\frac{1}{n} \\sum_{i= 1}^n \\vec{x_i}$$\n",
    "\n",
    "\n",
    "Cabe destacar que el valor esperado de $D$ no necesariamente es un punto dentro de $D$."
   ]
  },
  {
   "cell_type": "code",
   "execution_count": 163,
   "id": "ae8b339d",
   "metadata": {},
   "outputs": [],
   "source": [
    "import numpy as np"
   ]
  },
  {
   "cell_type": "code",
   "execution_count": 164,
   "id": "1224d9d3",
   "metadata": {},
   "outputs": [],
   "source": [
    "m = np.random.randint(1, 15, (30, 3))"
   ]
  },
  {
   "cell_type": "code",
   "execution_count": 165,
   "id": "c197d3a9",
   "metadata": {},
   "outputs": [
    {
     "data": {
      "text/plain": [
       "array([[13,  9, 11],\n",
       "       [ 5,  9, 11],\n",
       "       [11, 11,  7],\n",
       "       [ 9,  3,  1],\n",
       "       [ 5,  7,  2],\n",
       "       [ 8,  8,  4],\n",
       "       [ 4,  4,  2],\n",
       "       [ 5, 11,  5],\n",
       "       [ 7, 14,  3],\n",
       "       [13, 11, 12],\n",
       "       [12,  1,  3],\n",
       "       [ 9,  2,  2],\n",
       "       [ 5,  9, 10],\n",
       "       [ 2,  8,  3],\n",
       "       [12,  9, 10],\n",
       "       [13, 10,  8],\n",
       "       [ 9,  5,  1],\n",
       "       [ 2,  9,  6],\n",
       "       [ 7, 14, 11],\n",
       "       [ 3,  4,  8],\n",
       "       [ 9, 13, 12],\n",
       "       [ 3,  9,  4],\n",
       "       [ 9, 10,  1],\n",
       "       [ 7,  4, 13],\n",
       "       [ 9,  2,  3],\n",
       "       [ 4,  3,  8],\n",
       "       [ 9,  8, 10],\n",
       "       [ 1,  6,  5],\n",
       "       [ 4,  9, 10],\n",
       "       [11,  9,  2]])"
      ]
     },
     "execution_count": 165,
     "metadata": {},
     "output_type": "execute_result"
    }
   ],
   "source": [
    "m"
   ]
  },
  {
   "cell_type": "code",
   "execution_count": 166,
   "id": "12c8775c",
   "metadata": {},
   "outputs": [],
   "source": [
    "mu = np.zeros(3)"
   ]
  },
  {
   "cell_type": "code",
   "execution_count": 167,
   "id": "d11f715d",
   "metadata": {},
   "outputs": [
    {
     "data": {
      "text/plain": [
       "array([0., 0., 0.])"
      ]
     },
     "execution_count": 167,
     "metadata": {},
     "output_type": "execute_result"
    }
   ],
   "source": [
    "mu"
   ]
  },
  {
   "cell_type": "code",
   "execution_count": 168,
   "id": "8244b7ec",
   "metadata": {},
   "outputs": [],
   "source": [
    "for vec in m:\n",
    "    mu += vec"
   ]
  },
  {
   "cell_type": "code",
   "execution_count": 169,
   "id": "14d1c31e",
   "metadata": {},
   "outputs": [
    {
     "data": {
      "text/plain": [
       "30"
      ]
     },
     "execution_count": 169,
     "metadata": {},
     "output_type": "execute_result"
    }
   ],
   "source": [
    "m.shape[0]"
   ]
  },
  {
   "cell_type": "code",
   "execution_count": 170,
   "id": "9bfcb942",
   "metadata": {},
   "outputs": [],
   "source": [
    "mu /= m.shape[0]"
   ]
  },
  {
   "cell_type": "code",
   "execution_count": 171,
   "id": "7013d2a6",
   "metadata": {},
   "outputs": [
    {
     "data": {
      "text/plain": [
       "array([7.33333333, 7.7       , 6.26666667])"
      ]
     },
     "execution_count": 171,
     "metadata": {},
     "output_type": "execute_result"
    }
   ],
   "source": [
    "mu"
   ]
  },
  {
   "cell_type": "code",
   "execution_count": 172,
   "id": "9ba44437",
   "metadata": {},
   "outputs": [
    {
     "data": {
      "text/plain": [
       "array([7.33333333, 7.7       , 6.26666667])"
      ]
     },
     "execution_count": 172,
     "metadata": {},
     "output_type": "execute_result"
    }
   ],
   "source": [
    "m.mean(axis = 0)"
   ]
  },
  {
   "cell_type": "code",
   "execution_count": 173,
   "id": "6682a747",
   "metadata": {},
   "outputs": [],
   "source": [
    "m.mean(axis = 1);"
   ]
  },
  {
   "cell_type": "code",
   "execution_count": 174,
   "id": "653e4848",
   "metadata": {},
   "outputs": [],
   "source": [
    "import matplotlib.pyplot as plt\n",
    "from jupyterthemes import jtplot\n",
    "jtplot.style()"
   ]
  },
  {
   "cell_type": "code",
   "execution_count": 175,
   "id": "82460ca7",
   "metadata": {},
   "outputs": [
    {
     "data": {
      "image/png": "[encoded data removed]",
      "text/plain": [
       "<Figure size 720x720 with 1 Axes>"
      ]
     },
     "metadata": {},
     "output_type": "display_data"
    }
   ],
   "source": [
    "fig, ax = plt.subplots(subplot_kw = {'projection' : '3d'}, figsize = (10, 10))\n",
    "\n",
    "ax.scatter3D(m[:, 0], m[:, 1], m[:, 2], s = 50)\n",
    "\n",
    "ax.scatter3D(mu[0], mu[1], mu[2], color = 'r', s = 250, marker = '*');"
   ]
  },
  {
   "cell_type": "code",
   "execution_count": null,
   "id": "3768bfaa",
   "metadata": {},
   "outputs": [],
   "source": []
  },
  {
   "cell_type": "code",
   "execution_count": null,
   "id": "877d3e50",
   "metadata": {},
   "outputs": [],
   "source": []
  },
  {
   "cell_type": "code",
   "execution_count": null,
   "id": "861894fc",
   "metadata": {},
   "outputs": [],
   "source": []
  },
  {
   "cell_type": "markdown",
   "id": "plastic-april",
   "metadata": {},
   "source": [
    "[Regresar al contenido](#Contenido)"
   ]
  },
  {
   "cell_type": "markdown",
   "id": "cardiac-labor",
   "metadata": {},
   "source": [
    "### Varianza de un Data set\n",
    "\n",
    "\n",
    "Anterior mente habíamos hablado de la varianza como una medida que nos permite hacernos una idea de que tan dispersos están los datos, notemos que podemos tener dos data set $D_1$ y $D_2$ con la misma media:\n",
    "\n",
    "$$D_1 = {1, 2, 4, 5}$$\n",
    "\n",
    "$$D_2 = {-1, 7, 3}$$\n",
    "\n",
    "Note que $E[D_1] = E[D_2] = 3$, en principio la media no nos ayuda a poder diferenciar estos dos data sets, y para poder hacernos una idea de en que se diferencian vamos a observar la varianza. Para este caso unidimensional tenemos que:\n",
    "\n",
    "$$var[D] = \\frac{1}{n} \\sum_{i= 1}^n (x_i - \\mu)^2$$\n",
    "\n"
   ]
  },
  {
   "cell_type": "markdown",
   "id": "f7c4be71",
   "metadata": {},
   "source": [
    "$$foo[D] = \\frac{1}{n} \\sum_{i= 1}^n (x_i - \\mu)$$\n"
   ]
  },
  {
   "cell_type": "markdown",
   "id": "24e6b2b8",
   "metadata": {},
   "source": [
    "$$foo[D] = \\frac{1}{n} (\\sum_{i= 1}^nx_i - \\sum_{i= 1}^n\\mu)$$"
   ]
  },
  {
   "cell_type": "markdown",
   "id": "6d7524cc",
   "metadata": {},
   "source": [
    "$$foo[D] = \\frac{1}{n} \\sum_{i= 1}^nx_i -  \\frac{1}{n} \\sum_{i= 1}^n\\mu$$"
   ]
  },
  {
   "cell_type": "markdown",
   "id": "26b6c2c4",
   "metadata": {},
   "source": [
    "$$foo[D] = \\mu - \\mu = 0$$"
   ]
  },
  {
   "cell_type": "markdown",
   "id": "72939dd4",
   "metadata": {},
   "source": [
    "Donde $\\mu = E[D]$, con esta definición tenemos que $var[D_1] = \\frac{10}{11}$ y $var[D_2] = \\frac{32}{3}$. Una varianza mayor nos indica que los elementos del data set están menos concentrados alrededor de la media, están más dispersos. Ahora extenderemos esta definición a dimensiones más altas. El primer problema que encontramos es que no hay algo como _vectores cuadrados_ por lo que la definición anterior queda obsoleta. Para poder dar una definición útil rescataremos el concepto de covarianza:\n",
    "\n",
    "$$cov[x, y] = \\frac{1}{n} \\sum_{i= 1}^n (x_i - \\mu_x)(y_i - \\mu_y) = E[(x - \\mu_x)(y - \\mu_y)]$$\n",
    "\n",
    "\n",
    "Donde $\\mu_x = E[x]$ y $\\mu_y = E[y]$. Como habíamos mencionado antes la varianza de $x$ puede ser entendida como $cov[x, x]$. Una vez rescatado este concepto definiremos la _matriz de covarianza_\n",
    "\n",
    "Sea $D$ un vector aleatorio formado por $d$ variables aleatorias $C_1, \\cdots, C_d$ y que forman a nuestro data set $X_1, \\cdots, X_n$, la matriz de covarianza de $D$ como:\n",
    "\n",
    "$$var[D] = E[(D - \\mu)^T(D - \\mu)]$$\n",
    "\n",
    "Que es una matriz simétrica de valores reales (no todos positivos) que tiene el siguiente aspecto:\n",
    "\n",
    "\n",
    "$$\n",
    "\\begin{bmatrix}\n",
    "var[C_1] & cov[C_1, C_2] & \\cdots & cov[C_1, C_d]\\\\\n",
    "cov[C_2, C_1] & var[C_2] & \\cdots & cov[C_2, C_d]\\\\\n",
    "\\vdots & \\vdots & \\cdots & \\vdots\\\\\n",
    "cov[C_d, C_1] & cov[C_d, C_2] & \\cdots & var[C_d]\\\\\n",
    "\\end{bmatrix}\n",
    "$$"
   ]
  },
  {
   "cell_type": "code",
   "execution_count": 176,
   "id": "polished-outside",
   "metadata": {},
   "outputs": [],
   "source": [
    "import pandas as pd\n",
    "import seaborn as sns\n",
    "from sympy import *"
   ]
  },
  {
   "cell_type": "code",
   "execution_count": 177,
   "id": "9d8129a1",
   "metadata": {},
   "outputs": [],
   "source": [
    "planets = sns.load_dataset('planets')"
   ]
  },
  {
   "cell_type": "code",
   "execution_count": 178,
   "id": "f3807a3e",
   "metadata": {},
   "outputs": [
    {
     "data": {
      "text/html": [
       "<div>\n",
       "<style scoped>\n",
       "    .dataframe tbody tr th:only-of-type {\n",
       "        vertical-align: middle;\n",
       "    }\n",
       "\n",
       "    .dataframe tbody tr th {\n",
       "        vertical-align: top;\n",
       "    }\n",
       "\n",
       "    .dataframe thead th {\n",
       "        text-align: right;\n",
       "    }\n",
       "</style>\n",
       "<table border=\"1\" class=\"dataframe\">\n",
       "  <thead>\n",
       "    <tr style=\"text-align: right;\">\n",
       "      <th></th>\n",
       "      <th>method</th>\n",
       "      <th>number</th>\n",
       "      <th>orbital_period</th>\n",
       "      <th>mass</th>\n",
       "      <th>distance</th>\n",
       "      <th>year</th>\n",
       "    </tr>\n",
       "  </thead>\n",
       "  <tbody>\n",
       "    <tr>\n",
       "      <th>0</th>\n",
       "      <td>Radial Velocity</td>\n",
       "      <td>1</td>\n",
       "      <td>269.300</td>\n",
       "      <td>7.10</td>\n",
       "      <td>77.40</td>\n",
       "      <td>2006</td>\n",
       "    </tr>\n",
       "    <tr>\n",
       "      <th>1</th>\n",
       "      <td>Radial Velocity</td>\n",
       "      <td>1</td>\n",
       "      <td>874.774</td>\n",
       "      <td>2.21</td>\n",
       "      <td>56.95</td>\n",
       "      <td>2008</td>\n",
       "    </tr>\n",
       "    <tr>\n",
       "      <th>2</th>\n",
       "      <td>Radial Velocity</td>\n",
       "      <td>1</td>\n",
       "      <td>763.000</td>\n",
       "      <td>2.60</td>\n",
       "      <td>19.84</td>\n",
       "      <td>2011</td>\n",
       "    </tr>\n",
       "    <tr>\n",
       "      <th>3</th>\n",
       "      <td>Radial Velocity</td>\n",
       "      <td>1</td>\n",
       "      <td>326.030</td>\n",
       "      <td>19.40</td>\n",
       "      <td>110.62</td>\n",
       "      <td>2007</td>\n",
       "    </tr>\n",
       "    <tr>\n",
       "      <th>4</th>\n",
       "      <td>Radial Velocity</td>\n",
       "      <td>1</td>\n",
       "      <td>516.220</td>\n",
       "      <td>10.50</td>\n",
       "      <td>119.47</td>\n",
       "      <td>2009</td>\n",
       "    </tr>\n",
       "  </tbody>\n",
       "</table>\n",
       "</div>"
      ],
      "text/plain": [
       "            method  number  orbital_period   mass  distance  year\n",
       "0  Radial Velocity       1         269.300   7.10     77.40  2006\n",
       "1  Radial Velocity       1         874.774   2.21     56.95  2008\n",
       "2  Radial Velocity       1         763.000   2.60     19.84  2011\n",
       "3  Radial Velocity       1         326.030  19.40    110.62  2007\n",
       "4  Radial Velocity       1         516.220  10.50    119.47  2009"
      ]
     },
     "execution_count": 178,
     "metadata": {},
     "output_type": "execute_result"
    }
   ],
   "source": [
    "planets.head()"
   ]
  },
  {
   "cell_type": "code",
   "execution_count": 179,
   "id": "a5856c97",
   "metadata": {},
   "outputs": [
    {
     "data": {
      "text/html": [
       "<div>\n",
       "<style scoped>\n",
       "    .dataframe tbody tr th:only-of-type {\n",
       "        vertical-align: middle;\n",
       "    }\n",
       "\n",
       "    .dataframe tbody tr th {\n",
       "        vertical-align: top;\n",
       "    }\n",
       "\n",
       "    .dataframe thead th {\n",
       "        text-align: right;\n",
       "    }\n",
       "</style>\n",
       "<table border=\"1\" class=\"dataframe\">\n",
       "  <thead>\n",
       "    <tr style=\"text-align: right;\">\n",
       "      <th></th>\n",
       "      <th>method</th>\n",
       "      <th>number</th>\n",
       "      <th>orbital_period</th>\n",
       "      <th>mass</th>\n",
       "      <th>distance</th>\n",
       "      <th>year</th>\n",
       "    </tr>\n",
       "  </thead>\n",
       "  <tbody>\n",
       "    <tr>\n",
       "      <th>1030</th>\n",
       "      <td>Transit</td>\n",
       "      <td>1</td>\n",
       "      <td>3.941507</td>\n",
       "      <td>NaN</td>\n",
       "      <td>172.0</td>\n",
       "      <td>2006</td>\n",
       "    </tr>\n",
       "    <tr>\n",
       "      <th>1031</th>\n",
       "      <td>Transit</td>\n",
       "      <td>1</td>\n",
       "      <td>2.615864</td>\n",
       "      <td>NaN</td>\n",
       "      <td>148.0</td>\n",
       "      <td>2007</td>\n",
       "    </tr>\n",
       "    <tr>\n",
       "      <th>1032</th>\n",
       "      <td>Transit</td>\n",
       "      <td>1</td>\n",
       "      <td>3.191524</td>\n",
       "      <td>NaN</td>\n",
       "      <td>174.0</td>\n",
       "      <td>2007</td>\n",
       "    </tr>\n",
       "    <tr>\n",
       "      <th>1033</th>\n",
       "      <td>Transit</td>\n",
       "      <td>1</td>\n",
       "      <td>4.125083</td>\n",
       "      <td>NaN</td>\n",
       "      <td>293.0</td>\n",
       "      <td>2008</td>\n",
       "    </tr>\n",
       "    <tr>\n",
       "      <th>1034</th>\n",
       "      <td>Transit</td>\n",
       "      <td>1</td>\n",
       "      <td>4.187757</td>\n",
       "      <td>NaN</td>\n",
       "      <td>260.0</td>\n",
       "      <td>2008</td>\n",
       "    </tr>\n",
       "  </tbody>\n",
       "</table>\n",
       "</div>"
      ],
      "text/plain": [
       "       method  number  orbital_period  mass  distance  year\n",
       "1030  Transit       1        3.941507   NaN     172.0  2006\n",
       "1031  Transit       1        2.615864   NaN     148.0  2007\n",
       "1032  Transit       1        3.191524   NaN     174.0  2007\n",
       "1033  Transit       1        4.125083   NaN     293.0  2008\n",
       "1034  Transit       1        4.187757   NaN     260.0  2008"
      ]
     },
     "execution_count": 179,
     "metadata": {},
     "output_type": "execute_result"
    }
   ],
   "source": [
    "planets.tail()"
   ]
  },
  {
   "cell_type": "code",
   "execution_count": 180,
   "id": "9fe4fb9f",
   "metadata": {},
   "outputs": [
    {
     "data": {
      "text/plain": [
       "(1035, 6)"
      ]
     },
     "execution_count": 180,
     "metadata": {},
     "output_type": "execute_result"
    }
   ],
   "source": [
    "planets.shape"
   ]
  },
  {
   "cell_type": "code",
   "execution_count": 181,
   "id": "7c8f3ec7",
   "metadata": {},
   "outputs": [
    {
     "name": "stdout",
     "output_type": "stream",
     "text": [
      "Help on method cov in module pandas.core.frame:\n",
      "\n",
      "cov(min_periods: 'int | None' = None, ddof: 'int | None' = 1) -> 'DataFrame' method of pandas.core.frame.DataFrame instance\n",
      "    Compute pairwise covariance of columns, excluding NA/null values.\n",
      "    \n",
      "    Compute the pairwise covariance among the series of a DataFrame.\n",
      "    The returned data frame is the `covariance matrix\n",
      "    <https://en.wikipedia.org/wiki/Covariance_matrix>`__ of the columns\n",
      "    of the DataFrame.\n",
      "    \n",
      "    Both NA and null values are automatically excluded from the\n",
      "    calculation. (See the note below about bias from missing values.)\n",
      "    A threshold can be set for the minimum number of\n",
      "    observations for each value created. Comparisons with observations\n",
      "    below this threshold will be returned as ``NaN``.\n",
      "    \n",
      "    This method is generally used for the analysis of time series data to\n",
      "    understand the relationship between different measures\n",
      "    across time.\n",
      "    \n",
      "    Parameters\n",
      "    ----------\n",
      "    min_periods : int, optional\n",
      "        Minimum number of observations required per pair of columns\n",
      "        to have a valid result.\n",
      "    \n",
      "    ddof : int, default 1\n",
      "        Delta degrees of freedom.  The divisor used in calculations\n",
      "        is ``N - ddof``, where ``N`` represents the number of elements.\n",
      "    \n",
      "        .. versionadded:: 1.1.0\n",
      "    \n",
      "    Returns\n",
      "    -------\n",
      "    DataFrame\n",
      "        The covariance matrix of the series of the DataFrame.\n",
      "    \n",
      "    See Also\n",
      "    --------\n",
      "    Series.cov : Compute covariance with another Series.\n",
      "    core.window.ExponentialMovingWindow.cov: Exponential weighted sample covariance.\n",
      "    core.window.Expanding.cov : Expanding sample covariance.\n",
      "    core.window.Rolling.cov : Rolling sample covariance.\n",
      "    \n",
      "    Notes\n",
      "    -----\n",
      "    Returns the covariance matrix of the DataFrame's time series.\n",
      "    The covariance is normalized by N-ddof.\n",
      "    \n",
      "    For DataFrames that have Series that are missing data (assuming that\n",
      "    data is `missing at random\n",
      "    <https://en.wikipedia.org/wiki/Missing_data#Missing_at_random>`__)\n",
      "    the returned covariance matrix will be an unbiased estimate\n",
      "    of the variance and covariance between the member Series.\n",
      "    \n",
      "    However, for many applications this estimate may not be acceptable\n",
      "    because the estimate covariance matrix is not guaranteed to be positive\n",
      "    semi-definite. This could lead to estimate correlations having\n",
      "    absolute values which are greater than one, and/or a non-invertible\n",
      "    covariance matrix. See `Estimation of covariance matrices\n",
      "    <https://en.wikipedia.org/w/index.php?title=Estimation_of_covariance_\n",
      "    matrices>`__ for more details.\n",
      "    \n",
      "    Examples\n",
      "    --------\n",
      "    >>> df = pd.DataFrame([(1, 2), (0, 3), (2, 0), (1, 1)],\n",
      "    ...                   columns=['dogs', 'cats'])\n",
      "    >>> df.cov()\n",
      "              dogs      cats\n",
      "    dogs  0.666667 -1.000000\n",
      "    cats -1.000000  1.666667\n",
      "    \n",
      "    >>> np.random.seed(42)\n",
      "    >>> df = pd.DataFrame(np.random.randn(1000, 5),\n",
      "    ...                   columns=['a', 'b', 'c', 'd', 'e'])\n",
      "    >>> df.cov()\n",
      "              a         b         c         d         e\n",
      "    a  0.998438 -0.020161  0.059277 -0.008943  0.014144\n",
      "    b -0.020161  1.059352 -0.008543 -0.024738  0.009826\n",
      "    c  0.059277 -0.008543  1.010670 -0.001486 -0.000271\n",
      "    d -0.008943 -0.024738 -0.001486  0.921297 -0.013692\n",
      "    e  0.014144  0.009826 -0.000271 -0.013692  0.977795\n",
      "    \n",
      "    **Minimum number of periods**\n",
      "    \n",
      "    This method also supports an optional ``min_periods`` keyword\n",
      "    that specifies the required minimum number of non-NA observations for\n",
      "    each column pair in order to have a valid result:\n",
      "    \n",
      "    >>> np.random.seed(42)\n",
      "    >>> df = pd.DataFrame(np.random.randn(20, 3),\n",
      "    ...                   columns=['a', 'b', 'c'])\n",
      "    >>> df.loc[df.index[:5], 'a'] = np.nan\n",
      "    >>> df.loc[df.index[5:10], 'b'] = np.nan\n",
      "    >>> df.cov(min_periods=12)\n",
      "              a         b         c\n",
      "    a  0.316741       NaN -0.150812\n",
      "    b       NaN  1.248003  0.191417\n",
      "    c -0.150812  0.191417  0.895202\n",
      "\n"
     ]
    }
   ],
   "source": [
    "help(planets.cov)"
   ]
  },
  {
   "cell_type": "code",
   "execution_count": 182,
   "id": "b4983699",
   "metadata": {},
   "outputs": [
    {
     "data": {
      "text/html": [
       "<div>\n",
       "<style scoped>\n",
       "    .dataframe tbody tr th:only-of-type {\n",
       "        vertical-align: middle;\n",
       "    }\n",
       "\n",
       "    .dataframe tbody tr th {\n",
       "        vertical-align: top;\n",
       "    }\n",
       "\n",
       "    .dataframe thead th {\n",
       "        text-align: right;\n",
       "    }\n",
       "</style>\n",
       "<table border=\"1\" class=\"dataframe\">\n",
       "  <thead>\n",
       "    <tr style=\"text-align: right;\">\n",
       "      <th></th>\n",
       "      <th>orbital_period</th>\n",
       "      <th>mass</th>\n",
       "      <th>distance</th>\n",
       "    </tr>\n",
       "  </thead>\n",
       "  <tbody>\n",
       "    <tr>\n",
       "      <th>orbital_period</th>\n",
       "      <td>6.767661e+08</td>\n",
       "      <td>1005.472594</td>\n",
       "      <td>-255305.071038</td>\n",
       "    </tr>\n",
       "    <tr>\n",
       "      <th>mass</th>\n",
       "      <td>1.005473e+03</td>\n",
       "      <td>14.581833</td>\n",
       "      <td>46.439431</td>\n",
       "    </tr>\n",
       "    <tr>\n",
       "      <th>distance</th>\n",
       "      <td>-2.553051e+05</td>\n",
       "      <td>46.439431</td>\n",
       "      <td>537459.792221</td>\n",
       "    </tr>\n",
       "  </tbody>\n",
       "</table>\n",
       "</div>"
      ],
      "text/plain": [
       "                orbital_period         mass       distance\n",
       "orbital_period    6.767661e+08  1005.472594 -255305.071038\n",
       "mass              1.005473e+03    14.581833      46.439431\n",
       "distance         -2.553051e+05    46.439431  537459.792221"
      ]
     },
     "execution_count": 182,
     "metadata": {},
     "output_type": "execute_result"
    }
   ],
   "source": [
    "planets[['orbital_period', 'mass', 'distance']].cov()"
   ]
  },
  {
   "cell_type": "code",
   "execution_count": 183,
   "id": "bad0fa37",
   "metadata": {},
   "outputs": [
    {
     "data": {
      "text/html": [
       "<div>\n",
       "<style scoped>\n",
       "    .dataframe tbody tr th:only-of-type {\n",
       "        vertical-align: middle;\n",
       "    }\n",
       "\n",
       "    .dataframe tbody tr th {\n",
       "        vertical-align: top;\n",
       "    }\n",
       "\n",
       "    .dataframe thead th {\n",
       "        text-align: right;\n",
       "    }\n",
       "</style>\n",
       "<table border=\"1\" class=\"dataframe\">\n",
       "  <thead>\n",
       "    <tr style=\"text-align: right;\">\n",
       "      <th></th>\n",
       "      <th>method</th>\n",
       "      <th>number</th>\n",
       "      <th>orbital_period</th>\n",
       "      <th>mass</th>\n",
       "      <th>distance</th>\n",
       "      <th>year</th>\n",
       "    </tr>\n",
       "  </thead>\n",
       "  <tbody>\n",
       "    <tr>\n",
       "      <th>0</th>\n",
       "      <td>Radial Velocity</td>\n",
       "      <td>1</td>\n",
       "      <td>269.300</td>\n",
       "      <td>7.10</td>\n",
       "      <td>77.40</td>\n",
       "      <td>2006</td>\n",
       "    </tr>\n",
       "    <tr>\n",
       "      <th>1</th>\n",
       "      <td>Radial Velocity</td>\n",
       "      <td>1</td>\n",
       "      <td>874.774</td>\n",
       "      <td>2.21</td>\n",
       "      <td>56.95</td>\n",
       "      <td>2008</td>\n",
       "    </tr>\n",
       "    <tr>\n",
       "      <th>2</th>\n",
       "      <td>Radial Velocity</td>\n",
       "      <td>1</td>\n",
       "      <td>763.000</td>\n",
       "      <td>2.60</td>\n",
       "      <td>19.84</td>\n",
       "      <td>2011</td>\n",
       "    </tr>\n",
       "    <tr>\n",
       "      <th>3</th>\n",
       "      <td>Radial Velocity</td>\n",
       "      <td>1</td>\n",
       "      <td>326.030</td>\n",
       "      <td>19.40</td>\n",
       "      <td>110.62</td>\n",
       "      <td>2007</td>\n",
       "    </tr>\n",
       "    <tr>\n",
       "      <th>4</th>\n",
       "      <td>Radial Velocity</td>\n",
       "      <td>1</td>\n",
       "      <td>516.220</td>\n",
       "      <td>10.50</td>\n",
       "      <td>119.47</td>\n",
       "      <td>2009</td>\n",
       "    </tr>\n",
       "  </tbody>\n",
       "</table>\n",
       "</div>"
      ],
      "text/plain": [
       "            method  number  orbital_period   mass  distance  year\n",
       "0  Radial Velocity       1         269.300   7.10     77.40  2006\n",
       "1  Radial Velocity       1         874.774   2.21     56.95  2008\n",
       "2  Radial Velocity       1         763.000   2.60     19.84  2011\n",
       "3  Radial Velocity       1         326.030  19.40    110.62  2007\n",
       "4  Radial Velocity       1         516.220  10.50    119.47  2009"
      ]
     },
     "execution_count": 183,
     "metadata": {},
     "output_type": "execute_result"
    }
   ],
   "source": [
    "planets.head()"
   ]
  },
  {
   "cell_type": "code",
   "execution_count": 184,
   "id": "3092f882",
   "metadata": {},
   "outputs": [
    {
     "data": {
      "text/plain": [
       "<bound method NDFrame._add_numeric_operations.<locals>.mean of 0        7.10\n",
       "1        2.21\n",
       "2        2.60\n",
       "3       19.40\n",
       "4       10.50\n",
       "        ...  \n",
       "1030      NaN\n",
       "1031      NaN\n",
       "1032      NaN\n",
       "1033      NaN\n",
       "1034      NaN\n",
       "Name: mass, Length: 1035, dtype: float64>"
      ]
     },
     "execution_count": 184,
     "metadata": {},
     "output_type": "execute_result"
    }
   ],
   "source": [
    "planets['mass'].mean"
   ]
  },
  {
   "cell_type": "code",
   "execution_count": 185,
   "id": "4c9d4bdd",
   "metadata": {},
   "outputs": [],
   "source": [
    "a = np.array([1, 2, 3, 4, 5, np.nan, np.nan])"
   ]
  },
  {
   "cell_type": "code",
   "execution_count": 186,
   "id": "5909d9f7",
   "metadata": {},
   "outputs": [
    {
     "data": {
      "text/plain": [
       "nan"
      ]
     },
     "execution_count": 186,
     "metadata": {},
     "output_type": "execute_result"
    }
   ],
   "source": [
    "a.mean()"
   ]
  },
  {
   "cell_type": "code",
   "execution_count": 187,
   "id": "07c49121",
   "metadata": {},
   "outputs": [],
   "source": [
    "s = pd.Series(a)"
   ]
  },
  {
   "cell_type": "code",
   "execution_count": 188,
   "id": "a897c528",
   "metadata": {},
   "outputs": [
    {
     "data": {
      "text/plain": [
       "0    1.0\n",
       "1    2.0\n",
       "2    3.0\n",
       "3    4.0\n",
       "4    5.0\n",
       "5    NaN\n",
       "6    NaN\n",
       "dtype: float64"
      ]
     },
     "execution_count": 188,
     "metadata": {},
     "output_type": "execute_result"
    }
   ],
   "source": [
    "s"
   ]
  },
  {
   "cell_type": "code",
   "execution_count": 189,
   "id": "8258e543",
   "metadata": {},
   "outputs": [
    {
     "data": {
      "text/plain": [
       "2.142857142857143"
      ]
     },
     "execution_count": 189,
     "metadata": {},
     "output_type": "execute_result"
    }
   ],
   "source": [
    "s.fillna(0).mean()"
   ]
  },
  {
   "cell_type": "code",
   "execution_count": 190,
   "id": "044ef6dd",
   "metadata": {},
   "outputs": [
    {
     "data": {
      "text/latex": [
       "$\\displaystyle \\left[\\begin{matrix}676766088.734191 & 1005.47259444658 & -255305.071037532\\\\1005.47259444658 & 14.5818331270012 & 46.4394306783416\\\\-255305.071037532 & 46.4394306783416 & 537459.792221293\\end{matrix}\\right]$"
      ],
      "text/plain": [
       "Matrix([\n",
       "[ 676766088.734191, 1005.47259444658, -255305.071037532],\n",
       "[ 1005.47259444658, 14.5818331270012,  46.4394306783416],\n",
       "[-255305.071037532, 46.4394306783416,  537459.792221293]])"
      ]
     },
     "execution_count": 190,
     "metadata": {},
     "output_type": "execute_result"
    }
   ],
   "source": [
    "Matrix(planets[['orbital_period', 'mass', 'distance']].cov())"
   ]
  },
  {
   "cell_type": "code",
   "execution_count": 191,
   "id": "688d43d1",
   "metadata": {},
   "outputs": [
    {
     "data": {
      "text/plain": [
       "array([[ 6.76766089e+08,  1.00547259e+03, -2.55305071e+05],\n",
       "       [ 1.00547259e+03,  1.45818331e+01,  4.64394307e+01],\n",
       "       [-2.55305071e+05,  4.64394307e+01,  5.37459792e+05]])"
      ]
     },
     "execution_count": 191,
     "metadata": {},
     "output_type": "execute_result"
    }
   ],
   "source": [
    "planets[['orbital_period', 'mass', 'distance']].cov().values"
   ]
  },
  {
   "cell_type": "code",
   "execution_count": 192,
   "id": "fb50f183",
   "metadata": {},
   "outputs": [
    {
     "data": {
      "text/plain": [
       "array([[nan, nan, nan],\n",
       "       [nan, nan, nan],\n",
       "       [nan, nan, nan]])"
      ]
     },
     "execution_count": 192,
     "metadata": {},
     "output_type": "execute_result"
    }
   ],
   "source": [
    "np.cov(planets[['orbital_period', 'mass', 'distance']].values.T)"
   ]
  },
  {
   "cell_type": "code",
   "execution_count": 193,
   "id": "d754a491",
   "metadata": {},
   "outputs": [
    {
     "data": {
      "text/plain": [
       "array(['Radial Velocity', 'Imaging', 'Eclipse Timing Variations',\n",
       "       'Transit', 'Astrometry', 'Transit Timing Variations',\n",
       "       'Orbital Brightness Modulation', 'Microlensing', 'Pulsar Timing',\n",
       "       'Pulsation Timing Variations'], dtype=object)"
      ]
     },
     "execution_count": 193,
     "metadata": {},
     "output_type": "execute_result"
    }
   ],
   "source": [
    "planets['method'].unique()"
   ]
  },
  {
   "cell_type": "code",
   "execution_count": 194,
   "id": "ad3207da",
   "metadata": {},
   "outputs": [
    {
     "data": {
      "text/html": [
       "<div>\n",
       "<style scoped>\n",
       "    .dataframe tbody tr th:only-of-type {\n",
       "        vertical-align: middle;\n",
       "    }\n",
       "\n",
       "    .dataframe tbody tr th {\n",
       "        vertical-align: top;\n",
       "    }\n",
       "\n",
       "    .dataframe thead th {\n",
       "        text-align: right;\n",
       "    }\n",
       "</style>\n",
       "<table border=\"1\" class=\"dataframe\">\n",
       "  <thead>\n",
       "    <tr style=\"text-align: right;\">\n",
       "      <th></th>\n",
       "      <th>method</th>\n",
       "      <th>number</th>\n",
       "      <th>orbital_period</th>\n",
       "      <th>mass</th>\n",
       "      <th>distance</th>\n",
       "      <th>year</th>\n",
       "    </tr>\n",
       "  </thead>\n",
       "  <tbody>\n",
       "    <tr>\n",
       "      <th>91</th>\n",
       "      <td>Transit</td>\n",
       "      <td>1</td>\n",
       "      <td>1.508956</td>\n",
       "      <td>NaN</td>\n",
       "      <td>NaN</td>\n",
       "      <td>2008</td>\n",
       "    </tr>\n",
       "    <tr>\n",
       "      <th>92</th>\n",
       "      <td>Transit</td>\n",
       "      <td>1</td>\n",
       "      <td>1.742994</td>\n",
       "      <td>NaN</td>\n",
       "      <td>200.0</td>\n",
       "      <td>2008</td>\n",
       "    </tr>\n",
       "    <tr>\n",
       "      <th>93</th>\n",
       "      <td>Transit</td>\n",
       "      <td>1</td>\n",
       "      <td>4.256800</td>\n",
       "      <td>NaN</td>\n",
       "      <td>680.0</td>\n",
       "      <td>2008</td>\n",
       "    </tr>\n",
       "    <tr>\n",
       "      <th>94</th>\n",
       "      <td>Transit</td>\n",
       "      <td>1</td>\n",
       "      <td>9.202050</td>\n",
       "      <td>NaN</td>\n",
       "      <td>NaN</td>\n",
       "      <td>2008</td>\n",
       "    </tr>\n",
       "    <tr>\n",
       "      <th>95</th>\n",
       "      <td>Transit</td>\n",
       "      <td>1</td>\n",
       "      <td>4.037896</td>\n",
       "      <td>NaN</td>\n",
       "      <td>NaN</td>\n",
       "      <td>2009</td>\n",
       "    </tr>\n",
       "    <tr>\n",
       "      <th>...</th>\n",
       "      <td>...</td>\n",
       "      <td>...</td>\n",
       "      <td>...</td>\n",
       "      <td>...</td>\n",
       "      <td>...</td>\n",
       "      <td>...</td>\n",
       "    </tr>\n",
       "    <tr>\n",
       "      <th>1030</th>\n",
       "      <td>Transit</td>\n",
       "      <td>1</td>\n",
       "      <td>3.941507</td>\n",
       "      <td>NaN</td>\n",
       "      <td>172.0</td>\n",
       "      <td>2006</td>\n",
       "    </tr>\n",
       "    <tr>\n",
       "      <th>1031</th>\n",
       "      <td>Transit</td>\n",
       "      <td>1</td>\n",
       "      <td>2.615864</td>\n",
       "      <td>NaN</td>\n",
       "      <td>148.0</td>\n",
       "      <td>2007</td>\n",
       "    </tr>\n",
       "    <tr>\n",
       "      <th>1032</th>\n",
       "      <td>Transit</td>\n",
       "      <td>1</td>\n",
       "      <td>3.191524</td>\n",
       "      <td>NaN</td>\n",
       "      <td>174.0</td>\n",
       "      <td>2007</td>\n",
       "    </tr>\n",
       "    <tr>\n",
       "      <th>1033</th>\n",
       "      <td>Transit</td>\n",
       "      <td>1</td>\n",
       "      <td>4.125083</td>\n",
       "      <td>NaN</td>\n",
       "      <td>293.0</td>\n",
       "      <td>2008</td>\n",
       "    </tr>\n",
       "    <tr>\n",
       "      <th>1034</th>\n",
       "      <td>Transit</td>\n",
       "      <td>1</td>\n",
       "      <td>4.187757</td>\n",
       "      <td>NaN</td>\n",
       "      <td>260.0</td>\n",
       "      <td>2008</td>\n",
       "    </tr>\n",
       "  </tbody>\n",
       "</table>\n",
       "<p>397 rows × 6 columns</p>\n",
       "</div>"
      ],
      "text/plain": [
       "       method  number  orbital_period  mass  distance  year\n",
       "91    Transit       1        1.508956   NaN       NaN  2008\n",
       "92    Transit       1        1.742994   NaN     200.0  2008\n",
       "93    Transit       1        4.256800   NaN     680.0  2008\n",
       "94    Transit       1        9.202050   NaN       NaN  2008\n",
       "95    Transit       1        4.037896   NaN       NaN  2009\n",
       "...       ...     ...             ...   ...       ...   ...\n",
       "1030  Transit       1        3.941507   NaN     172.0  2006\n",
       "1031  Transit       1        2.615864   NaN     148.0  2007\n",
       "1032  Transit       1        3.191524   NaN     174.0  2007\n",
       "1033  Transit       1        4.125083   NaN     293.0  2008\n",
       "1034  Transit       1        4.187757   NaN     260.0  2008\n",
       "\n",
       "[397 rows x 6 columns]"
      ]
     },
     "execution_count": 194,
     "metadata": {},
     "output_type": "execute_result"
    }
   ],
   "source": [
    "mask = planets['method'] == 'Transit'\n",
    "planets[mask]"
   ]
  },
  {
   "cell_type": "code",
   "execution_count": 195,
   "id": "aa9871de",
   "metadata": {},
   "outputs": [],
   "source": [
    "?np.random.seed"
   ]
  },
  {
   "cell_type": "code",
   "execution_count": 196,
   "id": "c49dbbd0",
   "metadata": {},
   "outputs": [
    {
     "data": {
      "text/plain": [
       "array([0.35398594, 0.62719392, 0.73992668])"
      ]
     },
     "execution_count": 196,
     "metadata": {},
     "output_type": "execute_result"
    }
   ],
   "source": [
    "np.random.seed = 15\n",
    "np.random.random(3)"
   ]
  },
  {
   "cell_type": "code",
   "execution_count": 197,
   "id": "3c1a4eda",
   "metadata": {},
   "outputs": [
    {
     "data": {
      "text/html": [
       "<div>\n",
       "<style scoped>\n",
       "    .dataframe tbody tr th:only-of-type {\n",
       "        vertical-align: middle;\n",
       "    }\n",
       "\n",
       "    .dataframe tbody tr th {\n",
       "        vertical-align: top;\n",
       "    }\n",
       "\n",
       "    .dataframe thead th {\n",
       "        text-align: right;\n",
       "    }\n",
       "</style>\n",
       "<table border=\"1\" class=\"dataframe\">\n",
       "  <thead>\n",
       "    <tr style=\"text-align: right;\">\n",
       "      <th></th>\n",
       "      <th>method</th>\n",
       "      <th>number</th>\n",
       "      <th>orbital_period</th>\n",
       "      <th>mass</th>\n",
       "      <th>distance</th>\n",
       "      <th>year</th>\n",
       "    </tr>\n",
       "  </thead>\n",
       "  <tbody>\n",
       "    <tr>\n",
       "      <th>510</th>\n",
       "      <td>Radial Velocity</td>\n",
       "      <td>2</td>\n",
       "      <td>12.620000</td>\n",
       "      <td>1.1300</td>\n",
       "      <td>68.59</td>\n",
       "      <td>2013</td>\n",
       "    </tr>\n",
       "    <tr>\n",
       "      <th>898</th>\n",
       "      <td>Transit</td>\n",
       "      <td>1</td>\n",
       "      <td>1.720861</td>\n",
       "      <td>NaN</td>\n",
       "      <td>1056.00</td>\n",
       "      <td>2014</td>\n",
       "    </tr>\n",
       "    <tr>\n",
       "      <th>997</th>\n",
       "      <td>Transit</td>\n",
       "      <td>1</td>\n",
       "      <td>2.423804</td>\n",
       "      <td>NaN</td>\n",
       "      <td>NaN</td>\n",
       "      <td>2011</td>\n",
       "    </tr>\n",
       "    <tr>\n",
       "      <th>655</th>\n",
       "      <td>Transit</td>\n",
       "      <td>1</td>\n",
       "      <td>3.548460</td>\n",
       "      <td>NaN</td>\n",
       "      <td>NaN</td>\n",
       "      <td>2009</td>\n",
       "    </tr>\n",
       "    <tr>\n",
       "      <th>894</th>\n",
       "      <td>Transit</td>\n",
       "      <td>1</td>\n",
       "      <td>2.465020</td>\n",
       "      <td>NaN</td>\n",
       "      <td>NaN</td>\n",
       "      <td>2014</td>\n",
       "    </tr>\n",
       "    <tr>\n",
       "      <th>459</th>\n",
       "      <td>Radial Velocity</td>\n",
       "      <td>1</td>\n",
       "      <td>1840.000000</td>\n",
       "      <td>1.6000</td>\n",
       "      <td>67.61</td>\n",
       "      <td>2009</td>\n",
       "    </tr>\n",
       "    <tr>\n",
       "      <th>323</th>\n",
       "      <td>Radial Velocity</td>\n",
       "      <td>1</td>\n",
       "      <td>472.000000</td>\n",
       "      <td>0.5800</td>\n",
       "      <td>50.43</td>\n",
       "      <td>2010</td>\n",
       "    </tr>\n",
       "    <tr>\n",
       "      <th>244</th>\n",
       "      <td>Radial Velocity</td>\n",
       "      <td>2</td>\n",
       "      <td>1708.000000</td>\n",
       "      <td>1.9200</td>\n",
       "      <td>37.16</td>\n",
       "      <td>2002</td>\n",
       "    </tr>\n",
       "    <tr>\n",
       "      <th>1030</th>\n",
       "      <td>Transit</td>\n",
       "      <td>1</td>\n",
       "      <td>3.941507</td>\n",
       "      <td>NaN</td>\n",
       "      <td>172.00</td>\n",
       "      <td>2006</td>\n",
       "    </tr>\n",
       "    <tr>\n",
       "      <th>481</th>\n",
       "      <td>Radial Velocity</td>\n",
       "      <td>1</td>\n",
       "      <td>386.300000</td>\n",
       "      <td>1.6200</td>\n",
       "      <td>34.57</td>\n",
       "      <td>2003</td>\n",
       "    </tr>\n",
       "    <tr>\n",
       "      <th>541</th>\n",
       "      <td>Radial Velocity</td>\n",
       "      <td>1</td>\n",
       "      <td>14.476000</td>\n",
       "      <td>0.0800</td>\n",
       "      <td>63.69</td>\n",
       "      <td>2008</td>\n",
       "    </tr>\n",
       "    <tr>\n",
       "      <th>236</th>\n",
       "      <td>Radial Velocity</td>\n",
       "      <td>1</td>\n",
       "      <td>989.200000</td>\n",
       "      <td>0.9400</td>\n",
       "      <td>17.35</td>\n",
       "      <td>2006</td>\n",
       "    </tr>\n",
       "    <tr>\n",
       "      <th>31</th>\n",
       "      <td>Imaging</td>\n",
       "      <td>1</td>\n",
       "      <td>NaN</td>\n",
       "      <td>NaN</td>\n",
       "      <td>140.00</td>\n",
       "      <td>2004</td>\n",
       "    </tr>\n",
       "    <tr>\n",
       "      <th>214</th>\n",
       "      <td>Radial Velocity</td>\n",
       "      <td>2</td>\n",
       "      <td>2732.000000</td>\n",
       "      <td>2.3700</td>\n",
       "      <td>56.50</td>\n",
       "      <td>2012</td>\n",
       "    </tr>\n",
       "    <tr>\n",
       "      <th>474</th>\n",
       "      <td>Radial Velocity</td>\n",
       "      <td>3</td>\n",
       "      <td>27.582000</td>\n",
       "      <td>0.0358</td>\n",
       "      <td>14.56</td>\n",
       "      <td>2011</td>\n",
       "    </tr>\n",
       "    <tr>\n",
       "      <th>140</th>\n",
       "      <td>Radial Velocity</td>\n",
       "      <td>1</td>\n",
       "      <td>3416.000000</td>\n",
       "      <td>0.6400</td>\n",
       "      <td>4.94</td>\n",
       "      <td>2008</td>\n",
       "    </tr>\n",
       "    <tr>\n",
       "      <th>1022</th>\n",
       "      <td>Transit</td>\n",
       "      <td>1</td>\n",
       "      <td>1.360031</td>\n",
       "      <td>NaN</td>\n",
       "      <td>93.00</td>\n",
       "      <td>2012</td>\n",
       "    </tr>\n",
       "    <tr>\n",
       "      <th>611</th>\n",
       "      <td>Radial Velocity</td>\n",
       "      <td>1</td>\n",
       "      <td>2209.000000</td>\n",
       "      <td>1.0600</td>\n",
       "      <td>45.23</td>\n",
       "      <td>2012</td>\n",
       "    </tr>\n",
       "    <tr>\n",
       "      <th>847</th>\n",
       "      <td>Transit</td>\n",
       "      <td>2</td>\n",
       "      <td>179.612000</td>\n",
       "      <td>NaN</td>\n",
       "      <td>NaN</td>\n",
       "      <td>2014</td>\n",
       "    </tr>\n",
       "    <tr>\n",
       "      <th>297</th>\n",
       "      <td>Radial Velocity</td>\n",
       "      <td>3</td>\n",
       "      <td>2295.000000</td>\n",
       "      <td>0.6830</td>\n",
       "      <td>33.24</td>\n",
       "      <td>2002</td>\n",
       "    </tr>\n",
       "    <tr>\n",
       "      <th>419</th>\n",
       "      <td>Radial Velocity</td>\n",
       "      <td>1</td>\n",
       "      <td>199.505000</td>\n",
       "      <td>8.3000</td>\n",
       "      <td>102.04</td>\n",
       "      <td>2003</td>\n",
       "    </tr>\n",
       "    <tr>\n",
       "      <th>256</th>\n",
       "      <td>Radial Velocity</td>\n",
       "      <td>1</td>\n",
       "      <td>21.216630</td>\n",
       "      <td>NaN</td>\n",
       "      <td>78.25</td>\n",
       "      <td>2007</td>\n",
       "    </tr>\n",
       "    <tr>\n",
       "      <th>29</th>\n",
       "      <td>Imaging</td>\n",
       "      <td>1</td>\n",
       "      <td>NaN</td>\n",
       "      <td>NaN</td>\n",
       "      <td>45.52</td>\n",
       "      <td>2005</td>\n",
       "    </tr>\n",
       "    <tr>\n",
       "      <th>961</th>\n",
       "      <td>Transit</td>\n",
       "      <td>1</td>\n",
       "      <td>1.846835</td>\n",
       "      <td>NaN</td>\n",
       "      <td>220.00</td>\n",
       "      <td>2007</td>\n",
       "    </tr>\n",
       "    <tr>\n",
       "      <th>487</th>\n",
       "      <td>Radial Velocity</td>\n",
       "      <td>1</td>\n",
       "      <td>528.400000</td>\n",
       "      <td>1.2100</td>\n",
       "      <td>12.87</td>\n",
       "      <td>2003</td>\n",
       "    </tr>\n",
       "    <tr>\n",
       "      <th>933</th>\n",
       "      <td>Transit</td>\n",
       "      <td>1</td>\n",
       "      <td>1.432475</td>\n",
       "      <td>NaN</td>\n",
       "      <td>600.00</td>\n",
       "      <td>2004</td>\n",
       "    </tr>\n",
       "    <tr>\n",
       "      <th>813</th>\n",
       "      <td>Transit Timing Variations</td>\n",
       "      <td>2</td>\n",
       "      <td>22.339500</td>\n",
       "      <td>NaN</td>\n",
       "      <td>339.00</td>\n",
       "      <td>2013</td>\n",
       "    </tr>\n",
       "    <tr>\n",
       "      <th>953</th>\n",
       "      <td>Transit</td>\n",
       "      <td>1</td>\n",
       "      <td>3.030065</td>\n",
       "      <td>NaN</td>\n",
       "      <td>152.30</td>\n",
       "      <td>2004</td>\n",
       "    </tr>\n",
       "    <tr>\n",
       "      <th>230</th>\n",
       "      <td>Radial Velocity</td>\n",
       "      <td>6</td>\n",
       "      <td>5.759620</td>\n",
       "      <td>0.0410</td>\n",
       "      <td>39.39</td>\n",
       "      <td>2010</td>\n",
       "    </tr>\n",
       "    <tr>\n",
       "      <th>246</th>\n",
       "      <td>Radial Velocity</td>\n",
       "      <td>2</td>\n",
       "      <td>14.182000</td>\n",
       "      <td>0.0325</td>\n",
       "      <td>28.60</td>\n",
       "      <td>2011</td>\n",
       "    </tr>\n",
       "  </tbody>\n",
       "</table>\n",
       "</div>"
      ],
      "text/plain": [
       "                         method  number  orbital_period    mass  distance  \\\n",
       "510             Radial Velocity       2       12.620000  1.1300     68.59   \n",
       "898                     Transit       1        1.720861     NaN   1056.00   \n",
       "997                     Transit       1        2.423804     NaN       NaN   \n",
       "655                     Transit       1        3.548460     NaN       NaN   \n",
       "894                     Transit       1        2.465020     NaN       NaN   \n",
       "459             Radial Velocity       1     1840.000000  1.6000     67.61   \n",
       "323             Radial Velocity       1      472.000000  0.5800     50.43   \n",
       "244             Radial Velocity       2     1708.000000  1.9200     37.16   \n",
       "1030                    Transit       1        3.941507     NaN    172.00   \n",
       "481             Radial Velocity       1      386.300000  1.6200     34.57   \n",
       "541             Radial Velocity       1       14.476000  0.0800     63.69   \n",
       "236             Radial Velocity       1      989.200000  0.9400     17.35   \n",
       "31                      Imaging       1             NaN     NaN    140.00   \n",
       "214             Radial Velocity       2     2732.000000  2.3700     56.50   \n",
       "474             Radial Velocity       3       27.582000  0.0358     14.56   \n",
       "140             Radial Velocity       1     3416.000000  0.6400      4.94   \n",
       "1022                    Transit       1        1.360031     NaN     93.00   \n",
       "611             Radial Velocity       1     2209.000000  1.0600     45.23   \n",
       "847                     Transit       2      179.612000     NaN       NaN   \n",
       "297             Radial Velocity       3     2295.000000  0.6830     33.24   \n",
       "419             Radial Velocity       1      199.505000  8.3000    102.04   \n",
       "256             Radial Velocity       1       21.216630     NaN     78.25   \n",
       "29                      Imaging       1             NaN     NaN     45.52   \n",
       "961                     Transit       1        1.846835     NaN    220.00   \n",
       "487             Radial Velocity       1      528.400000  1.2100     12.87   \n",
       "933                     Transit       1        1.432475     NaN    600.00   \n",
       "813   Transit Timing Variations       2       22.339500     NaN    339.00   \n",
       "953                     Transit       1        3.030065     NaN    152.30   \n",
       "230             Radial Velocity       6        5.759620  0.0410     39.39   \n",
       "246             Radial Velocity       2       14.182000  0.0325     28.60   \n",
       "\n",
       "      year  \n",
       "510   2013  \n",
       "898   2014  \n",
       "997   2011  \n",
       "655   2009  \n",
       "894   2014  \n",
       "459   2009  \n",
       "323   2010  \n",
       "244   2002  \n",
       "1030  2006  \n",
       "481   2003  \n",
       "541   2008  \n",
       "236   2006  \n",
       "31    2004  \n",
       "214   2012  \n",
       "474   2011  \n",
       "140   2008  \n",
       "1022  2012  \n",
       "611   2012  \n",
       "847   2014  \n",
       "297   2002  \n",
       "419   2003  \n",
       "256   2007  \n",
       "29    2005  \n",
       "961   2007  \n",
       "487   2003  \n",
       "933   2004  \n",
       "813   2013  \n",
       "953   2004  \n",
       "230   2010  \n",
       "246   2011  "
      ]
     },
     "execution_count": 197,
     "metadata": {},
     "output_type": "execute_result"
    }
   ],
   "source": [
    "planets.sample(30)"
   ]
  },
  {
   "cell_type": "markdown",
   "id": "protected-walter",
   "metadata": {},
   "source": [
    "Esta matriz de covarianza es la extensión de la varianza para el caso multidimensional, y nos será de utilidad más adelante.\n",
    "\n",
    "[Regresar al contenido](#Contenido)"
   ]
  },
  {
   "cell_type": "markdown",
   "id": "advised-dollar",
   "metadata": {},
   "source": [
    "### Producto punto y proyección en un subespacio\n",
    "\n",
    "\n",
    "Recordemos el producto punto entre vectores rápidamente.\n",
    "\n",
    "$$ X \\cdot Y = X^T Y = \\sum x_i y_i$$\n",
    "\n",
    "Una aplicación que vimos anteriormente del producto punto es el de proyectar un vector $\\vec{a}$ en un subespacio $\\mathcal{L}$\n",
    "\n",
    "\n",
    "<img src=\"Proyeccion ortogonal.png\" width = 400 height = 400> \n",
    "\n",
    "\n",
    "\n",
    "Supongamos que tenemos un vector $\\vec{b}$ que genera un subespacio $\\mathcal{L}$, y tenemos un vector $\\vec{a}$ que no pertenece a $\\mathcal{L}$, entonces podemos hallar la proyección $\\pi_{\\mathcal{L}} (\\vec{a})$. Esta proyección debe cumplir las siguientes dos propiedades.\n",
    "\n",
    "\n",
    "\n",
    "- $\\pi_{\\mathcal{L}} (\\vec{a}) \\in \\mathcal{L}$, es decir, existe un escalar $\\lambda$ tal que $\\pi_u (\\vec{a}) = \\lambda \\vec{b}$\n",
    "- $\\vec{b}  \\cdot (\\pi_{\\mathcal{L}} (\\vec{a}) - \\vec{a}) = 0$\n",
    "\n",
    "\n",
    "Analicemos un poco que pasa con la segunda condición para poder deducir quien es nuestra proyección. Tenemos:\n",
    "\n",
    "\n",
    "$$\\vec{b}  \\cdot (\\pi_{\\mathcal{L}} (\\vec{a}) - \\vec{a}) = \\vec{b} \\cdot \\pi_{\\mathcal{L}} (\\vec{a}) - \\vec{b} \\cdot \\vec{a} = \\vec{b} \\cdot \\lambda \\vec{b} - \\vec{b} \\cdot \\vec{a} = 0$$\n",
    "$$\\lambda ||\\vec{b}||^2 = \\vec{b} \\cdot \\vec{a}$$\n",
    "$$\\lambda = \\frac{\\vec{b} \\cdot \\vec{a}}{||\\vec{b}||^2}$$"
   ]
  },
  {
   "cell_type": "markdown",
   "id": "successful-southeast",
   "metadata": {},
   "source": [
    "A $\\lambda$ se le conoce como la coordenada de $\\pi_{\\mathcal{L}} (\\vec{a})$ en la base $\\{\\vec{b}\\}$. una vez que ya identificamos $\\lambda$ podemos escribir la proyección como:\n",
    "\n",
    "$$\\pi_{\\mathcal{L}} (\\vec{a}) = \\lambda \\vec{b} = \\frac{\\vec{b} \\cdot \\vec{a}}{||\\vec{b}||^2} \\vec{b} = \\frac{b b^T}{||b||^2}a$$\n",
    "\n",
    "\n",
    "Donde a $\\frac{b b^T}{||b||^2}$ la llamaremos matriz de proyección. Que cumple ser cuadrada y simétrica. Veamos un ejemplo en 2 dimensiones. Suponga que:\n",
    "\n",
    "\n",
    "$$\n",
    "b = \n",
    "\\begin{bmatrix}\n",
    "b_1\\\\\n",
    "b_2\\\\\n",
    "\\end{bmatrix}\n",
    "$$\n",
    "\n",
    "Entonces:\n",
    "\n",
    "$$\n",
    "bb^T = \n",
    "\\begin{bmatrix}\n",
    "b_1\\\\\n",
    "b_2\\\\\n",
    "\\end{bmatrix}\n",
    "\\begin{bmatrix}\n",
    "b_1 & b_2\\\\\n",
    "\\end{bmatrix}\n",
    "=\n",
    "\\begin{bmatrix}\n",
    "b_1^2  & b_1 b_2\\\\\n",
    "b_1 b_2  & b_2^2\\\\\n",
    "\\end{bmatrix}\n",
    "$$\n",
    "\n"
   ]
  },
  {
   "cell_type": "code",
   "execution_count": 198,
   "id": "54b3514c",
   "metadata": {},
   "outputs": [],
   "source": [
    "a = np.array([-6, 7])\n",
    "b = np.array([-1, -2])"
   ]
  },
  {
   "cell_type": "code",
   "execution_count": 199,
   "id": "28a6908f",
   "metadata": {},
   "outputs": [],
   "source": [
    "scalar = np.linspace(-3, 3, 1000)"
   ]
  },
  {
   "cell_type": "code",
   "execution_count": 200,
   "id": "bf81c8de",
   "metadata": {},
   "outputs": [],
   "source": [
    "x, y = [], []"
   ]
  },
  {
   "cell_type": "code",
   "execution_count": 201,
   "id": "bfdc5de6",
   "metadata": {},
   "outputs": [],
   "source": [
    "for t in scalar:\n",
    "    x.append((b * t)[0])\n",
    "    y.append((b * t)[1])"
   ]
  },
  {
   "cell_type": "code",
   "execution_count": 202,
   "id": "cedd32ef",
   "metadata": {},
   "outputs": [],
   "source": [
    "x = np.array(x)\n",
    "y = np.array(y)"
   ]
  },
  {
   "cell_type": "code",
   "execution_count": 203,
   "id": "cceb8029",
   "metadata": {},
   "outputs": [
    {
     "data": {
      "image/png": "[encoded data removed]",
      "text/plain": [
       "<Figure size 576x576 with 1 Axes>"
      ]
     },
     "metadata": {},
     "output_type": "display_data"
    }
   ],
   "source": [
    "fig, ax = plt.subplots(figsize = (8, 8))\n",
    "\n",
    "ax.quiver([0, 0], [0, 0], [a[0], b[0]], [a[1], b[1]], color = 'w', scale = 15)\n",
    "ax.plot(x, y, linestyle = '--')\n",
    "ax.set_aspect(\"equal\")\n",
    "ax.axvline(0, color = 'w', alpha = 0.3)\n",
    "ax.axhline(0, color = 'w', alpha = 0.3)\n",
    "ax.set_xlim([-3, 3])\n",
    "ax.set_ylim([-3, 3]);"
   ]
  },
  {
   "cell_type": "code",
   "execution_count": 204,
   "id": "c4922d67",
   "metadata": {},
   "outputs": [
    {
     "data": {
      "text/plain": [
       "array([ True,  True])"
      ]
     },
     "execution_count": 204,
     "metadata": {},
     "output_type": "execute_result"
    }
   ],
   "source": [
    "b == b.T"
   ]
  },
  {
   "cell_type": "code",
   "execution_count": 205,
   "id": "cddd0300",
   "metadata": {},
   "outputs": [
    {
     "data": {
      "text/plain": [
       "array([-1, -2])"
      ]
     },
     "execution_count": 205,
     "metadata": {},
     "output_type": "execute_result"
    }
   ],
   "source": [
    "b"
   ]
  },
  {
   "cell_type": "code",
   "execution_count": 206,
   "id": "3f020c0c",
   "metadata": {},
   "outputs": [],
   "source": [
    "b2 = b.copy()"
   ]
  },
  {
   "cell_type": "code",
   "execution_count": 207,
   "id": "ab7a8669",
   "metadata": {},
   "outputs": [],
   "source": [
    "b2 = b2.reshape((2, 1))"
   ]
  },
  {
   "cell_type": "code",
   "execution_count": 208,
   "id": "e049fdeb",
   "metadata": {},
   "outputs": [],
   "source": [
    "m = (b2 @ b2.T) / (b.dot(b))"
   ]
  },
  {
   "cell_type": "code",
   "execution_count": 209,
   "id": "1b9cda09",
   "metadata": {},
   "outputs": [
    {
     "data": {
      "text/plain": [
       "array([[0.2, 0.4],\n",
       "       [0.4, 0.8]])"
      ]
     },
     "execution_count": 209,
     "metadata": {},
     "output_type": "execute_result"
    }
   ],
   "source": [
    "m"
   ]
  },
  {
   "cell_type": "code",
   "execution_count": 210,
   "id": "a554cda8",
   "metadata": {},
   "outputs": [],
   "source": [
    "pa = m @ a"
   ]
  },
  {
   "cell_type": "code",
   "execution_count": 211,
   "id": "0540a5bb",
   "metadata": {},
   "outputs": [
    {
     "data": {
      "text/plain": [
       "array([1.6, 3.2])"
      ]
     },
     "execution_count": 211,
     "metadata": {},
     "output_type": "execute_result"
    }
   ],
   "source": [
    "pa"
   ]
  },
  {
   "cell_type": "code",
   "execution_count": 212,
   "id": "17f06345",
   "metadata": {},
   "outputs": [
    {
     "data": {
      "image/png": "[encoded data removed]",
      "text/plain": [
       "<Figure size 576x576 with 1 Axes>"
      ]
     },
     "metadata": {},
     "output_type": "display_data"
    }
   ],
   "source": [
    "fig, ax = plt.subplots(figsize = (8, 8))\n",
    "\n",
    "ax.quiver([0, 0, 0], [0, 0, 0], [a[0], b[0], pa[0]], [a[1], b[1], pa[1]], color = 'w', scale = 15)\n",
    "ax.plot(x, y, linestyle = '--')\n",
    "ax.set_aspect(\"equal\")\n",
    "ax.axvline(0, color = 'w', alpha = 0.3)\n",
    "ax.axhline(0, color = 'w', alpha = 0.3)\n",
    "ax.set_xlim([-3, 3])\n",
    "ax.set_ylim([-3, 3]);"
   ]
  },
  {
   "cell_type": "markdown",
   "id": "final-bikini",
   "metadata": {},
   "source": [
    "[Regresar al contenido](#Contenido)"
   ]
  },
  {
   "cell_type": "markdown",
   "id": "global-asian",
   "metadata": {},
   "source": [
    "### Proyección ortogonal en múltiples dimensiones\n",
    "\n",
    "\n",
    "Imaginemos que ahora el subespacio $\\mathcal{L}$ tiene una base de más de un elemento, pongamos como ejemplo el caso en el que $\\mathcal{L}$ es un plano en el espacio\n",
    "\n",
    "\n",
    "\n",
    "<img src=\"Proyección ortogonal 2D.png\" width = 400 height = 400> \n",
    "\n",
    "\n",
    "en este caso la base de $\\mathcal{L}$ estará formada por dos vectores $\\{\\vec{b_1}, \\vec{b_2}\\}$, la proyección $\\pi_{\\mathcal{L}} (\\vec{a})$ sera un vector en $\\mathcal{L}$, es decir que se puede escribir como una combinación lineal de $\\vec{b_1}$ y $\\vec{b_2}$. En general si la base de $\\mathcal{L}$ está formada por $n$ vectores $\\vec{b_i}$ tenemos que $\\pi_{\\mathcal{L}} (\\vec{a})$ cumplirá que:\n",
    "\n",
    "\n",
    "- $\\pi_{\\mathcal{L}} (\\vec{a}) = \\sum_{i = 1}^{n} \\lambda_i \\vec{b_i}$\n",
    "- $b_i \\cdot (\\pi_{\\mathcal{L}} (\\vec{a}) - \\vec{a}) = 0$, para todo $i = 1, \\cdots, n$\n",
    "\n",
    "\n",
    "No te que si llamamos simplemente $\\lambda$ al vector que contiene a todos los $\\lambda_i$ y $B$ a la matriz que tiene por columnas los vectores de la base $\\vec{b_i}$, podemos escribir la primera propiedad como:\n",
    "\n",
    "$$\\pi_{\\mathcal{L}} (\\vec{a}) = B \\lambda$$\n",
    "\n",
    "De esta forma tenemos (recordando que $(AB)^T = B^TA^T$):\n",
    "\n",
    "$$\\vec{b_i} \\cdot (\\pi_{\\mathcal{L}} (\\vec{a}) - \\vec{a}) = \\vec{b_i} \\cdot (B \\lambda - \\vec{a}) =  \\vec{b_i} \\cdot B \\lambda - \\vec{b_i} \\cdot \\vec{a} = 0$$\n",
    "$$\\vec{b_i} \\cdot B \\lambda = \\vec{b_i} \\cdot \\vec{a}$$\n",
    "$$b_i^T B \\lambda = b_i^T \\vec{a}$$\n",
    "$$\\lambda^T B^T b_i = a^T b_i$$\n",
    "$$\\lambda^T B^T B = a^T B$$\n",
    "$$\\lambda^T = a^T B (B^TB)^{-1}$$\n",
    "$$\\lambda = (B^TB)^{-1}B^T a $$\n",
    "\n",
    "Hay que notar que $(B^TB)^{-1}$ es simétrica, y por tanto igual a su transpuesta. veámoslo con un ejemplo de dos vectores $b$ y $v$:\n",
    "\n",
    "$$\n",
    "\\begin{bmatrix}\n",
    "b_1  & b_2\\\\\n",
    "v_1  & v_2\\\\\n",
    "\\end{bmatrix}\n",
    "\\begin{bmatrix}\n",
    "b_1  & v_1\\\\\n",
    "b_2  & v_2\\\\\n",
    "\\end{bmatrix}\n",
    "=\n",
    "\\begin{bmatrix}\n",
    "b \\cdot b  & b \\cdot v\\\\\n",
    "v \\cdot b  & v \\cdot v\\\\\n",
    "\\end{bmatrix}\n",
    "$$\n",
    "\n",
    "\n",
    "\n",
    "Ahora $\\lambda$ es el vector de coordenadas de $\\pi_{\\mathcal{L}} (\\vec{a})$ en la base $\\{ b_1, b_2\\}$, y podemos escribir:\n",
    "\n",
    "$$\\pi_{\\mathcal{L}} (\\vec{a}) = B \\lambda = B (B^TB)^{-1}B^T a$$\n",
    "\n",
    "Donde $B (B^TB)^{-1}B^T$ es la matriz de proyección, nos interesa destacar un caso particular, y es en el que $b_1$, $b_2$ forman una base ortonormal, en ese caso $(B^TB)^{-1} = I$ y podemos simplificar la proyección:\n",
    "\n",
    "$$\\pi_u (X) = B \\lambda = BB^T X$$\n"
   ]
  },
  {
   "cell_type": "code",
   "execution_count": null,
   "id": "20d2e44f",
   "metadata": {},
   "outputs": [],
   "source": []
  },
  {
   "cell_type": "markdown",
   "id": "passive-inventory",
   "metadata": {},
   "source": [
    "[Regresar al contenido](#Contenido)"
   ]
  },
  {
   "cell_type": "markdown",
   "id": "interim-extreme",
   "metadata": {},
   "source": [
    "### La idea detrás de PCA\n",
    "\n",
    "\n",
    "La idea subyacente al aplicar PCA es la de buscar una aproximación de nuestros datos, en forma de proyección ortogonal de nuestros datos en un subespacio vectorial, la idea es hacerlo de forma óptima para perder la menor información posible, pero al mismo tiempo obteniendo una aproximación de nuestros con una dimensionalidad menor, es decir que necesitamos menos vectores para describirla.\n",
    "\n",
    "\n",
    "<img src=\"Posibles proyecciones.gif\" width = 600 height = 600> \n",
    "<img src=\"Proyección optima.gif\" width = 600 height = 600> \n",
    "\n",
    "\n",
    "Ahora supongamos que tenemos un data set $X = \\{X_1, \\cdots, X_n\\}$ con $X_i \\in \\mathbb{R}^d$. Cabe destacar que el modelo supone que $E[X] = 0$. Y suponga que se tiene una base $B = \\{b_1, \\cdots, b_d\\}$, siendo una base ortonormal. Entonces cada $X_i$ puede ser escrito como:\n",
    "\n",
    "\n",
    "$$X_i = \\sum_{j = 1}^d \\beta_{ji} b_j$$\n",
    "\n",
    "Ahora vamos a generar dos subespacios de $\\mathbb{R}^d$ dividiendo la base $B$ en dos conjuntos separados: $B_p = \\{b_1, \\cdots, b_m\\}$ y $B_c = \\{b_{m + 1}, \\cdots, b_d\\}$, en si mismas cada una nos representa un subespacio, al que llamaremos subespacio principal, y complementario respectivamente. Note también que $B_p$ y $B_c$ son ortonormales, y podemos reescribir la expresión anterior:\n",
    "\n",
    "\n",
    "\n",
    "\n",
    "$$X_i = \\sum_{j = 1}^m \\beta_{ji} b_j + \\sum_{j = m + 1}^d \\beta_{ji} b_j$$\n",
    "\n",
    "\n",
    "Lo que buscamos entonces es una proyección ortogonal de cada $X_i$ en $B_p$, es decir buscamos $\\tilde{X}_i$ tal que:\n",
    "\n",
    "$$\\tilde{X}_i = B_p B_p^T X_i$$\n",
    "\n",
    "\n",
    "Donde a $B_p^T X_i$ llamaremos las coordenadas de $\\tilde{X}_i$ en el subespacio principal. Buscamos optimizar la función error $J$, que viene expresada de la siguiente forma:\n",
    "\n",
    "\n",
    "$$J = \\frac{1}{n} \\sum_{i = 1}^{n} ||X_i - \\tilde{X}_i||^2$$\n",
    "\n",
    "Ahora noten que podemos escribir $X_i$ como: \n",
    "\n",
    "\n",
    "$$X_i = B_p B_p^T X_i + B_c B_c^T X_i$$\n",
    "\n",
    "\n",
    "Entonces:\n",
    "\n",
    "$$J = \\frac{1}{n} \\sum_{i = 1}^{n} ||X_i - \\tilde{X}_i||^2 = \\frac{1}{n} \\sum_{i = 1}^{n} ||B_c B_c^T X_i||^2$$\n",
    "\n",
    "$$B_c B_c^T \\frac{1}{n} \\sum_{i = 1}^{n} ||X_i||^2 = B_c B_c^T \\frac{1}{n} \\sum_{i = 1}^{n} X_i X_i^T$$\n",
    "\n",
    "$$J = B_c B_c^T var[X]$$\n",
    "\n",
    "\n",
    "Este resultado es muy potente y para poder entender porque, vamos a simplificar el caso, suponga que $B$ solo está formada por los vectores $b_1$, y $b_2$, $b_1$ generará el espacio principal, y $b_2$ el complementario. por lo que podemos simplificar $J$ como sigue:\n",
    "\n",
    "\n",
    "$$J = b_2^T var[X] b_2$$\n",
    "\n",
    "Y además se cumple que $b_2^T b_2 = 1$ ya que la base es ortonormal. Ahora podemos aplicar el método de los multiplicadores de Lagrange para optimizar $J$, no desarrollaremos todo el método solo nos fijaremos en lo siguiente:\n",
    "\n",
    "\n",
    "$$\\frac{\\partial L}{\\partial b_2} = b_2^T var[X] - \\lambda b_2^T$$\n",
    "\n",
    "$$b_2^T var[X] = \\lambda b_2^T$$\n",
    "$$var[X] b_2 = \\lambda b_2$$\n",
    "\n",
    "\n",
    "Es decir los vectores de la base son los vectores propios de $var[X]$ !!!!. \n",
    "\n",
    "<img src=\"impactado.gif\" width = 600 height = 600> \n",
    "\n",
    "\n",
    "Además podemos escribir $J = \\lambda$ por lo que optimizar $J$ se puede entender como tomar los vectores propios correspondientes a los valores propios de $var[X]$ más pequeños como base del subespacio complementario.\n"
   ]
  },
  {
   "cell_type": "markdown",
   "id": "canadian-jefferson",
   "metadata": {},
   "source": [
    "[Regresar al contenido](#Contenido)"
   ]
  },
  {
   "cell_type": "markdown",
   "id": "former-declaration",
   "metadata": {},
   "source": [
    "# Ejemplo: Iris Data Set\n",
    "\n",
    "A continuación mostraremos un ejemplo de PCA aplicado a un data set de 4 dimensiones, los pasos a elegir son los siguientes:\n",
    "\n",
    "\n",
    "- Cargar los datos\n",
    "- Normalizarlos\n",
    "- Obtener los autovectores y autovalores a partir de la matriz de covarianza\n",
    "- Seleccionar los autovectores correspondientes a las componentes principales\n",
    "- Proyectar el dataset original sobre el nuevo espacio de dimensión < 4\n",
    "\n",
    "\n",
    "\n",
    "Este dataset se usa como datos de entrenamiento para un modelo de machine learning cuyo objetivo es determinar de forma automática la especie a la que pertenece una determinada flor, a partir de las medidas 4 atributos o características. En particular, la longitud y la anchura de sus pétalos y sépalos expresadas en centímetros. Por tanto, se trata de un problema de 4 dimensiones, en el que la variable objetivo (target) es la especie. Los datos se pueden representar en forma de una matriz de 150 filas (los datos de cada flor), por 4 columnas (las medidas de sus pétalos/sépalos). La quinta, corresponde a la variable objetivo, la especie.\n",
    "\n",
    "\n",
    "<img src=\"Iris data set.PNG\" width = 600 height = 600> "
   ]
  },
  {
   "cell_type": "code",
   "execution_count": 213,
   "id": "documentary-newton",
   "metadata": {},
   "outputs": [],
   "source": [
    "url = \"https://archive.ics.uci.edu/ml/machine-learning-databases/iris/iris.data\"\n",
    "\n",
    "data = pd.read_csv(url, names = ['lng sepalo', 'anch sepalo', 'lng petalo', 'anch petalo', 'especie'])"
   ]
  },
  {
   "cell_type": "code",
   "execution_count": 214,
   "id": "010febba",
   "metadata": {},
   "outputs": [
    {
     "data": {
      "text/html": [
       "<div>\n",
       "<style scoped>\n",
       "    .dataframe tbody tr th:only-of-type {\n",
       "        vertical-align: middle;\n",
       "    }\n",
       "\n",
       "    .dataframe tbody tr th {\n",
       "        vertical-align: top;\n",
       "    }\n",
       "\n",
       "    .dataframe thead th {\n",
       "        text-align: right;\n",
       "    }\n",
       "</style>\n",
       "<table border=\"1\" class=\"dataframe\">\n",
       "  <thead>\n",
       "    <tr style=\"text-align: right;\">\n",
       "      <th></th>\n",
       "      <th>lng sepalo</th>\n",
       "      <th>anch sepalo</th>\n",
       "      <th>lng petalo</th>\n",
       "      <th>anch petalo</th>\n",
       "      <th>especie</th>\n",
       "    </tr>\n",
       "  </thead>\n",
       "  <tbody>\n",
       "    <tr>\n",
       "      <th>0</th>\n",
       "      <td>5.1</td>\n",
       "      <td>3.5</td>\n",
       "      <td>1.4</td>\n",
       "      <td>0.2</td>\n",
       "      <td>Iris-setosa</td>\n",
       "    </tr>\n",
       "    <tr>\n",
       "      <th>1</th>\n",
       "      <td>4.9</td>\n",
       "      <td>3.0</td>\n",
       "      <td>1.4</td>\n",
       "      <td>0.2</td>\n",
       "      <td>Iris-setosa</td>\n",
       "    </tr>\n",
       "    <tr>\n",
       "      <th>2</th>\n",
       "      <td>4.7</td>\n",
       "      <td>3.2</td>\n",
       "      <td>1.3</td>\n",
       "      <td>0.2</td>\n",
       "      <td>Iris-setosa</td>\n",
       "    </tr>\n",
       "    <tr>\n",
       "      <th>3</th>\n",
       "      <td>4.6</td>\n",
       "      <td>3.1</td>\n",
       "      <td>1.5</td>\n",
       "      <td>0.2</td>\n",
       "      <td>Iris-setosa</td>\n",
       "    </tr>\n",
       "    <tr>\n",
       "      <th>4</th>\n",
       "      <td>5.0</td>\n",
       "      <td>3.6</td>\n",
       "      <td>1.4</td>\n",
       "      <td>0.2</td>\n",
       "      <td>Iris-setosa</td>\n",
       "    </tr>\n",
       "  </tbody>\n",
       "</table>\n",
       "</div>"
      ],
      "text/plain": [
       "   lng sepalo  anch sepalo  lng petalo  anch petalo      especie\n",
       "0         5.1          3.5         1.4          0.2  Iris-setosa\n",
       "1         4.9          3.0         1.4          0.2  Iris-setosa\n",
       "2         4.7          3.2         1.3          0.2  Iris-setosa\n",
       "3         4.6          3.1         1.5          0.2  Iris-setosa\n",
       "4         5.0          3.6         1.4          0.2  Iris-setosa"
      ]
     },
     "execution_count": 214,
     "metadata": {},
     "output_type": "execute_result"
    }
   ],
   "source": [
    "data.head()"
   ]
  },
  {
   "cell_type": "code",
   "execution_count": 215,
   "id": "ac1e711c",
   "metadata": {},
   "outputs": [],
   "source": [
    "X = data[['lng sepalo', 'anch sepalo', 'lng petalo', 'anch petalo']]"
   ]
  },
  {
   "cell_type": "code",
   "execution_count": 216,
   "id": "84c47ab0",
   "metadata": {},
   "outputs": [],
   "source": [
    "y = data['especie']"
   ]
  },
  {
   "cell_type": "code",
   "execution_count": 217,
   "id": "fbbf0862",
   "metadata": {},
   "outputs": [
    {
     "data": {
      "text/plain": [
       "lng sepalo     5.843333\n",
       "anch sepalo    3.054000\n",
       "lng petalo     3.758667\n",
       "anch petalo    1.198667\n",
       "dtype: float64"
      ]
     },
     "execution_count": 217,
     "metadata": {},
     "output_type": "execute_result"
    }
   ],
   "source": [
    "X.mean(axis = 0)"
   ]
  },
  {
   "cell_type": "markdown",
   "id": "honey-planning",
   "metadata": {},
   "source": [
    "Cuando las distintas características o atributos de un dataset están expresadas en distintas escalas se hace patente la necesidad de normalizar sus valores. En este caso, en el que las medidas de sépalos y pétalos están expresadas en centímetros, no sería imprescindible. Sin embargo, como ya comentamos en el post anterior (en forma de una de las limitaciones del PCA), al aplicar esta técnica se asume que los datos de trabajado tienen una distribución gaussiana o normal.  Por tanto, aplicamos a los datos una transformación de normalización de forma que su media sea igual a 0, y su varianza=1. Para ello, usaremos la transformación Standardscaler de sklearn."
   ]
  },
  {
   "cell_type": "code",
   "execution_count": 218,
   "id": "3b916354",
   "metadata": {},
   "outputs": [],
   "source": [
    "from sklearn.preprocessing import StandardScaler"
   ]
  },
  {
   "cell_type": "code",
   "execution_count": 219,
   "id": "cd42bb85",
   "metadata": {},
   "outputs": [],
   "source": [
    "scaler = StandardScaler()"
   ]
  },
  {
   "cell_type": "code",
   "execution_count": 220,
   "id": "3a0044e5",
   "metadata": {},
   "outputs": [],
   "source": [
    "X_std = scaler.fit_transform(X)"
   ]
  },
  {
   "cell_type": "code",
   "execution_count": 221,
   "id": "4eccb3c4",
   "metadata": {},
   "outputs": [
    {
     "data": {
      "text/plain": [
       "array([ True,  True,  True,  True])"
      ]
     },
     "execution_count": 221,
     "metadata": {},
     "output_type": "execute_result"
    }
   ],
   "source": [
    "np.isclose(X_std.mean(axis = 0), 0)"
   ]
  },
  {
   "cell_type": "code",
   "execution_count": 222,
   "id": "1eb29917",
   "metadata": {},
   "outputs": [
    {
     "data": {
      "text/plain": [
       "array([1., 1., 1., 1.])"
      ]
     },
     "execution_count": 222,
     "metadata": {},
     "output_type": "execute_result"
    }
   ],
   "source": [
    "X_std.std(axis = 0)"
   ]
  },
  {
   "cell_type": "code",
   "execution_count": 223,
   "id": "2cdab7ba",
   "metadata": {},
   "outputs": [],
   "source": [
    "cov_m = np.cov(X_std.T)"
   ]
  },
  {
   "cell_type": "code",
   "execution_count": 224,
   "id": "bc1aefd5",
   "metadata": {},
   "outputs": [],
   "source": [
    "vals, B = np.linalg.eig(cov_m)"
   ]
  },
  {
   "cell_type": "code",
   "execution_count": 225,
   "id": "ff7179cd",
   "metadata": {},
   "outputs": [
    {
     "data": {
      "text/plain": [
       "array([2.93035378, 0.92740362, 0.14834223, 0.02074601])"
      ]
     },
     "execution_count": 225,
     "metadata": {},
     "output_type": "execute_result"
    }
   ],
   "source": [
    "vals"
   ]
  },
  {
   "cell_type": "code",
   "execution_count": 226,
   "id": "9cc69419",
   "metadata": {},
   "outputs": [
    {
     "data": {
      "text/plain": [
       "array([[ 0.52237162, -0.37231836, -0.72101681,  0.26199559],\n",
       "       [-0.26335492, -0.92555649,  0.24203288, -0.12413481],\n",
       "       [ 0.58125401, -0.02109478,  0.14089226, -0.80115427],\n",
       "       [ 0.56561105, -0.06541577,  0.6338014 ,  0.52354627]])"
      ]
     },
     "execution_count": 226,
     "metadata": {},
     "output_type": "execute_result"
    }
   ],
   "source": [
    "B"
   ]
  },
  {
   "cell_type": "code",
   "execution_count": 227,
   "id": "f27a7a61",
   "metadata": {},
   "outputs": [],
   "source": [
    "eig_pairs = [(vals[i], B[:, i]) for i in range(len(vals))]"
   ]
  },
  {
   "cell_type": "code",
   "execution_count": 228,
   "id": "a46cabe2",
   "metadata": {},
   "outputs": [
    {
     "data": {
      "text/plain": [
       "[(2.930353775589316,\n",
       "  array([ 0.52237162, -0.26335492,  0.58125401,  0.56561105])),\n",
       " (0.9274036215173429,\n",
       "  array([-0.37231836, -0.92555649, -0.02109478, -0.06541577])),\n",
       " (0.14834222648164,\n",
       "  array([-0.72101681,  0.24203288,  0.14089226,  0.6338014 ])),\n",
       " (0.020746013995595815,\n",
       "  array([ 0.26199559, -0.12413481, -0.80115427,  0.52354627]))]"
      ]
     },
     "execution_count": 228,
     "metadata": {},
     "output_type": "execute_result"
    }
   ],
   "source": [
    "eig_pairs"
   ]
  },
  {
   "cell_type": "code",
   "execution_count": 229,
   "id": "5de6ef20",
   "metadata": {},
   "outputs": [],
   "source": [
    "tot = vals.sum()"
   ]
  },
  {
   "cell_type": "code",
   "execution_count": 230,
   "id": "8373c41b",
   "metadata": {},
   "outputs": [
    {
     "data": {
      "text/plain": [
       "[2.930353775589316, 0.9274036215173429, 0.14834222648164, 0.020746013995595815]"
      ]
     },
     "execution_count": 230,
     "metadata": {},
     "output_type": "execute_result"
    }
   ],
   "source": [
    "sorted(vals, reverse = True)"
   ]
  },
  {
   "cell_type": "code",
   "execution_count": 231,
   "id": "8cf74932",
   "metadata": {},
   "outputs": [],
   "source": [
    "var_exp = [(val / tot) * 100 for val in sorted(vals, reverse = True)]"
   ]
  },
  {
   "cell_type": "code",
   "execution_count": 232,
   "id": "188b4231",
   "metadata": {},
   "outputs": [
    {
     "data": {
      "text/plain": [
       "[72.77045209380131, 23.03052326768067, 3.6838319576273912, 0.5151926808906291]"
      ]
     },
     "execution_count": 232,
     "metadata": {},
     "output_type": "execute_result"
    }
   ],
   "source": [
    "var_exp"
   ]
  },
  {
   "cell_type": "code",
   "execution_count": 233,
   "id": "b195fc3e",
   "metadata": {},
   "outputs": [],
   "source": [
    "sum_var_exp = np.cumsum(var_exp)"
   ]
  },
  {
   "cell_type": "code",
   "execution_count": 234,
   "id": "0b212bcd",
   "metadata": {},
   "outputs": [
    {
     "data": {
      "text/plain": [
       "array([ 72.77045209,  95.80097536,  99.48480732, 100.        ])"
      ]
     },
     "execution_count": 234,
     "metadata": {},
     "output_type": "execute_result"
    }
   ],
   "source": [
    "sum_var_exp"
   ]
  },
  {
   "cell_type": "code",
   "execution_count": 235,
   "id": "bffb5bbe",
   "metadata": {},
   "outputs": [
    {
     "data": {
      "image/png": "[encoded data removed]",
      "text/plain": [
       "<Figure size 720x432 with 1 Axes>"
      ]
     },
     "metadata": {},
     "output_type": "display_data"
    }
   ],
   "source": [
    "fig, ax = plt.subplots(figsize = (10, 6))\n",
    "\n",
    "ax.bar(np.arange(1, len(vals) + 1), var_exp, color = 'g', alpha = 0.7)\n",
    "ax.step(np.arange(1, len(vals) + 1), sum_var_exp, linestyle = '--')\n",
    "ax.set_xlabel('Componentes')\n",
    "ax.set_ylabel('Varianza Explicada');"
   ]
  },
  {
   "cell_type": "code",
   "execution_count": 236,
   "id": "8be04770",
   "metadata": {},
   "outputs": [],
   "source": [
    "eig_pairs.sort(reverse=True)"
   ]
  },
  {
   "cell_type": "code",
   "execution_count": 237,
   "id": "63f92d8a",
   "metadata": {},
   "outputs": [
    {
     "data": {
      "text/plain": [
       "array([ 0.52237162, -0.26335492,  0.58125401,  0.56561105])"
      ]
     },
     "execution_count": 237,
     "metadata": {},
     "output_type": "execute_result"
    }
   ],
   "source": [
    "eig_pairs[0][1]"
   ]
  },
  {
   "cell_type": "code",
   "execution_count": 238,
   "id": "a437f5bb",
   "metadata": {},
   "outputs": [
    {
     "data": {
      "text/plain": [
       "array([-0.37231836, -0.92555649, -0.02109478, -0.06541577])"
      ]
     },
     "execution_count": 238,
     "metadata": {},
     "output_type": "execute_result"
    }
   ],
   "source": [
    "eig_pairs[1][1]"
   ]
  },
  {
   "cell_type": "code",
   "execution_count": 239,
   "id": "93102086",
   "metadata": {},
   "outputs": [],
   "source": [
    "B = np.column_stack([eig_pairs[0][1], eig_pairs[1][1]])"
   ]
  },
  {
   "cell_type": "code",
   "execution_count": 240,
   "id": "81dd70d5",
   "metadata": {},
   "outputs": [
    {
     "data": {
      "text/plain": [
       "array([[ 0.52237162, -0.37231836],\n",
       "       [-0.26335492, -0.92555649],\n",
       "       [ 0.58125401, -0.02109478],\n",
       "       [ 0.56561105, -0.06541577]])"
      ]
     },
     "execution_count": 240,
     "metadata": {},
     "output_type": "execute_result"
    }
   ],
   "source": [
    "B"
   ]
  },
  {
   "cell_type": "code",
   "execution_count": 241,
   "id": "3c43bc97",
   "metadata": {},
   "outputs": [],
   "source": [
    "M = B @ B.T"
   ]
  },
  {
   "cell_type": "code",
   "execution_count": 242,
   "id": "6766f20e",
   "metadata": {},
   "outputs": [
    {
     "data": {
      "text/plain": [
       "array([-0.99464948,  1.06443573, -1.30560624, -1.24776881])"
      ]
     },
     "execution_count": 242,
     "metadata": {},
     "output_type": "execute_result"
    }
   ],
   "source": [
    "M @ X_std[0, :]"
   ]
  },
  {
   "cell_type": "code",
   "execution_count": 243,
   "id": "e400d2ca",
   "metadata": {},
   "outputs": [
    {
     "data": {
      "text/plain": [
       "(4, 4)"
      ]
     },
     "execution_count": 243,
     "metadata": {},
     "output_type": "execute_result"
    }
   ],
   "source": [
    "M.shape"
   ]
  },
  {
   "cell_type": "code",
   "execution_count": 244,
   "id": "731d4a19",
   "metadata": {},
   "outputs": [
    {
     "data": {
      "text/plain": [
       "(150, 4)"
      ]
     },
     "execution_count": 244,
     "metadata": {},
     "output_type": "execute_result"
    }
   ],
   "source": [
    "X_std.shape"
   ]
  },
  {
   "cell_type": "code",
   "execution_count": 245,
   "id": "9d77e4bb",
   "metadata": {},
   "outputs": [],
   "source": [
    "pX_std = X_std @ M"
   ]
  },
  {
   "cell_type": "code",
   "execution_count": 246,
   "id": "d512df4f",
   "metadata": {},
   "outputs": [
    {
     "name": "stdout",
     "output_type": "stream",
     "text": [
      "552 µs ± 12.5 µs per loop (mean ± std. dev. of 7 runs, 1000 loops each)\n"
     ]
    }
   ],
   "source": [
    "%%timeit \n",
    "temp = []\n",
    "for i in range(X_std.shape[0]):\n",
    "    temp.append(M @ X_std[i, :])\n",
    "    \n",
    "temp = np.array(temp)"
   ]
  },
  {
   "cell_type": "code",
   "execution_count": 247,
   "id": "1c124f41",
   "metadata": {},
   "outputs": [
    {
     "name": "stdout",
     "output_type": "stream",
     "text": [
      "7.22 µs ± 3.17 µs per loop (mean ± std. dev. of 7 runs, 100000 loops each)\n"
     ]
    }
   ],
   "source": [
    "%timeit pX_std = X_std @ M"
   ]
  },
  {
   "cell_type": "code",
   "execution_count": 248,
   "id": "85de1db1",
   "metadata": {},
   "outputs": [
    {
     "data": {
      "text/plain": [
       "array([-0.99464948,  1.06443573, -1.30560624, -1.24776881])"
      ]
     },
     "execution_count": 248,
     "metadata": {},
     "output_type": "execute_result"
    }
   ],
   "source": [
    "pX_std[0]"
   ]
  },
  {
   "cell_type": "markdown",
   "id": "8a5b9747",
   "metadata": {},
   "source": [
    "$$\\lambda = B^T a$$"
   ]
  },
  {
   "cell_type": "code",
   "execution_count": 249,
   "id": "51bae8ba",
   "metadata": {},
   "outputs": [
    {
     "data": {
      "text/plain": [
       "array([-2.0864255 ,  0.65540473])"
      ]
     },
     "execution_count": 249,
     "metadata": {},
     "output_type": "execute_result"
    }
   ],
   "source": [
    "B.T @ pX_std[1]"
   ]
  },
  {
   "cell_type": "code",
   "execution_count": 250,
   "id": "adcd6000",
   "metadata": {},
   "outputs": [
    {
     "data": {
      "text/plain": [
       "((2, 4), (4, 150))"
      ]
     },
     "execution_count": 250,
     "metadata": {},
     "output_type": "execute_result"
    }
   ],
   "source": [
    "B.T.shape, pX_std.T.shape"
   ]
  },
  {
   "cell_type": "code",
   "execution_count": 251,
   "id": "325b35c3",
   "metadata": {},
   "outputs": [
    {
     "data": {
      "text/plain": [
       "((150, 4), (4, 2))"
      ]
     },
     "execution_count": 251,
     "metadata": {},
     "output_type": "execute_result"
    }
   ],
   "source": [
    "pX_std.shape, B.shape"
   ]
  },
  {
   "cell_type": "code",
   "execution_count": 252,
   "id": "0994f163",
   "metadata": {},
   "outputs": [],
   "source": [
    "newX = pX_std @ B"
   ]
  },
  {
   "cell_type": "code",
   "execution_count": 253,
   "id": "9d4fa602",
   "metadata": {},
   "outputs": [
    {
     "data": {
      "text/plain": [
       "(150, 2)"
      ]
     },
     "execution_count": 253,
     "metadata": {},
     "output_type": "execute_result"
    }
   ],
   "source": [
    "newX.shape"
   ]
  },
  {
   "cell_type": "code",
   "execution_count": 254,
   "id": "23710664",
   "metadata": {},
   "outputs": [],
   "source": [
    "newX = np.column_stack([newX, y])"
   ]
  },
  {
   "cell_type": "code",
   "execution_count": 255,
   "id": "ee912699",
   "metadata": {},
   "outputs": [],
   "source": [
    "colors = ['magenta', 'cyan', 'limegreen']"
   ]
  },
  {
   "cell_type": "code",
   "execution_count": 256,
   "id": "7a3e5589",
   "metadata": {},
   "outputs": [
    {
     "data": {
      "image/png": "[encoded data removed]",
      "text/plain": [
       "<Figure size 864x576 with 1 Axes>"
      ]
     },
     "metadata": {},
     "output_type": "display_data"
    }
   ],
   "source": [
    "fig, ax = plt.subplots(figsize = (12, 8))\n",
    "\n",
    "for f, c in zip(y.unique(), colors):\n",
    "    mask = newX[:, 2] == f\n",
    "    ax.scatter(newX[mask, 0], newX[mask, 1], color = c, label = f)\n",
    "    \n",
    "ax.legend();"
   ]
  },
  {
   "cell_type": "code",
   "execution_count": 257,
   "id": "d15cb77e",
   "metadata": {},
   "outputs": [
    {
     "data": {
      "text/plain": [
       "array([[-2.2645417283948994, -0.5057039027737839, 'Iris-setosa'],\n",
       "       [-2.0864255006161576, 0.6554047293691379, 'Iris-setosa'],\n",
       "       [-2.3679504490625254, 0.3184773108472505, 'Iris-setosa'],\n",
       "       [-2.3041971611520085, 0.5753677125331966, 'Iris-setosa'],\n",
       "       [-2.3887774935056414, -0.6747673967025146, 'Iris-setosa'],\n",
       "       [-2.070536807180553, -1.5185485598885125, 'Iris-setosa'],\n",
       "       [-2.445711339630283, -0.07456267500687279, 'Iris-setosa'],\n",
       "       [-2.2338418587092654, -0.24761393175226398, 'Iris-setosa'],\n",
       "       [-2.3419576764553893, 1.0951463625829567, 'Iris-setosa'],\n",
       "       [-2.1886757552808693, 0.44862904833756045, 'Iris-setosa'],\n",
       "       [-2.1634865562665224, -1.0705955760377257, 'Iris-setosa'],\n",
       "       [-2.327377754134373, -0.15858745465947474, 'Iris-setosa'],\n",
       "       [-2.2240827220450017, 0.7091181580302278, 'Iris-setosa'],\n",
       "       [-2.6397162608446285, 0.9382819821078556, 'Iris-setosa'],\n",
       "       [-2.192291508498429, -1.8899785123164652, 'Iris-setosa'],\n",
       "       [-2.251465214584065, -2.722371076574469, 'Iris-setosa'],\n",
       "       [-2.202750480080085, -1.5137502825462181, 'Iris-setosa'],\n",
       "       [-2.190179163791052, -0.5143043082206921, 'Iris-setosa'],\n",
       "       [-1.894074293023668, -1.4311107069412365, 'Iris-setosa'],\n",
       "       [-2.339949070423408, -1.1580334289850005, 'Iris-setosa'],\n",
       "       [-1.9145563949595168, -0.43046516328013706, 'Iris-setosa'],\n",
       "       [-2.2046453975338136, -0.9524573172889977, 'Iris-setosa'],\n",
       "       [-2.7741697937051564, -0.48951702650349416, 'Iris-setosa'],\n",
       "       [-1.8204115633372138, -0.10675079283540524, 'Iris-setosa'],\n",
       "       [-2.228217499459724, -0.16218616266619573, 'Iris-setosa'],\n",
       "       [-1.9570240073413965, 0.6078925674838094, 'Iris-setosa'],\n",
       "       [-2.052063311276686, -0.26601431198165404, 'Iris-setosa'],\n",
       "       [-2.168193653345021, -0.5520164953235389, 'Iris-setosa'],\n",
       "       [-2.140305963284157, -0.3366404088450533, 'Iris-setosa'],\n",
       "       [-2.2687901943878757, 0.3148786028405295, 'Iris-setosa'],\n",
       "       [-2.144554429277134, 0.4839420967692602, 'Iris-setosa'],\n",
       "       [-1.8319381022015868, -0.4452668355028062, 'Iris-setosa'],\n",
       "       [-2.608202867663347, -1.8284751927341008, 'Iris-setosa'],\n",
       "       [-2.437950859095142, -2.1853916156308912, 'Iris-setosa'],\n",
       "       [-2.1886757552808693, 0.44862904833756045, 'Iris-setosa'],\n",
       "       [-2.2111198968124217, 0.18433781054027995, 'Iris-setosa'],\n",
       "       [-2.0444165193198, -0.6849564262949359, 'Iris-setosa'],\n",
       "       [-2.1886757552808693, 0.44862904833756045, 'Iris-setosa'],\n",
       "       [-2.4359522029660186, 0.8821694147756186, 'Iris-setosa'],\n",
       "       [-2.17054720188427, -0.2927269549664452, 'Iris-setosa'],\n",
       "       [-2.2865272388409297, -0.46799171567093695, 'Iris-setosa'],\n",
       "       [-1.87170722353695, 2.3276916061149118, 'Iris-setosa'],\n",
       "       [-2.5578344195375116, 0.45381638048979456, 'Iris-setosa'],\n",
       "       [-1.964279290354737, -0.49739164001838254, 'Iris-setosa'],\n",
       "       [-2.1333728329200277, -1.1714321117742033, 'Iris-setosa'],\n",
       "       [-2.0753575928373063, 0.6919173471364114, 'Iris-setosa'],\n",
       "       [-2.3812582168023724, -1.1506325928736658, 'Iris-setosa'],\n",
       "       [-2.398191687662638, 0.36239076472585846, 'Iris-setosa'],\n",
       "       [-2.226781213091518, -1.025482552823544, 'Iris-setosa'],\n",
       "       [-2.205954168648402, -0.032237845273778404, 'Iris-setosa'],\n",
       "       [1.1039936528045717, -0.8631124458513243, 'Iris-versicolor'],\n",
       "       [0.7324814400086803, -0.5986355733419968, 'Iris-versicolor'],\n",
       "       [1.242109505318937, -0.6148224496122865, 'Iris-versicolor'],\n",
       "       [0.39730728282332733, 1.7581689474435274, 'Iris-versicolor'],\n",
       "       [1.0725939482015447, 0.21175790267989616, 'Iris-versicolor'],\n",
       "       [0.3844581461690016, 0.5910624686227373, 'Iris-versicolor'],\n",
       "       [0.7487150759515526, -0.7786986113887818, 'Iris-versicolor'],\n",
       "       [-0.49786338779811756, 1.8488687712754444, 'Iris-versicolor'],\n",
       "       [0.9262223675330977, -0.03033082678338063, 'Iris-versicolor'],\n",
       "       [0.004968025584319552, 1.0294011124030893, 'Iris-versicolor'],\n",
       "       [-0.12469746138037054, 2.6580626779617615, 'Iris-versicolor'],\n",
       "       [0.4387301177805465, 0.05888128502145507, 'Iris-versicolor'],\n",
       "       [0.5516339814225074, 1.7725815648562564, 'Iris-versicolor'],\n",
       "       [0.717165066236851, 0.1854343145050446, 'Iris-versicolor'],\n",
       "       [-0.037258382965688286, 0.43279509871416993, 'Iris-versicolor'],\n",
       "       [0.8758905359406826, -0.5099981510591473, 'Iris-versicolor'],\n",
       "       [0.3480064019802086, 0.19062164665727868, 'Iris-versicolor'],\n",
       "       [0.15339254456866697, 0.7907254562344864, 'Iris-versicolor'],\n",
       "       [1.2153032092161538, 1.6333556445154844, 'Iris-versicolor'],\n",
       "       [0.15694117564425072, 1.3031032701729124, 'Iris-versicolor'],\n",
       "       [0.7382561043698956, -0.4024703816185354, 'Iris-versicolor'],\n",
       "       [0.4723696823445681, 0.41660822244388024, 'Iris-versicolor'],\n",
       "       [1.227988214083442, 0.9409147925302731, 'Iris-versicolor'],\n",
       "       [0.6293810453149016, 0.4168116425417728, 'Iris-versicolor'],\n",
       "       [0.7004727992084578, 0.06349392765170286, 'Iris-versicolor'],\n",
       "       [0.8735369874014332, -0.2507086107020535, 'Iris-versicolor'],\n",
       "       [1.2542221905224493, 0.08262009981311288, 'Iris-versicolor'],\n",
       "       [1.3582398473872712, -0.3288202662704017, 'Iris-versicolor'],\n",
       "       [0.6621261375659375, 0.2243460709434649, 'Iris-versicolor'],\n",
       "       [-0.04728151331988009, 1.0572124126050217, 'Iris-versicolor'],\n",
       "       [0.12153420888011883, 1.5635923798655795, 'Iris-versicolor'],\n",
       "       [0.01411822605138785, 1.573392354648061, 'Iris-versicolor'],\n",
       "       [0.23601083732659678, 0.7759237840118173, 'Iris-versicolor'],\n",
       "       [1.0566914280905764, 0.636901283768938, 'Iris-versicolor'],\n",
       "       [0.22141708833021795, 0.2808476930856411, 'Iris-versicolor'],\n",
       "       [0.4317831607410532, -0.8551369202180024, 'Iris-versicolor'],\n",
       "       [1.0494133552191796, -0.5221972645127764, 'Iris-versicolor'],\n",
       "       [1.035878210322824, 1.3924664843877819, 'Iris-versicolor'],\n",
       "       [0.06706759987298036, 0.21262073489338965, 'Iris-versicolor'],\n",
       "       [0.2754250662518344, 1.3298159131577036, 'Iris-versicolor'],\n",
       "       [0.27233506626177223, 1.1194415241194053, 'Iris-versicolor'],\n",
       "       [0.6231705397262213, -0.027542633302293798, 'Iris-versicolor'],\n",
       "       [0.33000536383722634, 0.9889007318191557, 'Iris-versicolor'],\n",
       "       [-0.3736276226873757, 2.0179322652041747, 'Iris-versicolor'],\n",
       "       [0.28294434295510285, 0.8539507169865511, 'Iris-versicolor'],\n",
       "       [0.0890531103190115, 0.17490854779054257, 'Iris-versicolor'],\n",
       "       [0.224356783208606, 0.38048465948654636, 'Iris-versicolor'],\n",
       "       [0.5738834855584667, 0.15371997408006569, 'Iris-versicolor'],\n",
       "       [-0.4570128725046747, 1.5394645102639823, 'Iris-versicolor'],\n",
       "       [0.2522444732694692, 0.595860745965032, 'Iris-versicolor'],\n",
       "       [1.8476725943096635, -0.871696661773413, 'Iris-virginica'],\n",
       "       [1.153189808252129, 0.7013261138565762, 'Iris-virginica'],\n",
       "       [2.2063494971265927, -0.5544701049349227, 'Iris-virginica'],\n",
       "       [1.4386854023261813, 0.05001052226888606, 'Iris-virginica'],\n",
       "       [1.867890702555584, -0.2911928017611689, 'Iris-virginica'],\n",
       "       [2.7541967088257513, -0.7884322063548452, 'Iris-virginica'],\n",
       "       [0.3583744748416682, 1.5600945839772906, 'Iris-virginica'],\n",
       "       [2.3030058981503183, -0.40951669522194345, 'Iris-virginica'],\n",
       "       [2.0017352992189155, 0.7238653593126596, 'Iris-virginica'],\n",
       "       [2.2675545991022674, -1.9214429914653552, 'Iris-virginica'],\n",
       "       [1.3659094292022138, -0.6939480398041609, 'Iris-virginica'],\n",
       "       [1.5990645856518688, 0.4282488359003402, 'Iris-virginica'],\n",
       "       [1.8842518537520738, -0.4143327579500839, 'Iris-virginica'],\n",
       "       [1.2530865143775918, 1.167391335245247, 'Iris-virginica'],\n",
       "       [1.4640615229856224, 0.4441475694791241, 'Iris-virginica'],\n",
       "       [1.5918093026385285, -0.6770353716018516, 'Iris-virginica'],\n",
       "       [1.4712801894655432, -0.25319247196681527, 'Iris-virginica'],\n",
       "       [2.437378482193507, -2.556757341494803, 'Iris-virginica'],\n",
       "       [3.3091411826760786, 0.0023613201020827868, 'Iris-virginica'],\n",
       "       [1.2539809866905778, 1.7175838442659788, 'Iris-virginica'],\n",
       "       [2.0404962596630383, -0.9073987650150532, 'Iris-virginica'],\n",
       "       [0.9739151144704736, 0.571174376366267, 'Iris-virginica'],\n",
       "       [2.898064435843276, -0.3977913591718685, 'Iris-virginica'],\n",
       "       [1.329193691323493, 0.4867605419037246, 'Iris-virginica'],\n",
       "       [1.7042407085196054, -1.014148424835785, 'Iris-virginica'],\n",
       "       [1.9577276617934345, -1.0033345154297775, 'Iris-virginica'],\n",
       "       [1.171904507987868, 0.3188966173105683, 'Iris-virginica'],\n",
       "       [1.0197810528162625, -0.06554296309664752, 'Iris-virginica'],\n",
       "       [1.7860088612484677, 0.19327279985689177, 'Iris-virginica'],\n",
       "       [1.8647779127074655, -0.5553815315789898, 'Iris-virginica'],\n",
       "       [2.4354973914151423, -0.24665446806897423, 'Iris-virginica'],\n",
       "       [2.3160824119611534, -2.6261838690226282, 'Iris-virginica'],\n",
       "       [1.8603714258523154, 0.1846723944099835, 'Iris-virginica'],\n",
       "       [1.1112717256759688, 0.2959861024303908, 'Iris-virginica'],\n",
       "       [1.1974691551180374, 0.8171677419136165, 'Iris-virginica'],\n",
       "       [2.8009494037340277, -0.8447481937849751, 'Iris-virginica'],\n",
       "       [1.5801552485205366, -1.0724744961271222, 'Iris-virginica'],\n",
       "       [1.3470444243548014, -0.4222559658955459, 'Iris-virginica'],\n",
       "       [0.9234329777663841, -0.019230370546892615, 'Iris-virginica'],\n",
       "       [1.85355198406644, -0.6724227289716038, 'Iris-virginica'],\n",
       "       [2.0161572006777586, -0.610397037555113, 'Iris-virginica'],\n",
       "       [1.9031168585994862, -0.6860248318586992, 'Iris-virginica'],\n",
       "       [1.153189808252129, 0.7013261138565762, 'Iris-virginica'],\n",
       "       [2.0433084392878085, -0.8646848804720187, 'Iris-virginica'],\n",
       "       [2.001690966934997, -1.0485500466234179, 'Iris-virginica'],\n",
       "       [1.870522071460125, -0.38282183762299815, 'Iris-virginica'],\n",
       "       [1.558491890723717, 0.9053136014070668, 'Iris-virginica'],\n",
       "       [1.52084506399859, -0.2667945748539106, 'Iris-virginica'],\n",
       "       [1.3763911906419275, -1.0163619287948855, 'Iris-virginica'],\n",
       "       [0.9592985756160378, 0.022283944660567656, 'Iris-virginica']],\n",
       "      dtype=object)"
      ]
     },
     "execution_count": 257,
     "metadata": {},
     "output_type": "execute_result"
    }
   ],
   "source": [
    "newX"
   ]
  },
  {
   "cell_type": "code",
   "execution_count": 258,
   "id": "e64ed66c",
   "metadata": {},
   "outputs": [
    {
     "data": {
      "text/html": [
       "<div>\n",
       "<style scoped>\n",
       "    .dataframe tbody tr th:only-of-type {\n",
       "        vertical-align: middle;\n",
       "    }\n",
       "\n",
       "    .dataframe tbody tr th {\n",
       "        vertical-align: top;\n",
       "    }\n",
       "\n",
       "    .dataframe thead th {\n",
       "        text-align: right;\n",
       "    }\n",
       "</style>\n",
       "<table border=\"1\" class=\"dataframe\">\n",
       "  <thead>\n",
       "    <tr style=\"text-align: right;\">\n",
       "      <th></th>\n",
       "      <th>lng sepalo</th>\n",
       "      <th>anch sepalo</th>\n",
       "      <th>lng petalo</th>\n",
       "      <th>anch petalo</th>\n",
       "    </tr>\n",
       "  </thead>\n",
       "  <tbody>\n",
       "    <tr>\n",
       "      <th>lng sepalo</th>\n",
       "      <td>0.685694</td>\n",
       "      <td>-0.039268</td>\n",
       "      <td>1.273682</td>\n",
       "      <td>0.516904</td>\n",
       "    </tr>\n",
       "    <tr>\n",
       "      <th>anch sepalo</th>\n",
       "      <td>-0.039268</td>\n",
       "      <td>0.188004</td>\n",
       "      <td>-0.321713</td>\n",
       "      <td>-0.117981</td>\n",
       "    </tr>\n",
       "    <tr>\n",
       "      <th>lng petalo</th>\n",
       "      <td>1.273682</td>\n",
       "      <td>-0.321713</td>\n",
       "      <td>3.113179</td>\n",
       "      <td>1.296387</td>\n",
       "    </tr>\n",
       "    <tr>\n",
       "      <th>anch petalo</th>\n",
       "      <td>0.516904</td>\n",
       "      <td>-0.117981</td>\n",
       "      <td>1.296387</td>\n",
       "      <td>0.582414</td>\n",
       "    </tr>\n",
       "  </tbody>\n",
       "</table>\n",
       "</div>"
      ],
      "text/plain": [
       "             lng sepalo  anch sepalo  lng petalo  anch petalo\n",
       "lng sepalo     0.685694    -0.039268    1.273682     0.516904\n",
       "anch sepalo   -0.039268     0.188004   -0.321713    -0.117981\n",
       "lng petalo     1.273682    -0.321713    3.113179     1.296387\n",
       "anch petalo    0.516904    -0.117981    1.296387     0.582414"
      ]
     },
     "execution_count": 258,
     "metadata": {},
     "output_type": "execute_result"
    }
   ],
   "source": [
    "data.cov()"
   ]
  },
  {
   "cell_type": "code",
   "execution_count": 259,
   "id": "a69d61d1",
   "metadata": {},
   "outputs": [
    {
     "data": {
      "text/html": [
       "<div>\n",
       "<style scoped>\n",
       "    .dataframe tbody tr th:only-of-type {\n",
       "        vertical-align: middle;\n",
       "    }\n",
       "\n",
       "    .dataframe tbody tr th {\n",
       "        vertical-align: top;\n",
       "    }\n",
       "\n",
       "    .dataframe thead th {\n",
       "        text-align: right;\n",
       "    }\n",
       "</style>\n",
       "<table border=\"1\" class=\"dataframe\">\n",
       "  <thead>\n",
       "    <tr style=\"text-align: right;\">\n",
       "      <th></th>\n",
       "      <th>lng sepalo</th>\n",
       "      <th>anch sepalo</th>\n",
       "      <th>lng petalo</th>\n",
       "      <th>anch petalo</th>\n",
       "      <th>especie</th>\n",
       "    </tr>\n",
       "  </thead>\n",
       "  <tbody>\n",
       "    <tr>\n",
       "      <th>0</th>\n",
       "      <td>5.1</td>\n",
       "      <td>3.5</td>\n",
       "      <td>1.4</td>\n",
       "      <td>0.2</td>\n",
       "      <td>Iris-setosa</td>\n",
       "    </tr>\n",
       "    <tr>\n",
       "      <th>1</th>\n",
       "      <td>4.9</td>\n",
       "      <td>3.0</td>\n",
       "      <td>1.4</td>\n",
       "      <td>0.2</td>\n",
       "      <td>Iris-setosa</td>\n",
       "    </tr>\n",
       "    <tr>\n",
       "      <th>2</th>\n",
       "      <td>4.7</td>\n",
       "      <td>3.2</td>\n",
       "      <td>1.3</td>\n",
       "      <td>0.2</td>\n",
       "      <td>Iris-setosa</td>\n",
       "    </tr>\n",
       "    <tr>\n",
       "      <th>3</th>\n",
       "      <td>4.6</td>\n",
       "      <td>3.1</td>\n",
       "      <td>1.5</td>\n",
       "      <td>0.2</td>\n",
       "      <td>Iris-setosa</td>\n",
       "    </tr>\n",
       "    <tr>\n",
       "      <th>4</th>\n",
       "      <td>5.0</td>\n",
       "      <td>3.6</td>\n",
       "      <td>1.4</td>\n",
       "      <td>0.2</td>\n",
       "      <td>Iris-setosa</td>\n",
       "    </tr>\n",
       "  </tbody>\n",
       "</table>\n",
       "</div>"
      ],
      "text/plain": [
       "   lng sepalo  anch sepalo  lng petalo  anch petalo      especie\n",
       "0         5.1          3.5         1.4          0.2  Iris-setosa\n",
       "1         4.9          3.0         1.4          0.2  Iris-setosa\n",
       "2         4.7          3.2         1.3          0.2  Iris-setosa\n",
       "3         4.6          3.1         1.5          0.2  Iris-setosa\n",
       "4         5.0          3.6         1.4          0.2  Iris-setosa"
      ]
     },
     "execution_count": 259,
     "metadata": {},
     "output_type": "execute_result"
    }
   ],
   "source": [
    "data.head()"
   ]
  },
  {
   "cell_type": "code",
   "execution_count": null,
   "id": "a84cf8fe",
   "metadata": {},
   "outputs": [],
   "source": []
  },
  {
   "cell_type": "code",
   "execution_count": null,
   "id": "c7c86c5b",
   "metadata": {},
   "outputs": [],
   "source": []
  },
  {
   "cell_type": "markdown",
   "id": "extra-penny",
   "metadata": {},
   "source": [
    "Si lo que queremos es reducir la dimensionalidad del dataset, perdiendo la menor información posible, descartaremos los autovectores cuyos autovalores sean más bajos, ya que son aquellos que menos información aportan al conjunto global. Para ello, lo que se hace es ordenarlos por parejas de autovector, autovalor."
   ]
  },
  {
   "cell_type": "code",
   "execution_count": null,
   "id": "informed-rwanda",
   "metadata": {},
   "outputs": [],
   "source": []
  },
  {
   "cell_type": "markdown",
   "id": "disturbed-stupid",
   "metadata": {},
   "source": [
    "El objetivo de este caso es proyectar este dataset 4D en un espacio de menor dimensionalidad, para mejorar la eficiencia de cálculo, al mismo tiempo que se retiene la mayor parte de la información. La pregunta clave será ¿cuál va ser este valor? ¿3D?¿2D?¿1D?. Para ello seguiremos el siguiente proceso.\n",
    "\n",
    "Una vez ordenados los autovalores, que recordamos son una medida de la varianza de los datos, la cuestión es decidir, cuál es el menor número de autovectores o componentes principales, con el que podemos expresar “la esencia principal” de la información contenida en ese dataset. Para ello, usaremos una métrica que se conoce como “varianza explicada”, que muestra cuánta varianza se puede atribuir a cada una de estas componentes principales."
   ]
  },
  {
   "cell_type": "code",
   "execution_count": null,
   "id": "clean-railway",
   "metadata": {},
   "outputs": [],
   "source": []
  },
  {
   "cell_type": "markdown",
   "id": "entitled-department",
   "metadata": {},
   "source": [
    "En la gráfica se aprecia claramente que la mayor parte de la varianza (en torno al 70%) corresponde a la primera componente. La segunda acumula algo más del 20% de la varianza, mientras que la tercera puede ser descartada sin perder demasiada información, ya que las dos primeras componentes explican más del 90% de la varianza."
   ]
  },
  {
   "cell_type": "code",
   "execution_count": 260,
   "id": "analyzed-duration",
   "metadata": {},
   "outputs": [],
   "source": [
    "from sklearn.decomposition import PCA"
   ]
  },
  {
   "cell_type": "code",
   "execution_count": 261,
   "id": "03332e40",
   "metadata": {},
   "outputs": [
    {
     "data": {
      "text/html": [
       "<div>\n",
       "<style scoped>\n",
       "    .dataframe tbody tr th:only-of-type {\n",
       "        vertical-align: middle;\n",
       "    }\n",
       "\n",
       "    .dataframe tbody tr th {\n",
       "        vertical-align: top;\n",
       "    }\n",
       "\n",
       "    .dataframe thead th {\n",
       "        text-align: right;\n",
       "    }\n",
       "</style>\n",
       "<table border=\"1\" class=\"dataframe\">\n",
       "  <thead>\n",
       "    <tr style=\"text-align: right;\">\n",
       "      <th></th>\n",
       "      <th>lng sepalo</th>\n",
       "      <th>anch sepalo</th>\n",
       "      <th>lng petalo</th>\n",
       "      <th>anch petalo</th>\n",
       "    </tr>\n",
       "  </thead>\n",
       "  <tbody>\n",
       "    <tr>\n",
       "      <th>0</th>\n",
       "      <td>5.1</td>\n",
       "      <td>3.5</td>\n",
       "      <td>1.4</td>\n",
       "      <td>0.2</td>\n",
       "    </tr>\n",
       "    <tr>\n",
       "      <th>1</th>\n",
       "      <td>4.9</td>\n",
       "      <td>3.0</td>\n",
       "      <td>1.4</td>\n",
       "      <td>0.2</td>\n",
       "    </tr>\n",
       "    <tr>\n",
       "      <th>2</th>\n",
       "      <td>4.7</td>\n",
       "      <td>3.2</td>\n",
       "      <td>1.3</td>\n",
       "      <td>0.2</td>\n",
       "    </tr>\n",
       "    <tr>\n",
       "      <th>3</th>\n",
       "      <td>4.6</td>\n",
       "      <td>3.1</td>\n",
       "      <td>1.5</td>\n",
       "      <td>0.2</td>\n",
       "    </tr>\n",
       "    <tr>\n",
       "      <th>4</th>\n",
       "      <td>5.0</td>\n",
       "      <td>3.6</td>\n",
       "      <td>1.4</td>\n",
       "      <td>0.2</td>\n",
       "    </tr>\n",
       "    <tr>\n",
       "      <th>...</th>\n",
       "      <td>...</td>\n",
       "      <td>...</td>\n",
       "      <td>...</td>\n",
       "      <td>...</td>\n",
       "    </tr>\n",
       "    <tr>\n",
       "      <th>145</th>\n",
       "      <td>6.7</td>\n",
       "      <td>3.0</td>\n",
       "      <td>5.2</td>\n",
       "      <td>2.3</td>\n",
       "    </tr>\n",
       "    <tr>\n",
       "      <th>146</th>\n",
       "      <td>6.3</td>\n",
       "      <td>2.5</td>\n",
       "      <td>5.0</td>\n",
       "      <td>1.9</td>\n",
       "    </tr>\n",
       "    <tr>\n",
       "      <th>147</th>\n",
       "      <td>6.5</td>\n",
       "      <td>3.0</td>\n",
       "      <td>5.2</td>\n",
       "      <td>2.0</td>\n",
       "    </tr>\n",
       "    <tr>\n",
       "      <th>148</th>\n",
       "      <td>6.2</td>\n",
       "      <td>3.4</td>\n",
       "      <td>5.4</td>\n",
       "      <td>2.3</td>\n",
       "    </tr>\n",
       "    <tr>\n",
       "      <th>149</th>\n",
       "      <td>5.9</td>\n",
       "      <td>3.0</td>\n",
       "      <td>5.1</td>\n",
       "      <td>1.8</td>\n",
       "    </tr>\n",
       "  </tbody>\n",
       "</table>\n",
       "<p>150 rows × 4 columns</p>\n",
       "</div>"
      ],
      "text/plain": [
       "     lng sepalo  anch sepalo  lng petalo  anch petalo\n",
       "0           5.1          3.5         1.4          0.2\n",
       "1           4.9          3.0         1.4          0.2\n",
       "2           4.7          3.2         1.3          0.2\n",
       "3           4.6          3.1         1.5          0.2\n",
       "4           5.0          3.6         1.4          0.2\n",
       "..          ...          ...         ...          ...\n",
       "145         6.7          3.0         5.2          2.3\n",
       "146         6.3          2.5         5.0          1.9\n",
       "147         6.5          3.0         5.2          2.0\n",
       "148         6.2          3.4         5.4          2.3\n",
       "149         5.9          3.0         5.1          1.8\n",
       "\n",
       "[150 rows x 4 columns]"
      ]
     },
     "execution_count": 261,
     "metadata": {},
     "output_type": "execute_result"
    }
   ],
   "source": [
    "X"
   ]
  },
  {
   "cell_type": "code",
   "execution_count": 262,
   "id": "1dee0f52",
   "metadata": {},
   "outputs": [],
   "source": [
    "pca = PCA()"
   ]
  },
  {
   "cell_type": "code",
   "execution_count": 263,
   "id": "bd08ac4d",
   "metadata": {},
   "outputs": [
    {
     "data": {
      "text/plain": [
       "PCA()"
      ]
     },
     "execution_count": 263,
     "metadata": {},
     "output_type": "execute_result"
    }
   ],
   "source": [
    "pca"
   ]
  },
  {
   "cell_type": "code",
   "execution_count": 264,
   "id": "4c08085f",
   "metadata": {},
   "outputs": [
    {
     "data": {
      "text/plain": [
       "PCA()"
      ]
     },
     "execution_count": 264,
     "metadata": {},
     "output_type": "execute_result"
    }
   ],
   "source": [
    "pca.fit(X)"
   ]
  },
  {
   "cell_type": "code",
   "execution_count": 265,
   "id": "886f2fd4",
   "metadata": {},
   "outputs": [
    {
     "data": {
      "text/plain": [
       "array([0.92461621, 0.05301557, 0.01718514, 0.00518309])"
      ]
     },
     "execution_count": 265,
     "metadata": {},
     "output_type": "execute_result"
    }
   ],
   "source": [
    "pca.explained_variance_ratio_"
   ]
  },
  {
   "cell_type": "code",
   "execution_count": 266,
   "id": "50613eb5",
   "metadata": {},
   "outputs": [
    {
     "data": {
      "image/png": "[encoded data removed]",
      "text/plain": [
       "<Figure size 720x432 with 1 Axes>"
      ]
     },
     "metadata": {},
     "output_type": "display_data"
    }
   ],
   "source": [
    "fig, ax = plt.subplots(figsize = (10, 6))\n",
    "\n",
    "ax.bar(np.arange(1, len(vals) + 1), pca.explained_variance_ratio_, color = 'g', alpha = 0.7)\n",
    "ax.step(np.arange(1, len(vals) + 1), np.cumsum(pca.explained_variance_ratio_), linestyle = '--')\n",
    "ax.set_xlabel('Componentes')\n",
    "ax.set_ylabel('Varianza Explicada');"
   ]
  },
  {
   "cell_type": "code",
   "execution_count": 267,
   "id": "8f2e6ee7",
   "metadata": {},
   "outputs": [],
   "source": [
    "pca = PCA(n_components=2)"
   ]
  },
  {
   "cell_type": "code",
   "execution_count": 268,
   "id": "7f77b3be",
   "metadata": {},
   "outputs": [
    {
     "data": {
      "text/plain": [
       "PCA(n_components=2)"
      ]
     },
     "execution_count": 268,
     "metadata": {},
     "output_type": "execute_result"
    }
   ],
   "source": [
    "pca.fit(X)"
   ]
  },
  {
   "cell_type": "code",
   "execution_count": 269,
   "id": "9e10b0f9",
   "metadata": {},
   "outputs": [],
   "source": [
    "newX2 = pca.transform(X)"
   ]
  },
  {
   "cell_type": "code",
   "execution_count": 270,
   "id": "7161e2e1",
   "metadata": {
    "scrolled": true
   },
   "outputs": [
    {
     "data": {
      "text/plain": [
       "array([[-2.68420713,  0.32660731],\n",
       "       [-2.71539062, -0.16955685],\n",
       "       [-2.88981954, -0.13734561],\n",
       "       [-2.7464372 , -0.31112432],\n",
       "       [-2.72859298,  0.33392456],\n",
       "       [-2.27989736,  0.74778271],\n",
       "       [-2.82089068, -0.08210451],\n",
       "       [-2.62648199,  0.17040535],\n",
       "       [-2.88795857, -0.57079803],\n",
       "       [-2.67384469, -0.1066917 ],\n",
       "       [-2.50652679,  0.65193501],\n",
       "       [-2.61314272,  0.02152063],\n",
       "       [-2.78743398, -0.22774019],\n",
       "       [-3.22520045, -0.50327991],\n",
       "       [-2.64354322,  1.1861949 ],\n",
       "       [-2.38386932,  1.34475434],\n",
       "       [-2.6225262 ,  0.81808967],\n",
       "       [-2.64832273,  0.31913667],\n",
       "       [-2.19907796,  0.87924409],\n",
       "       [-2.58734619,  0.52047364],\n",
       "       [-2.3105317 ,  0.39786782],\n",
       "       [-2.54323491,  0.44003175],\n",
       "       [-3.21585769,  0.14161557],\n",
       "       [-2.30312854,  0.10552268],\n",
       "       [-2.35617109, -0.03120959],\n",
       "       [-2.50791723, -0.13905634],\n",
       "       [-2.469056  ,  0.13788731],\n",
       "       [-2.56239095,  0.37468456],\n",
       "       [-2.63982127,  0.31929007],\n",
       "       [-2.63284791, -0.19007583],\n",
       "       [-2.58846205, -0.19739308],\n",
       "       [-2.41007734,  0.41808001],\n",
       "       [-2.64763667,  0.81998263],\n",
       "       [-2.59715948,  1.10002193],\n",
       "       [-2.67384469, -0.1066917 ],\n",
       "       [-2.86699985,  0.0771931 ],\n",
       "       [-2.62522846,  0.60680001],\n",
       "       [-2.67384469, -0.1066917 ],\n",
       "       [-2.98184266, -0.48025005],\n",
       "       [-2.59032303,  0.23605934],\n",
       "       [-2.77013891,  0.27105942],\n",
       "       [-2.85221108, -0.93286537],\n",
       "       [-2.99829644, -0.33430757],\n",
       "       [-2.4055141 ,  0.19591726],\n",
       "       [-2.20883295,  0.44269603],\n",
       "       [-2.71566519, -0.24268148],\n",
       "       [-2.53757337,  0.51036755],\n",
       "       [-2.8403213 , -0.22057634],\n",
       "       [-2.54268576,  0.58628103],\n",
       "       [-2.70391231,  0.11501085],\n",
       "       [ 1.28479459,  0.68543919],\n",
       "       [ 0.93241075,  0.31919809],\n",
       "       [ 1.46406132,  0.50418983],\n",
       "       [ 0.18096721, -0.82560394],\n",
       "       [ 1.08713449,  0.07539039],\n",
       "       [ 0.64043675, -0.41732348],\n",
       "       [ 1.09522371,  0.28389121],\n",
       "       [-0.75146714, -1.00110751],\n",
       "       [ 1.04329778,  0.22895691],\n",
       "       [-0.01019007, -0.72057487],\n",
       "       [-0.5110862 , -1.26249195],\n",
       "       [ 0.51109806, -0.10228411],\n",
       "       [ 0.26233576, -0.5478933 ],\n",
       "       [ 0.98404455, -0.12436042],\n",
       "       [-0.174864  , -0.25181557],\n",
       "       [ 0.92757294,  0.46823621],\n",
       "       [ 0.65959279, -0.35197629],\n",
       "       [ 0.23454059, -0.33192183],\n",
       "       [ 0.94236171, -0.54182226],\n",
       "       [ 0.0432464 , -0.58148945],\n",
       "       [ 1.11624072, -0.08421401],\n",
       "       [ 0.35678657, -0.06682383],\n",
       "       [ 1.29646885, -0.32756152],\n",
       "       [ 0.92050265, -0.18239036],\n",
       "       [ 0.71400821,  0.15037915],\n",
       "       [ 0.89964086,  0.32961098],\n",
       "       [ 1.33104142,  0.24466952],\n",
       "       [ 1.55739627,  0.26739258],\n",
       "       [ 0.81245555, -0.16233157],\n",
       "       [-0.30733476, -0.36508661],\n",
       "       [-0.07034289, -0.70253793],\n",
       "       [-0.19188449, -0.67749054],\n",
       "       [ 0.13499495, -0.31170964],\n",
       "       [ 1.37873698, -0.42120514],\n",
       "       [ 0.58727485, -0.48328427],\n",
       "       [ 0.8072055 ,  0.19505396],\n",
       "       [ 1.22042897,  0.40803534],\n",
       "       [ 0.81286779, -0.370679  ],\n",
       "       [ 0.24519516, -0.26672804],\n",
       "       [ 0.16451343, -0.67966147],\n",
       "       [ 0.46303099, -0.66952655],\n",
       "       [ 0.89016045, -0.03381244],\n",
       "       [ 0.22887905, -0.40225762],\n",
       "       [-0.70708128, -1.00842476],\n",
       "       [ 0.35553304, -0.50321849],\n",
       "       [ 0.33112695, -0.21118014],\n",
       "       [ 0.37523823, -0.29162202],\n",
       "       [ 0.64169028,  0.01907118],\n",
       "       [-0.90846333, -0.75156873],\n",
       "       [ 0.29780791, -0.34701652],\n",
       "       [ 2.53172698, -0.01184224],\n",
       "       [ 1.41407223, -0.57492506],\n",
       "       [ 2.61648461,  0.34193529],\n",
       "       [ 1.97081495, -0.18112569],\n",
       "       [ 2.34975798, -0.04188255],\n",
       "       [ 3.39687992,  0.54716805],\n",
       "       [ 0.51938325, -1.19135169],\n",
       "       [ 2.9320051 ,  0.35237701],\n",
       "       [ 2.31967279, -0.24554817],\n",
       "       [ 2.91813423,  0.78038063],\n",
       "       [ 1.66193495,  0.2420384 ],\n",
       "       [ 1.80234045, -0.21615461],\n",
       "       [ 2.16537886,  0.21528028],\n",
       "       [ 1.34459422, -0.77641543],\n",
       "       [ 1.5852673 , -0.53930705],\n",
       "       [ 1.90474358,  0.11881899],\n",
       "       [ 1.94924878,  0.04073026],\n",
       "       [ 3.48876538,  1.17154454],\n",
       "       [ 3.79468686,  0.25326557],\n",
       "       [ 1.29832982, -0.76101394],\n",
       "       [ 2.42816726,  0.37678197],\n",
       "       [ 1.19809737, -0.60557896],\n",
       "       [ 3.49926548,  0.45677347],\n",
       "       [ 1.38766825, -0.20403099],\n",
       "       [ 2.27585365,  0.33338653],\n",
       "       [ 2.61419383,  0.55836695],\n",
       "       [ 1.25762518, -0.179137  ],\n",
       "       [ 1.29066965, -0.11642525],\n",
       "       [ 2.12285398, -0.21085488],\n",
       "       [ 2.3875644 ,  0.46251925],\n",
       "       [ 2.84096093,  0.37274259],\n",
       "       [ 3.2323429 ,  1.37052404],\n",
       "       [ 2.15873837, -0.21832553],\n",
       "       [ 1.4431026 , -0.14380129],\n",
       "       [ 1.77964011, -0.50146479],\n",
       "       [ 3.07652162,  0.68576444],\n",
       "       [ 2.14498686,  0.13890661],\n",
       "       [ 1.90486293,  0.04804751],\n",
       "       [ 1.16885347, -0.1645025 ],\n",
       "       [ 2.10765373,  0.37148225],\n",
       "       [ 2.31430339,  0.18260885],\n",
       "       [ 1.92245088,  0.40927118],\n",
       "       [ 1.41407223, -0.57492506],\n",
       "       [ 2.56332271,  0.2759745 ],\n",
       "       [ 2.41939122,  0.30350394],\n",
       "       [ 1.94401705,  0.18741522],\n",
       "       [ 1.52566363, -0.37502085],\n",
       "       [ 1.76404594,  0.07851919],\n",
       "       [ 1.90162908,  0.11587675],\n",
       "       [ 1.38966613, -0.28288671]])"
      ]
     },
     "execution_count": 270,
     "metadata": {},
     "output_type": "execute_result"
    }
   ],
   "source": [
    "newX2"
   ]
  },
  {
   "cell_type": "code",
   "execution_count": 271,
   "id": "89e8c2a1",
   "metadata": {},
   "outputs": [],
   "source": [
    "newX2 = np.column_stack([newX2, y])"
   ]
  },
  {
   "cell_type": "code",
   "execution_count": 272,
   "id": "4790fc26",
   "metadata": {
    "scrolled": true
   },
   "outputs": [
    {
     "data": {
      "image/png": "[encoded data removed]",
      "text/plain": [
       "<Figure size 720x360 with 2 Axes>"
      ]
     },
     "metadata": {},
     "output_type": "display_data"
    }
   ],
   "source": [
    "fig, ax = plt.subplots(1, 2, figsize = (10, 5))\n",
    "\n",
    "for f, c in zip(y.unique(), colors):\n",
    "    mask = newX[:, 2] == f\n",
    "    ax[0].scatter(newX[mask, 0], newX[mask, 1], color = c, label = f)\n",
    "    \n",
    "for f, c in zip(y.unique(), colors):\n",
    "    mask = newX2[:, 2] == f\n",
    "    ax[1].scatter(newX2[mask, 0], newX2[mask, 1], color = c, label = f)\n",
    "    \n",
    "ax[0].legend()\n",
    "ax[1].legend();"
   ]
  },
  {
   "cell_type": "code",
   "execution_count": 273,
   "id": "c08e3532",
   "metadata": {},
   "outputs": [
    {
     "data": {
      "text/plain": [
       "array([[-0.52237162,  0.37231836],\n",
       "       [ 0.26335492,  0.92555649],\n",
       "       [-0.58125401,  0.02109478],\n",
       "       [-0.56561105,  0.06541577]])"
      ]
     },
     "execution_count": 273,
     "metadata": {},
     "output_type": "execute_result"
    }
   ],
   "source": [
    "-B"
   ]
  },
  {
   "cell_type": "code",
   "execution_count": null,
   "id": "b859044a",
   "metadata": {},
   "outputs": [],
   "source": []
  },
  {
   "cell_type": "markdown",
   "id": "defined-associate",
   "metadata": {},
   "source": [
    "Y ¡ya está!. Hemos conseguido reducir el conjunto de datos de trabajo inicial a un conjunto de datos de dos dimensiones que aun así conserva la información más esencial. de forma que nos resultará mucho más sencillo el trabajo de crear un modelo de clasificación a partir de estos datos. Como ya indicamos anteriormente, es una técnica muy frecuente, ya que es sencilla y facilita mucho el trabajo posterior."
   ]
  },
  {
   "cell_type": "markdown",
   "id": "alpha-routine",
   "metadata": {},
   "source": [
    "[Regresar al contenido](#Contenido)"
   ]
  },
  {
   "cell_type": "markdown",
   "id": "taken-greece",
   "metadata": {},
   "source": [
    "<hr>\n",
    "<h2>Ejercicio</h2>\n",
    "\n",
    "En los modelos de ML es muy importante usar como variables predictoras aquellas que tengan una baja correlación entre ellas, y ahí es donde entra PCA en nuestro análisis.\n",
    "\n",
    "La siguiente línea importa un data set que contiene información sobre el estatus socioeconómico de diferentes países."
   ]
  },
  {
   "cell_type": "code",
   "execution_count": 387,
   "id": "imported-turtle",
   "metadata": {},
   "outputs": [
    {
     "data": {
      "text/html": [
       "<div>\n",
       "<style scoped>\n",
       "    .dataframe tbody tr th:only-of-type {\n",
       "        vertical-align: middle;\n",
       "    }\n",
       "\n",
       "    .dataframe tbody tr th {\n",
       "        vertical-align: top;\n",
       "    }\n",
       "\n",
       "    .dataframe thead th {\n",
       "        text-align: right;\n",
       "    }\n",
       "</style>\n",
       "<table border=\"1\" class=\"dataframe\">\n",
       "  <thead>\n",
       "    <tr style=\"text-align: right;\">\n",
       "      <th></th>\n",
       "      <th>child_mort</th>\n",
       "      <th>exports</th>\n",
       "      <th>health</th>\n",
       "      <th>imports</th>\n",
       "      <th>income</th>\n",
       "      <th>inflation</th>\n",
       "      <th>life_expec</th>\n",
       "      <th>total_fer</th>\n",
       "      <th>gdpp</th>\n",
       "    </tr>\n",
       "    <tr>\n",
       "      <th>country</th>\n",
       "      <th></th>\n",
       "      <th></th>\n",
       "      <th></th>\n",
       "      <th></th>\n",
       "      <th></th>\n",
       "      <th></th>\n",
       "      <th></th>\n",
       "      <th></th>\n",
       "      <th></th>\n",
       "    </tr>\n",
       "  </thead>\n",
       "  <tbody>\n",
       "    <tr>\n",
       "      <th>Afghanistan</th>\n",
       "      <td>90.2</td>\n",
       "      <td>10.0</td>\n",
       "      <td>7.58</td>\n",
       "      <td>44.9</td>\n",
       "      <td>1610</td>\n",
       "      <td>9.44</td>\n",
       "      <td>56.2</td>\n",
       "      <td>5.82</td>\n",
       "      <td>553</td>\n",
       "    </tr>\n",
       "    <tr>\n",
       "      <th>Albania</th>\n",
       "      <td>16.6</td>\n",
       "      <td>28.0</td>\n",
       "      <td>6.55</td>\n",
       "      <td>48.6</td>\n",
       "      <td>9930</td>\n",
       "      <td>4.49</td>\n",
       "      <td>76.3</td>\n",
       "      <td>1.65</td>\n",
       "      <td>4090</td>\n",
       "    </tr>\n",
       "    <tr>\n",
       "      <th>Algeria</th>\n",
       "      <td>27.3</td>\n",
       "      <td>38.4</td>\n",
       "      <td>4.17</td>\n",
       "      <td>31.4</td>\n",
       "      <td>12900</td>\n",
       "      <td>16.10</td>\n",
       "      <td>76.5</td>\n",
       "      <td>2.89</td>\n",
       "      <td>4460</td>\n",
       "    </tr>\n",
       "    <tr>\n",
       "      <th>Angola</th>\n",
       "      <td>119.0</td>\n",
       "      <td>62.3</td>\n",
       "      <td>2.85</td>\n",
       "      <td>42.9</td>\n",
       "      <td>5900</td>\n",
       "      <td>22.40</td>\n",
       "      <td>60.1</td>\n",
       "      <td>6.16</td>\n",
       "      <td>3530</td>\n",
       "    </tr>\n",
       "    <tr>\n",
       "      <th>Antigua and Barbuda</th>\n",
       "      <td>10.3</td>\n",
       "      <td>45.5</td>\n",
       "      <td>6.03</td>\n",
       "      <td>58.9</td>\n",
       "      <td>19100</td>\n",
       "      <td>1.44</td>\n",
       "      <td>76.8</td>\n",
       "      <td>2.13</td>\n",
       "      <td>12200</td>\n",
       "    </tr>\n",
       "  </tbody>\n",
       "</table>\n",
       "</div>"
      ],
      "text/plain": [
       "                     child_mort  exports  health  imports  income  inflation  \\\n",
       "country                                                                        \n",
       "Afghanistan                90.2     10.0    7.58     44.9    1610       9.44   \n",
       "Albania                    16.6     28.0    6.55     48.6    9930       4.49   \n",
       "Algeria                    27.3     38.4    4.17     31.4   12900      16.10   \n",
       "Angola                    119.0     62.3    2.85     42.9    5900      22.40   \n",
       "Antigua and Barbuda        10.3     45.5    6.03     58.9   19100       1.44   \n",
       "\n",
       "                     life_expec  total_fer   gdpp  \n",
       "country                                            \n",
       "Afghanistan                56.2       5.82    553  \n",
       "Albania                    76.3       1.65   4090  \n",
       "Algeria                    76.5       2.89   4460  \n",
       "Angola                     60.1       6.16   3530  \n",
       "Antigua and Barbuda        76.8       2.13  12200  "
      ]
     },
     "execution_count": 387,
     "metadata": {},
     "output_type": "execute_result"
    }
   ],
   "source": [
    "# Supress Warnings\n",
    "import warnings\n",
    "warnings.filterwarnings('ignore')\n",
    "\n",
    "#read data\n",
    "data = pd.read_csv('Country-data.csv')\n",
    "data.set_index('country', inplace = True)\n",
    "data.head()"
   ]
  },
  {
   "cell_type": "code",
   "execution_count": null,
   "id": "a508da56",
   "metadata": {},
   "outputs": [],
   "source": []
  },
  {
   "cell_type": "code",
   "execution_count": null,
   "id": "b1492738",
   "metadata": {},
   "outputs": [],
   "source": []
  },
  {
   "cell_type": "code",
   "execution_count": 388,
   "id": "normal-catering",
   "metadata": {},
   "outputs": [
    {
     "data": {
      "image/png": "[encoded data removed]",
      "text/plain": [
       "<Figure size 936x576 with 2 Axes>"
      ]
     },
     "metadata": {},
     "output_type": "display_data"
    }
   ],
   "source": [
    "fig, ax = plt.subplots(figsize = (13, 8))\n",
    "\n",
    "sns.heatmap(data.corr(), ax = ax, annot = True);"
   ]
  },
  {
   "cell_type": "code",
   "execution_count": null,
   "id": "933d7e3c",
   "metadata": {},
   "outputs": [],
   "source": []
  },
  {
   "cell_type": "markdown",
   "id": "careful-mileage",
   "metadata": {},
   "source": [
    "Como se puede observar en la matriz de correlación tenemos varias variables (columnas) con una alta correlación.\n",
    "\n",
    "- Haga una inspección y limpieza general del DataFrame (NaN's y outliers)\n",
    "- Aplique PCA para encontrar las componentes principales del DataFrame\n",
    "    - Utilice el criterio de la varianza explicada para conocer el número de componentes\n",
    "    \n",
    "- Grafique la matriz de covarianza de las componentes principales para corroborar que las componentes que obtuvimos tienen poca correlación entre ellas."
   ]
  },
  {
   "cell_type": "code",
   "execution_count": 326,
   "id": "5bb0c8bf",
   "metadata": {},
   "outputs": [
    {
     "name": "stdout",
     "output_type": "stream",
     "text": [
      "<class 'pandas.core.frame.DataFrame'>\n",
      "Index: 167 entries, Afghanistan to Zambia\n",
      "Data columns (total 9 columns):\n",
      " #   Column      Non-Null Count  Dtype  \n",
      "---  ------      --------------  -----  \n",
      " 0   child_mort  167 non-null    float64\n",
      " 1   exports     167 non-null    float64\n",
      " 2   health      167 non-null    float64\n",
      " 3   imports     167 non-null    float64\n",
      " 4   income      167 non-null    int64  \n",
      " 5   inflation   167 non-null    float64\n",
      " 6   life_expec  167 non-null    float64\n",
      " 7   total_fer   167 non-null    float64\n",
      " 8   gdpp        167 non-null    int64  \n",
      "dtypes: float64(7), int64(2)\n",
      "memory usage: 13.0+ KB\n"
     ]
    }
   ],
   "source": [
    "data.info()"
   ]
  },
  {
   "cell_type": "code",
   "execution_count": 327,
   "id": "aea87f03",
   "metadata": {},
   "outputs": [
    {
     "name": "stdout",
     "output_type": "stream",
     "text": [
      "<class 'pandas.core.frame.DataFrame'>\n",
      "RangeIndex: 1035 entries, 0 to 1034\n",
      "Data columns (total 6 columns):\n",
      " #   Column          Non-Null Count  Dtype  \n",
      "---  ------          --------------  -----  \n",
      " 0   method          1035 non-null   object \n",
      " 1   number          1035 non-null   int64  \n",
      " 2   orbital_period  992 non-null    float64\n",
      " 3   mass            513 non-null    float64\n",
      " 4   distance        808 non-null    float64\n",
      " 5   year            1035 non-null   int64  \n",
      "dtypes: float64(3), int64(2), object(1)\n",
      "memory usage: 48.6+ KB\n"
     ]
    }
   ],
   "source": [
    "planets.info()"
   ]
  },
  {
   "cell_type": "code",
   "execution_count": 390,
   "id": "9551fa6c",
   "metadata": {},
   "outputs": [
    {
     "data": {
      "text/plain": [
       "Index(['Afghanistan', 'Albania', 'Algeria', 'Angola', 'Antigua and Barbuda',\n",
       "       'Argentina', 'Armenia', 'Australia', 'Austria', 'Azerbaijan',\n",
       "       ...\n",
       "       'United Arab Emirates', 'United Kingdom', 'United States', 'Uruguay',\n",
       "       'Uzbekistan', 'Vanuatu', 'Venezuela', 'Vietnam', 'Yemen', 'Zambia'],\n",
       "      dtype='object', name='country', length=167)"
      ]
     },
     "execution_count": 390,
     "metadata": {},
     "output_type": "execute_result"
    }
   ],
   "source": [
    "data.index"
   ]
  },
  {
   "cell_type": "code",
   "execution_count": 391,
   "id": "a5e26722",
   "metadata": {},
   "outputs": [
    {
     "data": {
      "text/html": [
       "<div>\n",
       "<style scoped>\n",
       "    .dataframe tbody tr th:only-of-type {\n",
       "        vertical-align: middle;\n",
       "    }\n",
       "\n",
       "    .dataframe tbody tr th {\n",
       "        vertical-align: top;\n",
       "    }\n",
       "\n",
       "    .dataframe thead th {\n",
       "        text-align: right;\n",
       "    }\n",
       "</style>\n",
       "<table border=\"1\" class=\"dataframe\">\n",
       "  <thead>\n",
       "    <tr style=\"text-align: right;\">\n",
       "      <th></th>\n",
       "      <th>country</th>\n",
       "      <th>child_mort</th>\n",
       "      <th>exports</th>\n",
       "      <th>health</th>\n",
       "      <th>imports</th>\n",
       "      <th>income</th>\n",
       "      <th>inflation</th>\n",
       "      <th>life_expec</th>\n",
       "      <th>total_fer</th>\n",
       "      <th>gdpp</th>\n",
       "    </tr>\n",
       "  </thead>\n",
       "  <tbody>\n",
       "    <tr>\n",
       "      <th>0</th>\n",
       "      <td>Afghanistan</td>\n",
       "      <td>90.2</td>\n",
       "      <td>10.0</td>\n",
       "      <td>7.58</td>\n",
       "      <td>44.9</td>\n",
       "      <td>1610</td>\n",
       "      <td>9.44</td>\n",
       "      <td>56.2</td>\n",
       "      <td>5.82</td>\n",
       "      <td>553</td>\n",
       "    </tr>\n",
       "    <tr>\n",
       "      <th>1</th>\n",
       "      <td>Albania</td>\n",
       "      <td>16.6</td>\n",
       "      <td>28.0</td>\n",
       "      <td>6.55</td>\n",
       "      <td>48.6</td>\n",
       "      <td>9930</td>\n",
       "      <td>4.49</td>\n",
       "      <td>76.3</td>\n",
       "      <td>1.65</td>\n",
       "      <td>4090</td>\n",
       "    </tr>\n",
       "    <tr>\n",
       "      <th>2</th>\n",
       "      <td>Algeria</td>\n",
       "      <td>27.3</td>\n",
       "      <td>38.4</td>\n",
       "      <td>4.17</td>\n",
       "      <td>31.4</td>\n",
       "      <td>12900</td>\n",
       "      <td>16.10</td>\n",
       "      <td>76.5</td>\n",
       "      <td>2.89</td>\n",
       "      <td>4460</td>\n",
       "    </tr>\n",
       "    <tr>\n",
       "      <th>3</th>\n",
       "      <td>Angola</td>\n",
       "      <td>119.0</td>\n",
       "      <td>62.3</td>\n",
       "      <td>2.85</td>\n",
       "      <td>42.9</td>\n",
       "      <td>5900</td>\n",
       "      <td>22.40</td>\n",
       "      <td>60.1</td>\n",
       "      <td>6.16</td>\n",
       "      <td>3530</td>\n",
       "    </tr>\n",
       "    <tr>\n",
       "      <th>4</th>\n",
       "      <td>Antigua and Barbuda</td>\n",
       "      <td>10.3</td>\n",
       "      <td>45.5</td>\n",
       "      <td>6.03</td>\n",
       "      <td>58.9</td>\n",
       "      <td>19100</td>\n",
       "      <td>1.44</td>\n",
       "      <td>76.8</td>\n",
       "      <td>2.13</td>\n",
       "      <td>12200</td>\n",
       "    </tr>\n",
       "    <tr>\n",
       "      <th>...</th>\n",
       "      <td>...</td>\n",
       "      <td>...</td>\n",
       "      <td>...</td>\n",
       "      <td>...</td>\n",
       "      <td>...</td>\n",
       "      <td>...</td>\n",
       "      <td>...</td>\n",
       "      <td>...</td>\n",
       "      <td>...</td>\n",
       "      <td>...</td>\n",
       "    </tr>\n",
       "    <tr>\n",
       "      <th>162</th>\n",
       "      <td>Vanuatu</td>\n",
       "      <td>29.2</td>\n",
       "      <td>46.6</td>\n",
       "      <td>5.25</td>\n",
       "      <td>52.7</td>\n",
       "      <td>2950</td>\n",
       "      <td>2.62</td>\n",
       "      <td>63.0</td>\n",
       "      <td>3.50</td>\n",
       "      <td>2970</td>\n",
       "    </tr>\n",
       "    <tr>\n",
       "      <th>163</th>\n",
       "      <td>Venezuela</td>\n",
       "      <td>17.1</td>\n",
       "      <td>28.5</td>\n",
       "      <td>4.91</td>\n",
       "      <td>17.6</td>\n",
       "      <td>16500</td>\n",
       "      <td>45.90</td>\n",
       "      <td>75.4</td>\n",
       "      <td>2.47</td>\n",
       "      <td>13500</td>\n",
       "    </tr>\n",
       "    <tr>\n",
       "      <th>164</th>\n",
       "      <td>Vietnam</td>\n",
       "      <td>23.3</td>\n",
       "      <td>72.0</td>\n",
       "      <td>6.84</td>\n",
       "      <td>80.2</td>\n",
       "      <td>4490</td>\n",
       "      <td>12.10</td>\n",
       "      <td>73.1</td>\n",
       "      <td>1.95</td>\n",
       "      <td>1310</td>\n",
       "    </tr>\n",
       "    <tr>\n",
       "      <th>165</th>\n",
       "      <td>Yemen</td>\n",
       "      <td>56.3</td>\n",
       "      <td>30.0</td>\n",
       "      <td>5.18</td>\n",
       "      <td>34.4</td>\n",
       "      <td>4480</td>\n",
       "      <td>23.60</td>\n",
       "      <td>67.5</td>\n",
       "      <td>4.67</td>\n",
       "      <td>1310</td>\n",
       "    </tr>\n",
       "    <tr>\n",
       "      <th>166</th>\n",
       "      <td>Zambia</td>\n",
       "      <td>83.1</td>\n",
       "      <td>37.0</td>\n",
       "      <td>5.89</td>\n",
       "      <td>30.9</td>\n",
       "      <td>3280</td>\n",
       "      <td>14.00</td>\n",
       "      <td>52.0</td>\n",
       "      <td>5.40</td>\n",
       "      <td>1460</td>\n",
       "    </tr>\n",
       "  </tbody>\n",
       "</table>\n",
       "<p>167 rows × 10 columns</p>\n",
       "</div>"
      ],
      "text/plain": [
       "                 country  child_mort  exports  health  imports  income  \\\n",
       "0            Afghanistan        90.2     10.0    7.58     44.9    1610   \n",
       "1                Albania        16.6     28.0    6.55     48.6    9930   \n",
       "2                Algeria        27.3     38.4    4.17     31.4   12900   \n",
       "3                 Angola       119.0     62.3    2.85     42.9    5900   \n",
       "4    Antigua and Barbuda        10.3     45.5    6.03     58.9   19100   \n",
       "..                   ...         ...      ...     ...      ...     ...   \n",
       "162              Vanuatu        29.2     46.6    5.25     52.7    2950   \n",
       "163            Venezuela        17.1     28.5    4.91     17.6   16500   \n",
       "164              Vietnam        23.3     72.0    6.84     80.2    4490   \n",
       "165                Yemen        56.3     30.0    5.18     34.4    4480   \n",
       "166               Zambia        83.1     37.0    5.89     30.9    3280   \n",
       "\n",
       "     inflation  life_expec  total_fer   gdpp  \n",
       "0         9.44        56.2       5.82    553  \n",
       "1         4.49        76.3       1.65   4090  \n",
       "2        16.10        76.5       2.89   4460  \n",
       "3        22.40        60.1       6.16   3530  \n",
       "4         1.44        76.8       2.13  12200  \n",
       "..         ...         ...        ...    ...  \n",
       "162       2.62        63.0       3.50   2970  \n",
       "163      45.90        75.4       2.47  13500  \n",
       "164      12.10        73.1       1.95   1310  \n",
       "165      23.60        67.5       4.67   1310  \n",
       "166      14.00        52.0       5.40   1460  \n",
       "\n",
       "[167 rows x 10 columns]"
      ]
     },
     "execution_count": 391,
     "metadata": {},
     "output_type": "execute_result"
    }
   ],
   "source": [
    "df = data.reset_index()\n",
    "df"
   ]
  },
  {
   "cell_type": "code",
   "execution_count": 392,
   "id": "a935ccc3",
   "metadata": {},
   "outputs": [
    {
     "name": "stdout",
     "output_type": "stream",
     "text": [
      "<class 'pandas.core.frame.DataFrame'>\n",
      "RangeIndex: 167 entries, 0 to 166\n",
      "Data columns (total 10 columns):\n",
      " #   Column      Non-Null Count  Dtype  \n",
      "---  ------      --------------  -----  \n",
      " 0   country     167 non-null    object \n",
      " 1   child_mort  167 non-null    float64\n",
      " 2   exports     167 non-null    float64\n",
      " 3   health      167 non-null    float64\n",
      " 4   imports     167 non-null    float64\n",
      " 5   income      167 non-null    int64  \n",
      " 6   inflation   167 non-null    float64\n",
      " 7   life_expec  167 non-null    float64\n",
      " 8   total_fer   167 non-null    float64\n",
      " 9   gdpp        167 non-null    int64  \n",
      "dtypes: float64(7), int64(2), object(1)\n",
      "memory usage: 13.2+ KB\n"
     ]
    }
   ],
   "source": [
    "df.info()"
   ]
  },
  {
   "cell_type": "code",
   "execution_count": 393,
   "id": "1605378a",
   "metadata": {},
   "outputs": [],
   "source": [
    "A=df[['child_mort','exports','health','imports','income','inflation','life_expec','total_fer','gdpp']]"
   ]
  },
  {
   "cell_type": "code",
   "execution_count": 394,
   "id": "bab26720",
   "metadata": {},
   "outputs": [],
   "source": [
    "B=df['country']"
   ]
  },
  {
   "cell_type": "code",
   "execution_count": 395,
   "id": "appropriate-virus",
   "metadata": {},
   "outputs": [
    {
     "data": {
      "text/html": [
       "<div>\n",
       "<style scoped>\n",
       "    .dataframe tbody tr th:only-of-type {\n",
       "        vertical-align: middle;\n",
       "    }\n",
       "\n",
       "    .dataframe tbody tr th {\n",
       "        vertical-align: top;\n",
       "    }\n",
       "\n",
       "    .dataframe thead th {\n",
       "        text-align: right;\n",
       "    }\n",
       "</style>\n",
       "<table border=\"1\" class=\"dataframe\">\n",
       "  <thead>\n",
       "    <tr style=\"text-align: right;\">\n",
       "      <th></th>\n",
       "      <th>child_mort</th>\n",
       "      <th>exports</th>\n",
       "      <th>health</th>\n",
       "      <th>imports</th>\n",
       "      <th>income</th>\n",
       "      <th>inflation</th>\n",
       "      <th>life_expec</th>\n",
       "      <th>total_fer</th>\n",
       "      <th>gdpp</th>\n",
       "    </tr>\n",
       "  </thead>\n",
       "  <tbody>\n",
       "  </tbody>\n",
       "</table>\n",
       "</div>"
      ],
      "text/plain": [
       "Empty DataFrame\n",
       "Columns: [child_mort, exports, health, imports, income, inflation, life_expec, total_fer, gdpp]\n",
       "Index: []"
      ]
     },
     "execution_count": 395,
     "metadata": {},
     "output_type": "execute_result"
    }
   ],
   "source": [
    "mask = A['child_mort'].isnull()\n",
    "A[mask]"
   ]
  },
  {
   "cell_type": "code",
   "execution_count": 396,
   "id": "0d1d8c4f",
   "metadata": {},
   "outputs": [],
   "source": [
    "from sklearn.decomposition import PCA"
   ]
  },
  {
   "cell_type": "code",
   "execution_count": 397,
   "id": "c0da190f",
   "metadata": {},
   "outputs": [],
   "source": [
    "pca = PCA()"
   ]
  },
  {
   "cell_type": "code",
   "execution_count": 398,
   "id": "a5efec9c",
   "metadata": {},
   "outputs": [
    {
     "data": {
      "text/plain": [
       "PCA()"
      ]
     },
     "execution_count": 398,
     "metadata": {},
     "output_type": "execute_result"
    }
   ],
   "source": [
    "pca.fit(A)"
   ]
  },
  {
   "cell_type": "code",
   "execution_count": 399,
   "id": "49158a3f",
   "metadata": {},
   "outputs": [
    {
     "data": {
      "text/plain": [
       "array([9.47923065e-01, 5.20734600e-02, 1.76794667e-06, 1.38689143e-06,\n",
       "       1.90998382e-07, 1.03865256e-07, 1.82060941e-08, 5.98917170e-09,\n",
       "       8.64921244e-10])"
      ]
     },
     "execution_count": 399,
     "metadata": {},
     "output_type": "execute_result"
    }
   ],
   "source": [
    "pca.explained_variance_ratio_"
   ]
  },
  {
   "cell_type": "code",
   "execution_count": 400,
   "id": "72325ded",
   "metadata": {},
   "outputs": [],
   "source": [
    "vals=np.array([9.47923065e-01, 5.20734600e-02, 1.76794667e-06, 1.38689143e-06,\n",
    "       1.90998382e-07, 1.03865256e-07, 1.82060941e-08, 5.98917170e-09,\n",
    "       8.64921244e-10])"
   ]
  },
  {
   "cell_type": "code",
   "execution_count": 401,
   "id": "506bab2d",
   "metadata": {},
   "outputs": [
    {
     "data": {
      "image/png": "[encoded data removed]",
      "text/plain": [
       "<Figure size 936x432 with 1 Axes>"
      ]
     },
     "metadata": {},
     "output_type": "display_data"
    }
   ],
   "source": [
    "fig, ax = plt.subplots(figsize = (13, 6))\n",
    "\n",
    "ax.bar(np.arange(1, len(vals) + 1), pca.explained_variance_ratio_, color = 'g', alpha = 0.5)\n",
    "ax.step(np.arange(1, len(vals) + 1), np.cumsum(pca.explained_variance_ratio_), linestyle = '--')\n",
    "ax.set_xlabel('Componentes')\n",
    "ax.set_ylabel('Varianza Explicada');"
   ]
  },
  {
   "cell_type": "code",
   "execution_count": 402,
   "id": "b039d0cf",
   "metadata": {},
   "outputs": [],
   "source": [
    "pca = PCA(n_components=2)"
   ]
  },
  {
   "cell_type": "code",
   "execution_count": 403,
   "id": "4e7230ef",
   "metadata": {},
   "outputs": [
    {
     "data": {
      "text/plain": [
       "PCA(n_components=2)"
      ]
     },
     "execution_count": 403,
     "metadata": {},
     "output_type": "execute_result"
    }
   ],
   "source": [
    "pca.fit(A)"
   ]
  },
  {
   "cell_type": "code",
   "execution_count": 411,
   "id": "221aa0d0",
   "metadata": {},
   "outputs": [],
   "source": [
    "newX3 = pca.transform(A)"
   ]
  },
  {
   "cell_type": "code",
   "execution_count": 412,
   "id": "869a312a",
   "metadata": {},
   "outputs": [
    {
     "data": {
      "text/plain": [
       "array([[-1.98151280e+04, -1.65112472e+03],\n",
       "       [-1.13389390e+04,  1.49346903e+03],\n",
       "       [-8.92635259e+03,  3.26468410e+03],\n",
       "       [-1.46524659e+04, -8.67795270e+02],\n",
       "       [ 8.96142032e+02,  1.89847815e+03],\n",
       "       [-6.99699306e+02,  3.00451171e+03],\n",
       "       [-1.42839444e+04, -9.29672241e+01],\n",
       "       [ 4.43727025e+04, -1.16354527e+04],\n",
       "       [ 4.22463421e+04, -6.76525844e+03],\n",
       "       [-5.72551309e+03,  4.39118182e+03],\n",
       "       [ 1.45108648e+04, -6.97390702e+03],\n",
       "       [ 2.27232733e+04,  1.08330393e+04],\n",
       "       [-1.90710762e+04, -1.22994979e+03],\n",
       "       [ 7.44735254e+02, -3.47340570e+03],\n",
       "       [-5.44962091e+03,  4.39049953e+03],\n",
       "       [ 3.90029276e+04, -6.39086337e+03],\n",
       "       [-1.26570298e+04, -9.63440942e+01],\n",
       "       [-1.95217046e+04, -1.65585861e+03],\n",
       "       [-1.52018204e+04,  4.70524185e+02],\n",
       "       [-1.60732239e+04, -7.79039217e+01],\n",
       "       [-1.11343558e+04,  9.71315924e+02],\n",
       "       [-7.33742276e+03,  2.16588186e+03],\n",
       "       [-3.13382968e+03, -5.34572278e+02],\n",
       "       [ 6.14585742e+04,  2.73552358e+04],\n",
       "       [-5.54730448e+03,  3.18361178e+03],\n",
       "       [-1.99308479e+04, -1.79076294e+03],\n",
       "       [-2.06511429e+04, -1.99823612e+03],\n",
       "       [-1.89936758e+04, -1.19530743e+03],\n",
       "       [-1.85320664e+04, -1.48002418e+03],\n",
       "       [ 4.07729133e+04, -8.84591407e+03],\n",
       "       [-1.48543911e+04, -7.55975582e+02],\n",
       "       [-2.04133880e+04, -2.06934107e+03],\n",
       "       [-1.93463083e+04, -1.68132487e+03],\n",
       "       [ 1.59499352e+03,  1.59582012e+03],\n",
       "       [-1.13067962e+04,  8.77134686e+02],\n",
       "       [-9.15029156e+03,  5.89977233e+02],\n",
       "       [-1.98120978e+04, -1.94547597e+03],\n",
       "       [-2.06930387e+04, -2.17953961e+03],\n",
       "       [-1.57110532e+04, -7.81314329e+02],\n",
       "       [-6.28464073e+03,  6.15340533e+02],\n",
       "       [-1.85720720e+04, -1.39398292e+03],\n",
       "       [ 2.51586246e+03,  1.64060426e+03],\n",
       "       [ 2.44284312e+04, -1.45283343e+03],\n",
       "       [ 1.28027054e+04,  2.69473789e+03],\n",
       "       [ 5.04523815e+04, -1.42826301e+04],\n",
       "       [-9.55447409e+03,  1.30875496e+03],\n",
       "       [-1.13689253e+04,  6.80813580e+02],\n",
       "       [-1.24133172e+04,  2.52822652e+03],\n",
       "       [-1.40058814e+04,  4.86330246e+02],\n",
       "       [ 1.48724121e+04,  8.36620325e+03],\n",
       "       [-2.00019561e+04, -1.73002215e+03],\n",
       "       [ 5.16102258e+03,  2.62717081e+03],\n",
       "       [-1.35161752e+04,  4.10502108e+01],\n",
       "       [ 3.92945631e+04, -8.59202037e+03],\n",
       "       [ 3.33403230e+04, -6.51427008e+03],\n",
       "       [-4.16268815e+03,  1.86419546e+03],\n",
       "       [-1.97725914e+04, -1.62330267e+03],\n",
       "       [-1.44407278e+04,  1.16607828e+02],\n",
       "       [ 3.67082311e+04, -4.98218777e+03],\n",
       "       [-1.82413350e+04, -1.20523180e+03],\n",
       "       [ 1.79704020e+04, -2.19044926e+03],\n",
       "       [-8.16292420e+03, -1.78978635e+01],\n",
       "       [-1.45445824e+04,  1.97326457e+02],\n",
       "       [-2.00551109e+04, -2.00865430e+03],\n",
       "       [-1.99791511e+04, -1.79789433e+03],\n",
       "       [-1.50325872e+04, -5.52871390e+02],\n",
       "       [-1.98202925e+04, -1.80596074e+03],\n",
       "       [ 3.83996950e+03,  3.44253586e+03],\n",
       "       [ 3.56141344e+04, -6.15389535e+03],\n",
       "       [-1.72327421e+04, -3.06981744e+02],\n",
       "       [-1.31022465e+04,  1.17531489e+03],\n",
       "       [-4.23410171e+03,  4.85137547e+03],\n",
       "       [-9.04423465e+03,  3.09822809e+03],\n",
       "       [ 4.52996688e+04, -6.35609349e+03],\n",
       "       [ 2.11660281e+04, -4.26118777e+03],\n",
       "       [ 2.95344566e+04, -3.50671715e+03],\n",
       "       [-1.23362866e+04, -2.61032392e+02],\n",
       "       [ 3.52198238e+04, -1.01041904e+04],\n",
       "       [-1.19548648e+04,  1.47547803e+03],\n",
       "       [-5.27139427e+02,  4.86009732e+03],\n",
       "       [-1.88984510e+04, -1.35436783e+03],\n",
       "       [-1.90842590e+04, -2.24964100e+03],\n",
       "       [ 5.97322373e+04,  2.13203609e+04],\n",
       "       [-1.87328719e+04, -1.07814858e+03],\n",
       "       [-1.76895008e+04, -4.49731581e+02],\n",
       "       [-3.03464476e+02,  2.00303554e+03],\n",
       "       [-3.43301488e+03,  2.40247329e+03],\n",
       "       [-1.88317005e+04, -1.57058874e+03],\n",
       "       [-2.06316958e+04, -2.11195272e+03],\n",
       "       [ 8.45829457e+03,  9.18366338e+03],\n",
       "       [ 2.21226826e+03,  3.41765699e+03],\n",
       "       [ 1.17402802e+05, -1.56743067e+04],\n",
       "       [-9.96150227e+03,  2.17619584e+03],\n",
       "       [-2.00711479e+04, -1.70046857e+03],\n",
       "       [-2.03012059e+04, -1.98120255e+03],\n",
       "       [ 1.99647102e+02,  5.54704799e+03],\n",
       "       [-8.85707949e+03, -3.02455816e+02],\n",
       "       [-1.95197350e+04, -1.58519087e+03],\n",
       "       [ 1.36957340e+04,  1.75005284e+03],\n",
       "       [-1.81279450e+04, -9.46685446e+02],\n",
       "       [-4.31444884e+03,  2.75272663e+03],\n",
       "       [-1.69731126e+04, -2.13934684e+03],\n",
       "       [-1.74037333e+04, -8.53882300e+02],\n",
       "       [-1.39414617e+04,  1.01508084e+03],\n",
       "       [-6.60198189e+03,  2.40690619e+03],\n",
       "       [-1.47407977e+04,  1.18690720e+01],\n",
       "       [-2.04100799e+04, -2.02906389e+03],\n",
       "       [-1.79828757e+04, -5.17888840e+02],\n",
       "       [-1.16516855e+04, -3.15705304e+02],\n",
       "       [-1.95121391e+04, -1.41841862e+03],\n",
       "       [ 4.62533482e+04, -7.65629991e+03],\n",
       "       [ 2.52576447e+04, -4.65946904e+03],\n",
       "       [-2.05344527e+04, -2.04892508e+03],\n",
       "       [-1.60218486e+04, -5.10896060e+02],\n",
       "       [ 8.42216030e+04, -2.33693647e+04],\n",
       "       [ 2.48139368e+04,  1.47354792e+04],\n",
       "       [-1.75401925e+04, -1.71014256e+02],\n",
       "       [-4.62286134e+03,  2.35115087e+03],\n",
       "       [-1.38482810e+04,  3.05067155e+02],\n",
       "       [-1.06783209e+04,  8.38198290e+02],\n",
       "       [-1.58320977e+04, -5.64030712e+01],\n",
       "       [ 3.13311891e+03,  3.46241618e+03],\n",
       "       [ 1.38579055e+04, -2.31097735e+01],\n",
       "       [ 1.17767797e+05,  3.24176123e+04],\n",
       "       [-2.77565140e+03,  3.89067630e+03],\n",
       "       [ 2.77275686e+03,  5.73620143e+03],\n",
       "       [-1.99971899e+04, -1.83697366e+03],\n",
       "       [-1.50707225e+04, -1.15308868e+03],\n",
       "       [ 2.48865988e+04,  1.48041518e+04],\n",
       "       [-1.90938077e+04, -1.58442018e+03],\n",
       "       [-8.41912682e+03,  2.43689582e+03],\n",
       "       [ 8.79272769e+02,  3.80894422e+03],\n",
       "       [-2.02043973e+04, -1.80713023e+03],\n",
       "       [ 6.30433440e+04,  1.33044401e+04],\n",
       "       [ 8.35169872e+03,  2.89093554e+03],\n",
       "       [ 1.55662611e+04,  3.53207712e+02],\n",
       "       [-1.91852564e+04, -2.06989098e+03],\n",
       "       [-7.64338385e+03,  5.97014692e+02],\n",
       "       [ 1.59087438e+04,  2.46570224e+03],\n",
       "       [ 2.33422796e+04, -2.34185057e+03],\n",
       "       [-1.32138245e+04,  1.48264691e+03],\n",
       "       [-9.87623420e+03, -6.86417054e+01],\n",
       "       [-1.78992789e+04, -1.11584979e+03],\n",
       "       [-5.34385743e+03,  1.36696195e+03],\n",
       "       [ 4.56002207e+04, -1.07504195e+04],\n",
       "       [ 7.02125970e+04, -1.84472265e+04],\n",
       "       [-1.93246400e+04, -1.44209292e+03],\n",
       "       [-1.93639227e+04, -1.42967824e+03],\n",
       "       [-8.06439486e+03,  3.22627482e+03],\n",
       "       [-1.75476917e+04, -3.70065463e+03],\n",
       "       [-2.01504576e+04, -1.87862097e+03],\n",
       "       [-1.53072727e+04, -1.51427685e+03],\n",
       "       [-1.09630110e+04,  1.77999753e+03],\n",
       "       [-9.33660435e+02,  2.23297577e+03],\n",
       "       [-1.10912690e+04,  1.24599650e+03],\n",
       "       [-1.98371410e+04, -1.72972043e+03],\n",
       "       [-1.36416959e+04,  8.58081528e+02],\n",
       "       [ 4.45373385e+04,  1.17744795e+04],\n",
       "       [ 3.16638620e+04, -5.75963101e+03],\n",
       "       [ 4.77825030e+04, -3.59661607e+03],\n",
       "       [-7.63437096e+02,  7.42674765e+02],\n",
       "       [-1.73356589e+04, -4.45534817e+02],\n",
       "       [-1.71809677e+04, -2.48715383e+03],\n",
       "       [-1.00445973e+02, -8.32252802e+02],\n",
       "       [-1.72020172e+04, -2.22889872e+02],\n",
       "       [-1.72093402e+04, -2.29815901e+02],\n",
       "       [-1.79784216e+04, -1.16312463e+03]])"
      ]
     },
     "execution_count": 412,
     "metadata": {},
     "output_type": "execute_result"
    }
   ],
   "source": [
    "newX3"
   ]
  },
  {
   "cell_type": "code",
   "execution_count": 350,
   "id": "e2a49d80",
   "metadata": {},
   "outputs": [],
   "source": []
  },
  {
   "cell_type": "code",
   "execution_count": 418,
   "id": "62c2adc7",
   "metadata": {},
   "outputs": [],
   "source": [
    "newX3 = np.column_stack([newX3,B])"
   ]
  },
  {
   "cell_type": "code",
   "execution_count": 419,
   "id": "0ec5be41",
   "metadata": {},
   "outputs": [
    {
     "data": {
      "text/plain": [
       "array([[-19815.128017778923, -1651.1247204294468, 'Afghanistan'],\n",
       "       [-11338.93899184548, 1493.469027644981, 'Albania'],\n",
       "       [-8926.352589162312, 3264.6841016739772, 'Algeria'],\n",
       "       [-14652.465936549776, -867.7952695618142, 'Angola'],\n",
       "       [896.1420320177976, 1898.4781514341155, 'Antigua and Barbuda'],\n",
       "       [-699.699306341415, 3004.5117114450113, 'Argentina'],\n",
       "       [-14283.944388471597, -92.96722413573207, 'Armenia'],\n",
       "       [44372.70251424711, -11635.45271878023, 'Australia'],\n",
       "       [42246.342148552445, -6765.258442554383, 'Austria'],\n",
       "       [-5725.513088616047, 4391.1818226903215, 'Azerbaijan'],\n",
       "       [14510.864808514514, -6973.907023510697, 'Bahamas'],\n",
       "       [22723.273343124467, 10833.039295348342, 'Bahrain'],\n",
       "       [-19071.076155436418, -1229.9497886317622, 'Bangladesh'],\n",
       "       [744.7352536452083, -3473.405704313133, 'Barbados'],\n",
       "       [-5449.620911632077, 4390.499531582856, 'Belarus'],\n",
       "       [39002.92756398523, -6390.863366072688, 'Belgium'],\n",
       "       [-12657.029818511679, -96.34409420613156, 'Belize'],\n",
       "       [-19521.704558054447, -1655.8586115111793, 'Benin'],\n",
       "       [-15201.820427240858, 470.5241854528058, 'Bhutan'],\n",
       "       [-16073.223936552275, -77.90392168602284, 'Bolivia'],\n",
       "       [-11134.355848721476, 971.3159236451274, 'Bosnia and Herzegovina'],\n",
       "       [-7337.4227608339825, 2165.881859528164, 'Botswana'],\n",
       "       [-3133.8296800588378, -534.5722783458259, 'Brazil'],\n",
       "       [61458.57420892509, 27355.235837839264, 'Brunei'],\n",
       "       [-5547.304480513465, 3183.6117785046263, 'Bulgaria'],\n",
       "       [-19930.84786115709, -1790.7629418761862, 'Burkina Faso'],\n",
       "       [-20651.14287020934, -1998.2361202537813, 'Burundi'],\n",
       "       [-18993.675822752393, -1195.307427031963, 'Cambodia'],\n",
       "       [-18532.066416397276, -1480.0241770297725, 'Cameroon'],\n",
       "       [40772.91334443949, -8845.914067626964, 'Canada'],\n",
       "       [-14854.39109599526, -755.9755815750486, 'Cape Verde'],\n",
       "       [-20413.38800667636, -2069.3410651355352,\n",
       "        'Central African Republic'],\n",
       "       [-19346.308348101455, -1681.324874128839, 'Chad'],\n",
       "       [1594.9935210060319, 1595.8201172525216, 'Chile'],\n",
       "       [-11306.796152430376, 877.134686363087, 'China'],\n",
       "       [-9150.291558733734, 589.9772330384076, 'Colombia'],\n",
       "       [-19812.097766579693, -1945.4759675569858, 'Comoros'],\n",
       "       [-20693.038659851605, -2179.539605460639, 'Congo, Dem. Rep.'],\n",
       "       [-15711.053195877017, -781.3143294140236, 'Congo, Rep.'],\n",
       "       [-6284.640725820598, 615.3405325048793, 'Costa Rica'],\n",
       "       [-18572.071959640376, -1393.9829206292798, \"Cote d'Ivoire\"],\n",
       "       [2515.862455899299, 1640.6042647838424, 'Croatia'],\n",
       "       [24428.43117138185, -1452.8334271638687, 'Cyprus'],\n",
       "       [12802.70544043279, 2694.7378868684964, 'Czech Republic'],\n",
       "       [50452.381459022356, -14282.630139813748, 'Denmark'],\n",
       "       [-9554.474092709039, 1308.7549645538857, 'Dominican Republic'],\n",
       "       [-11368.925287272432, 680.8135804084177, 'Ecuador'],\n",
       "       [-12413.317179415035, 2528.226516727231, 'Egypt'],\n",
       "       [-14005.881443831931, 486.33024583818224, 'El Salvador'],\n",
       "       [14872.412063035834, 8366.20324876608, 'Equatorial Guinea'],\n",
       "       [-20001.956097758324, -1730.022149800734, 'Eritrea'],\n",
       "       [5161.022576511919, 2627.170810276822, 'Estonia'],\n",
       "       [-13516.17519554657, 41.05021083831252, 'Fiji'],\n",
       "       [39294.56311983621, -8592.020367234378, 'Finland'],\n",
       "       [33340.32297200525, -6514.270076534267, 'France'],\n",
       "       [-4162.688149373926, 1864.1954583960055, 'Gabon'],\n",
       "       [-19772.591401550813, -1623.3026651735036, 'Gambia'],\n",
       "       [-14440.727846417045, 116.60782757185461, 'Georgia'],\n",
       "       [36708.2310614164, -4982.187771310648, 'Germany'],\n",
       "       [-18241.334986204405, -1205.2318049719179, 'Ghana'],\n",
       "       [17970.402048732107, -2190.4492585652315, 'Greece'],\n",
       "       [-8162.924202630915, -17.897863472373956, 'Grenada'],\n",
       "       [-14544.582436596385, 197.32645691186008, 'Guatemala'],\n",
       "       [-20055.110871654953, -2008.6543012168695, 'Guinea'],\n",
       "       [-19979.15113837065, -1797.8943278627612, 'Guinea-Bissau'],\n",
       "       [-15032.587202622364, -552.8713895994442, 'Guyana'],\n",
       "       [-19820.29246181687, -1805.960744827591, 'Haiti'],\n",
       "       [3839.9694956185185, 3442.535857438904, 'Hungary'],\n",
       "       [35614.13437292908, -6153.895351449366, 'Iceland'],\n",
       "       [-17232.742059157717, -306.9817439823437, 'India'],\n",
       "       [-13102.246499103836, 1175.314893884416, 'Indonesia'],\n",
       "       [-4234.101714541567, 4851.375467766021, 'Iran'],\n",
       "       [-9044.234647456451, 3098.2280940339615, 'Iraq'],\n",
       "       [45299.668810840296, -6356.0934867208525, 'Ireland'],\n",
       "       [21166.02810626764, -4261.187766765828, 'Israel'],\n",
       "       [29534.456628123866, -3506.717150361821, 'Italy'],\n",
       "       [-12336.286629961229, -261.0323919143975, 'Jamaica'],\n",
       "       [35219.82377018477, -10104.19038541756, 'Japan'],\n",
       "       [-11954.864806453694, 1475.478025350254, 'Jordan'],\n",
       "       [-527.1394266314528, 4860.09732491075, 'Kazakhstan'],\n",
       "       [-18898.45103351703, -1354.3678299608382, 'Kenya'],\n",
       "       [-19084.259018142577, -2249.640996025164, 'Kiribati'],\n",
       "       [59732.23732943711, 21320.36085743775, 'Kuwait'],\n",
       "       [-18732.871947601598, -1078.148582723119, 'Kyrgyz Republic'],\n",
       "       [-17689.50084549194, -449.7315807759933, 'Lao'],\n",
       "       [-303.46447589254456, 2003.0355363813537, 'Latvia'],\n",
       "       [-3433.0148788788124, 2402.4732884912705, 'Lebanon'],\n",
       "       [-18831.700494593166, -1570.588739115461, 'Lesotho'],\n",
       "       [-20631.695791899663, -2111.9527183746923, 'Liberia'],\n",
       "       [8458.294572763216, 9183.663375507276, 'Libya'],\n",
       "       [2212.2682551430025, 3417.656990583503, 'Lithuania'],\n",
       "       [117402.80249614117, -15674.306655159315, 'Luxembourg'],\n",
       "       [-9961.502270073255, 2176.195835926371, 'Macedonia, FYR'],\n",
       "       [-20071.147942527277, -1700.4685743263217, 'Madagascar'],\n",
       "       [-20301.205903140006, -1981.2025452272428, 'Malawi'],\n",
       "       [199.64710156790898, 5547.047988729735, 'Malaysia'],\n",
       "       [-8857.079488165215, -302.45581573243544, 'Maldives'],\n",
       "       [-19519.73497203663, -1585.1908722565677, 'Mali'],\n",
       "       [13695.734033584522, 1750.0528366749177, 'Malta'],\n",
       "       [-18127.94502483535, -946.6854464153257, 'Mauritania'],\n",
       "       [-4314.448842625841, 2752.7266341019713, 'Mauritius'],\n",
       "       [-16973.112613333968, -2139.3468438289847,\n",
       "        'Micronesia, Fed. Sts.'],\n",
       "       [-17403.733329152907, -853.8822995768023, 'Moldova'],\n",
       "       [-13941.461725739951, 1015.0808364296026, 'Mongolia'],\n",
       "       [-6601.981890679643, 2406.906193373029, 'Montenegro'],\n",
       "       [-14740.797717011776, 11.869072034011879, 'Morocco'],\n",
       "       [-20410.079867619585, -2029.0638908042783, 'Mozambique'],\n",
       "       [-17982.87573445335, -517.8888397799419, 'Myanmar'],\n",
       "       [-11651.685532147982, -315.7053036069419, 'Namibia'],\n",
       "       [-19512.139087091113, -1418.4186196449427, 'Nepal'],\n",
       "       [46253.3482186741, -7656.299907507473, 'Netherlands'],\n",
       "       [25257.644732053122, -4659.46903981598, 'New Zealand'],\n",
       "       [-20534.452701859955, -2048.9250814252773, 'Niger'],\n",
       "       [-16021.848553450729, -510.8960595059434, 'Nigeria'],\n",
       "       [84221.60299882435, -23369.364656377482, 'Norway'],\n",
       "       [24813.936793846475, 14735.479178734196, 'Oman'],\n",
       "       [-17540.19245877015, -171.01425623367686, 'Pakistan'],\n",
       "       [-4622.861337414363, 2351.150866926507, 'Panama'],\n",
       "       [-13848.281044007574, 305.06715459715906, 'Paraguay'],\n",
       "       [-10678.320886340665, 838.1982904102915, 'Peru'],\n",
       "       [-15832.097714773996, -56.40307118947112, 'Philippines'],\n",
       "       [3133.1189057848037, 3462.416182438126, 'Poland'],\n",
       "       [13857.905543183157, -23.109773463297643, 'Portugal'],\n",
       "       [117767.796732547, 32417.61231188925, 'Qatar'],\n",
       "       [-2775.6514003709804, 3890.67629732774, 'Romania'],\n",
       "       [2772.7568626685425, 5736.2014328751075, 'Russia'],\n",
       "       [-19997.18990224484, -1836.9736621618813, 'Rwanda'],\n",
       "       [-15070.722476256988, -1153.0886807432635, 'Samoa'],\n",
       "       [24886.59876974944, 14804.15184493841, 'Saudi Arabia'],\n",
       "       [-19093.807724187365, -1584.4201804652657, 'Senegal'],\n",
       "       [-8419.126824221783, 2436.8958222653177, 'Serbia'],\n",
       "       [879.2727688108355, 3808.944224681891, 'Seychelles'],\n",
       "       [-20204.397345922393, -1807.1302324930275, 'Sierra Leone'],\n",
       "       [63043.344018100644, 13304.440106320679, 'Singapore'],\n",
       "       [8351.698724845915, 2890.935542040381, 'Slovak Republic'],\n",
       "       [15566.26106449827, 353.207712202161, 'Slovenia'],\n",
       "       [-19185.256417443055, -2069.8909778654397, 'Solomon Islands'],\n",
       "       [-7643.383850784681, 597.0146919460867, 'South Africa'],\n",
       "       [15908.743840834597, 2465.7022386435, 'South Korea'],\n",
       "       [23342.27959296655, -2341.850567822232, 'Spain'],\n",
       "       [-13213.824507931973, 1482.6469111255092, 'Sri Lanka'],\n",
       "       [-9876.23420185702, -68.64170541970361,\n",
       "        'St. Vincent and the Grenadines'],\n",
       "       [-17899.278931179317, -1115.849785511089, 'Sudan'],\n",
       "       [-5343.857428565318, 1366.9619474544725, 'Suriname'],\n",
       "       [45600.22074862303, -10750.419503868714, 'Sweden'],\n",
       "       [70212.59696046116, -18447.226484822484, 'Switzerland'],\n",
       "       [-19324.64000902328, -1442.0929227077777, 'Tajikistan'],\n",
       "       [-19363.92269848624, -1429.6782391573179, 'Tanzania'],\n",
       "       [-8064.394857530688, 3226.2748231355713, 'Thailand'],\n",
       "       [-17547.69169504146, -3700.654628432393, 'Timor-Leste'],\n",
       "       [-20150.457553885983, -1878.6209741149978, 'Togo'],\n",
       "       [-15307.272707402408, -1514.2768483922146, 'Tonga'],\n",
       "       [-10963.01099488719, 1779.9975325489586, 'Tunisia'],\n",
       "       [-933.6604353984203, 2232.975774457098, 'Turkey'],\n",
       "       [-11091.269041407351, 1245.9964976621613, 'Turkmenistan'],\n",
       "       [-19837.141030440314, -1729.720425893589, 'Uganda'],\n",
       "       [-13641.695897675956, 858.0815278139144, 'Ukraine'],\n",
       "       [44537.33847445938, 11774.479512979842, 'United Arab Emirates'],\n",
       "       [31663.862009552904, -5759.631014300134, 'United Kingdom'],\n",
       "       [47782.50297677891, -3596.616071076707, 'United States'],\n",
       "       [-763.4370964085922, 742.6747648112843, 'Uruguay'],\n",
       "       [-17335.658854125097, -445.5348172395861, 'Uzbekistan'],\n",
       "       [-17180.967678648994, -2487.153834722729, 'Vanuatu'],\n",
       "       [-100.44597279559218, -832.2528018441545, 'Venezuela'],\n",
       "       [-17202.01718941138, -222.8898721733276, 'Vietnam'],\n",
       "       [-17209.340212965973, -229.8159005633188, 'Yemen'],\n",
       "       [-17978.421643205344, -1163.1246309085782, 'Zambia']], dtype=object)"
      ]
     },
     "execution_count": 419,
     "metadata": {},
     "output_type": "execute_result"
    }
   ],
   "source": [
    "newX3"
   ]
  },
  {
   "cell_type": "code",
   "execution_count": 376,
   "id": "a534cbe3",
   "metadata": {},
   "outputs": [],
   "source": [
    "colors = ['magenta', 'cyan']"
   ]
  },
  {
   "cell_type": "code",
   "execution_count": 427,
   "id": "cd61805a",
   "metadata": {
    "scrolled": true
   },
   "outputs": [
    {
     "data": {
      "image/png": "[encoded data removed]",
      "text/plain": [
       "<Figure size 936x576 with 1 Axes>"
      ]
     },
     "metadata": {},
     "output_type": "display_data"
    }
   ],
   "source": [
    "fig, ax = plt.subplots(figsize = (13, 8))\n",
    "\n",
    "for f in zip(y.unique()):\n",
    "    mask = newX3[:, 2] == f\n",
    "    ax.scatter(newX3[mask, 0], newX3[mask, 1], color = 'magenta', label = f)\n"
   ]
  },
  {
   "cell_type": "code",
   "execution_count": null,
   "id": "ed904f93",
   "metadata": {},
   "outputs": [],
   "source": []
  },
  {
   "cell_type": "code",
   "execution_count": null,
   "id": "1a26d5a7",
   "metadata": {},
   "outputs": [],
   "source": []
  },
  {
   "cell_type": "markdown",
   "id": "hollow-syndication",
   "metadata": {},
   "source": [
    "[Regresar al contenido](#Contenido)"
   ]
  }
 ],
 "metadata": {
  "kernelspec": {
   "display_name": "Python 3 (ipykernel)",
   "language": "python",
   "name": "python3"
  },
  "language_info": {
   "codemirror_mode": {
    "name": "ipython",
    "version": 3
   },
   "file_extension": ".py",
   "mimetype": "text/x-python",
   "name": "python",
   "nbconvert_exporter": "python",
   "pygments_lexer": "ipython3",
   "version": "3.9.7"
  },
  "varInspector": {
   "cols": {
    "lenName": 16,
    "lenType": 16,
    "lenVar": 40
   },
   "kernels_config": {
    "python": {
     "delete_cmd_postfix": "",
     "delete_cmd_prefix": "del ",
     "library": "var_list.py",
     "varRefreshCmd": "print(var_dic_list())"
    },
    "r": {
     "delete_cmd_postfix": ") ",
     "delete_cmd_prefix": "rm(",
     "library": "var_list.r",
     "varRefreshCmd": "cat(var_dic_list()) "
    }
   },
   "types_to_exclude": [
    "module",
    "function",
    "builtin_function_or_method",
    "instance",
    "_Feature"
   ],
   "window_display": false
  }
 },
 "nbformat": 4,
 "nbformat_minor": 5
}
